{
  "cells": [
    {
      "cell_type": "code",
      "source": [
        "from google.colab import drive\n",
        "drive.mount('/content/drive')"
      ],
      "metadata": {
        "id": "-WqTXOYfz1qi",
        "colab": {
          "base_uri": "https://localhost:8080/"
        },
        "outputId": "c28e3c45-a585-41f0-a263-05b889cb9ad6"
      },
      "execution_count": null,
      "outputs": [
        {
          "output_type": "stream",
          "name": "stdout",
          "text": [
            "Mounted at /content/drive\n"
          ]
        }
      ]
    },
    {
      "cell_type": "markdown",
      "source": [
        "# **INSTALL PACKAGE**"
      ],
      "metadata": {
        "id": "6ozJeaMFMCz0"
      }
    },
    {
      "cell_type": "code",
      "execution_count": null,
      "metadata": {
        "id": "48B9eAMMhAgw",
        "colab": {
          "base_uri": "https://localhost:8080/"
        },
        "outputId": "e5706130-37e6-40e3-86f6-ba133e51cb30"
      },
      "outputs": [
        {
          "output_type": "stream",
          "name": "stdout",
          "text": [
            "Collecting tensorflow-io\n",
            "  Downloading tensorflow_io-0.32.0-cp310-cp310-manylinux_2_12_x86_64.manylinux2010_x86_64.whl (28.0 MB)\n",
            "\u001b[2K     \u001b[90m━━━━━━━━━━━━━━━━━━━━━━━━━━━━━━━━━━━━━━━━\u001b[0m \u001b[32m28.0/28.0 MB\u001b[0m \u001b[31m60.2 MB/s\u001b[0m eta \u001b[36m0:00:00\u001b[0m\n",
            "\u001b[?25hRequirement already satisfied: tensorflow-io-gcs-filesystem==0.32.0 in /usr/local/lib/python3.10/dist-packages (from tensorflow-io) (0.32.0)\n",
            "Installing collected packages: tensorflow-io\n",
            "Successfully installed tensorflow-io-0.32.0\n",
            "Collecting kafka-python\n",
            "  Downloading kafka_python-2.0.2-py2.py3-none-any.whl (246 kB)\n",
            "\u001b[2K     \u001b[90m━━━━━━━━━━━━━━━━━━━━━━━━━━━━━━━━━━━━━━━\u001b[0m \u001b[32m246.5/246.5 kB\u001b[0m \u001b[31m5.6 MB/s\u001b[0m eta \u001b[36m0:00:00\u001b[0m\n",
            "\u001b[?25hInstalling collected packages: kafka-python\n",
            "Successfully installed kafka-python-2.0.2\n"
          ]
        }
      ],
      "source": [
        "!pip install tensorflow-io\n",
        "!pip install kafka-python"
      ]
    },
    {
      "cell_type": "code",
      "source": [
        "!pip install vncorenlp"
      ],
      "metadata": {
        "id": "DnC5oVSWM_x9",
        "colab": {
          "base_uri": "https://localhost:8080/"
        },
        "outputId": "621ffa98-c5a8-44f6-f6c8-1031608d3526"
      },
      "execution_count": null,
      "outputs": [
        {
          "output_type": "stream",
          "name": "stdout",
          "text": [
            "Collecting vncorenlp\n",
            "  Downloading vncorenlp-1.0.3.tar.gz (2.6 MB)\n",
            "\u001b[2K     \u001b[90m━━━━━━━━━━━━━━━━━━━━━━━━━━━━━━━━━━━━━━━━\u001b[0m \u001b[32m2.6/2.6 MB\u001b[0m \u001b[31m10.5 MB/s\u001b[0m eta \u001b[36m0:00:00\u001b[0m\n",
            "\u001b[?25h  Preparing metadata (setup.py) ... \u001b[?25l\u001b[?25hdone\n",
            "Requirement already satisfied: requests in /usr/local/lib/python3.10/dist-packages (from vncorenlp) (2.27.1)\n",
            "Requirement already satisfied: urllib3<1.27,>=1.21.1 in /usr/local/lib/python3.10/dist-packages (from requests->vncorenlp) (1.26.16)\n",
            "Requirement already satisfied: certifi>=2017.4.17 in /usr/local/lib/python3.10/dist-packages (from requests->vncorenlp) (2023.5.7)\n",
            "Requirement already satisfied: charset-normalizer~=2.0.0 in /usr/local/lib/python3.10/dist-packages (from requests->vncorenlp) (2.0.12)\n",
            "Requirement already satisfied: idna<4,>=2.5 in /usr/local/lib/python3.10/dist-packages (from requests->vncorenlp) (3.4)\n",
            "Building wheels for collected packages: vncorenlp\n",
            "  Building wheel for vncorenlp (setup.py) ... \u001b[?25l\u001b[?25hdone\n",
            "  Created wheel for vncorenlp: filename=vncorenlp-1.0.3-py3-none-any.whl size=2645933 sha256=b56c28bb6c5512d073d9f0c2c01eee323bc597bca82c85252199e15ab7c92091\n",
            "  Stored in directory: /root/.cache/pip/wheels/5d/d9/b3/41f6c6b1ab758561fd4aab55dc0480b9d7a131c6aaa573a3fa\n",
            "Successfully built vncorenlp\n",
            "Installing collected packages: vncorenlp\n",
            "Successfully installed vncorenlp-1.0.3\n"
          ]
        }
      ]
    },
    {
      "cell_type": "code",
      "source": [
        "!mkdir -p vncorenlp/models/wordsegmenter\n",
        "!wget https://raw.githubusercontent.com/vncorenlp/VnCoreNLP/master/VnCoreNLP-1.1.1.jar\n",
        "!wget https://raw.githubusercontent.com/vncorenlp/VnCoreNLP/master/models/wordsegmenter/vi-vocab\n",
        "!wget https://raw.githubusercontent.com/vncorenlp/VnCoreNLP/master/models/wordsegmenter/wordsegmenter.rdr\n",
        "!mv VnCoreNLP-1.1.1.jar vncorenlp/\n",
        "!mv vi-vocab vncorenlp/models/wordsegmenter/\n",
        "!mv wordsegmenter.rdr vncorenlp/models/wordsegmenter/"
      ],
      "metadata": {
        "id": "GMGkUMwgNDyR",
        "colab": {
          "base_uri": "https://localhost:8080/"
        },
        "outputId": "befb90a9-c734-4d89-8d6f-bf7daf92f03d"
      },
      "execution_count": null,
      "outputs": [
        {
          "output_type": "stream",
          "name": "stdout",
          "text": [
            "--2023-07-21 05:46:08--  https://raw.githubusercontent.com/vncorenlp/VnCoreNLP/master/VnCoreNLP-1.1.1.jar\n",
            "Resolving raw.githubusercontent.com (raw.githubusercontent.com)... 185.199.108.133, 185.199.109.133, 185.199.110.133, ...\n",
            "Connecting to raw.githubusercontent.com (raw.githubusercontent.com)|185.199.108.133|:443... connected.\n",
            "HTTP request sent, awaiting response... 200 OK\n",
            "Length: 27412575 (26M) [application/octet-stream]\n",
            "Saving to: ‘VnCoreNLP-1.1.1.jar’\n",
            "\n",
            "VnCoreNLP-1.1.1.jar 100%[===================>]  26.14M   126MB/s    in 0.2s    \n",
            "\n",
            "2023-07-21 05:46:09 (126 MB/s) - ‘VnCoreNLP-1.1.1.jar’ saved [27412575/27412575]\n",
            "\n",
            "--2023-07-21 05:46:09--  https://raw.githubusercontent.com/vncorenlp/VnCoreNLP/master/models/wordsegmenter/vi-vocab\n",
            "Resolving raw.githubusercontent.com (raw.githubusercontent.com)... 185.199.111.133, 185.199.110.133, 185.199.109.133, ...\n",
            "Connecting to raw.githubusercontent.com (raw.githubusercontent.com)|185.199.111.133|:443... connected.\n",
            "HTTP request sent, awaiting response... 200 OK\n",
            "Length: 526544 (514K) [application/octet-stream]\n",
            "Saving to: ‘vi-vocab’\n",
            "\n",
            "vi-vocab            100%[===================>] 514.20K  --.-KB/s    in 0.03s   \n",
            "\n",
            "2023-07-21 05:46:09 (14.7 MB/s) - ‘vi-vocab’ saved [526544/526544]\n",
            "\n",
            "--2023-07-21 05:46:09--  https://raw.githubusercontent.com/vncorenlp/VnCoreNLP/master/models/wordsegmenter/wordsegmenter.rdr\n",
            "Resolving raw.githubusercontent.com (raw.githubusercontent.com)... 185.199.110.133, 185.199.111.133, 185.199.109.133, ...\n",
            "Connecting to raw.githubusercontent.com (raw.githubusercontent.com)|185.199.110.133|:443... connected.\n",
            "HTTP request sent, awaiting response... 200 OK\n",
            "Length: 128508 (125K) [text/plain]\n",
            "Saving to: ‘wordsegmenter.rdr’\n",
            "\n",
            "wordsegmenter.rdr   100%[===================>] 125.50K  --.-KB/s    in 0.02s   \n",
            "\n",
            "2023-07-21 05:46:10 (7.65 MB/s) - ‘wordsegmenter.rdr’ saved [128508/128508]\n",
            "\n"
          ]
        }
      ]
    },
    {
      "cell_type": "code",
      "source": [
        "!pip install emot"
      ],
      "metadata": {
        "id": "g6TIngbOJDcV",
        "colab": {
          "base_uri": "https://localhost:8080/"
        },
        "outputId": "92c96d0b-b930-4ffc-c65e-79219ab2a195"
      },
      "execution_count": null,
      "outputs": [
        {
          "output_type": "stream",
          "name": "stdout",
          "text": [
            "Collecting emot\n",
            "  Downloading emot-3.1-py3-none-any.whl (61 kB)\n",
            "\u001b[2K     \u001b[90m━━━━━━━━━━━━━━━━━━━━━━━━━━━━━━━━━━━━━━━━\u001b[0m \u001b[32m61.5/61.5 kB\u001b[0m \u001b[31m1.4 MB/s\u001b[0m eta \u001b[36m0:00:00\u001b[0m\n",
            "\u001b[?25hInstalling collected packages: emot\n",
            "Successfully installed emot-3.1\n"
          ]
        }
      ]
    },
    {
      "cell_type": "code",
      "source": [
        "!pip install transformers"
      ],
      "metadata": {
        "colab": {
          "base_uri": "https://localhost:8080/"
        },
        "id": "r3G7hfq0i1tl",
        "outputId": "8f059809-d833-456f-8a2e-95de0054a80c"
      },
      "execution_count": null,
      "outputs": [
        {
          "output_type": "stream",
          "name": "stdout",
          "text": [
            "Collecting transformers\n",
            "  Downloading transformers-4.31.0-py3-none-any.whl (7.4 MB)\n",
            "\u001b[2K     \u001b[90m━━━━━━━━━━━━━━━━━━━━━━━━━━━━━━━━━━━━━━━━\u001b[0m \u001b[32m7.4/7.4 MB\u001b[0m \u001b[31m14.2 MB/s\u001b[0m eta \u001b[36m0:00:00\u001b[0m\n",
            "\u001b[?25hRequirement already satisfied: filelock in /usr/local/lib/python3.10/dist-packages (from transformers) (3.12.2)\n",
            "Collecting huggingface-hub<1.0,>=0.14.1 (from transformers)\n",
            "  Downloading huggingface_hub-0.16.4-py3-none-any.whl (268 kB)\n",
            "\u001b[2K     \u001b[90m━━━━━━━━━━━━━━━━━━━━━━━━━━━━━━━━━━━━━━\u001b[0m \u001b[32m268.8/268.8 kB\u001b[0m \u001b[31m18.8 MB/s\u001b[0m eta \u001b[36m0:00:00\u001b[0m\n",
            "\u001b[?25hRequirement already satisfied: numpy>=1.17 in /usr/local/lib/python3.10/dist-packages (from transformers) (1.22.4)\n",
            "Requirement already satisfied: packaging>=20.0 in /usr/local/lib/python3.10/dist-packages (from transformers) (23.1)\n",
            "Requirement already satisfied: pyyaml>=5.1 in /usr/local/lib/python3.10/dist-packages (from transformers) (6.0)\n",
            "Requirement already satisfied: regex!=2019.12.17 in /usr/local/lib/python3.10/dist-packages (from transformers) (2022.10.31)\n",
            "Requirement already satisfied: requests in /usr/local/lib/python3.10/dist-packages (from transformers) (2.27.1)\n",
            "Collecting tokenizers!=0.11.3,<0.14,>=0.11.1 (from transformers)\n",
            "  Downloading tokenizers-0.13.3-cp310-cp310-manylinux_2_17_x86_64.manylinux2014_x86_64.whl (7.8 MB)\n",
            "\u001b[2K     \u001b[90m━━━━━━━━━━━━━━━━━━━━━━━━━━━━━━━━━━━━━━━━\u001b[0m \u001b[32m7.8/7.8 MB\u001b[0m \u001b[31m31.5 MB/s\u001b[0m eta \u001b[36m0:00:00\u001b[0m\n",
            "\u001b[?25hCollecting safetensors>=0.3.1 (from transformers)\n",
            "  Downloading safetensors-0.3.1-cp310-cp310-manylinux_2_17_x86_64.manylinux2014_x86_64.whl (1.3 MB)\n",
            "\u001b[2K     \u001b[90m━━━━━━━━━━━━━━━━━━━━━━━━━━━━━━━━━━━━━━━━\u001b[0m \u001b[32m1.3/1.3 MB\u001b[0m \u001b[31m47.0 MB/s\u001b[0m eta \u001b[36m0:00:00\u001b[0m\n",
            "\u001b[?25hRequirement already satisfied: tqdm>=4.27 in /usr/local/lib/python3.10/dist-packages (from transformers) (4.65.0)\n",
            "Requirement already satisfied: fsspec in /usr/local/lib/python3.10/dist-packages (from huggingface-hub<1.0,>=0.14.1->transformers) (2023.6.0)\n",
            "Requirement already satisfied: typing-extensions>=3.7.4.3 in /usr/local/lib/python3.10/dist-packages (from huggingface-hub<1.0,>=0.14.1->transformers) (4.7.1)\n",
            "Requirement already satisfied: urllib3<1.27,>=1.21.1 in /usr/local/lib/python3.10/dist-packages (from requests->transformers) (1.26.16)\n",
            "Requirement already satisfied: certifi>=2017.4.17 in /usr/local/lib/python3.10/dist-packages (from requests->transformers) (2023.5.7)\n",
            "Requirement already satisfied: charset-normalizer~=2.0.0 in /usr/local/lib/python3.10/dist-packages (from requests->transformers) (2.0.12)\n",
            "Requirement already satisfied: idna<4,>=2.5 in /usr/local/lib/python3.10/dist-packages (from requests->transformers) (3.4)\n",
            "Installing collected packages: tokenizers, safetensors, huggingface-hub, transformers\n",
            "Successfully installed huggingface-hub-0.16.4 safetensors-0.3.1 tokenizers-0.13.3 transformers-4.31.0\n"
          ]
        }
      ]
    },
    {
      "cell_type": "markdown",
      "source": [
        "# **IMPORT LIBRARY**"
      ],
      "metadata": {
        "id": "ANuyj-XUMGva"
      }
    },
    {
      "cell_type": "code",
      "execution_count": null,
      "metadata": {
        "id": "m6KXZuTBWgRm"
      },
      "outputs": [],
      "source": [
        "import os\n",
        "import re\n",
        "import sys\n",
        "import emot\n",
        "import time\n",
        "import json\n",
        "import requests\n",
        "import threading\n",
        "import traceback\n",
        "import itertools\n",
        "import numpy as np\n",
        "import pandas as pd\n",
        "from tqdm import tqdm\n",
        "import dateutil.parser\n",
        "import tensorflow as tf\n",
        "from random import randint\n",
        "import tensorflow_io as tfio\n",
        "from datetime import datetime\n",
        "from vncorenlp import VnCoreNLP\n",
        "from kafka import KafkaProducer\n",
        "from kafka.errors import KafkaError\n",
        "from sklearn.model_selection import train_test_split\n",
        "from emot.emo_unicode import UNICODE_EMOJI, EMOTICONS_EMO\n",
        "from transformers import XLMRobertaTokenizer, XLMRobertaModel"
      ]
    },
    {
      "cell_type": "code",
      "execution_count": null,
      "metadata": {
        "id": "dX74RKfZ_TdF",
        "colab": {
          "base_uri": "https://localhost:8080/"
        },
        "outputId": "98974327-0d62-4aed-a855-e906fcd261c7"
      },
      "outputs": [
        {
          "output_type": "stream",
          "name": "stdout",
          "text": [
            "tensorflow-io version: 0.32.0\n",
            "tensorflow version: 2.12.0\n"
          ]
        }
      ],
      "source": [
        "print(\"tensorflow-io version: {}\".format(tfio.__version__))\n",
        "print(\"tensorflow version: {}\".format(tf.__version__))"
      ]
    },
    {
      "cell_type": "markdown",
      "source": [
        "# **SETUP KAFKA**\n",
        "Download and setup kafka zookeeper and kafka server"
      ],
      "metadata": {
        "id": "uNKuolg3MKjS"
      }
    },
    {
      "cell_type": "code",
      "execution_count": null,
      "metadata": {
        "id": "YUj0878jPyz7"
      },
      "outputs": [],
      "source": [
        "!curl -sSOL https://downloads.apache.org/kafka/3.4.1/kafka_2.13-3.4.1.tgz\n",
        "!tar -xzf kafka_2.13-3.4.1.tgz"
      ]
    },
    {
      "cell_type": "code",
      "execution_count": null,
      "metadata": {
        "id": "n9ujlunrWgRx",
        "colab": {
          "base_uri": "https://localhost:8080/"
        },
        "outputId": "9b395a56-45f0-4e27-fd59-22f000a2b80c"
      },
      "outputs": [
        {
          "output_type": "stream",
          "name": "stdout",
          "text": [
            "Waiting for 10 secs until kafka and zookeeper services are up and running\n"
          ]
        }
      ],
      "source": [
        "!./kafka_2.13-3.4.1/bin/zookeeper-server-start.sh -daemon ./kafka_2.13-3.4.1/config/zookeeper.properties\n",
        "!./kafka_2.13-3.4.1/bin/kafka-server-start.sh -daemon ./kafka_2.13-3.4.1/config/server.properties\n",
        "!echo \"Waiting for 10 secs until kafka and zookeeper services are up and running\"\n",
        "!sleep 10"
      ]
    },
    {
      "cell_type": "code",
      "execution_count": null,
      "metadata": {
        "id": "48LqMJ1BEHm5",
        "colab": {
          "base_uri": "https://localhost:8080/"
        },
        "outputId": "1fe4863b-e1d7-46ed-c131-290f61bad419"
      },
      "outputs": [
        {
          "output_type": "stream",
          "name": "stdout",
          "text": [
            "root        1480       1 15 05:47 ?        00:00:01 java -Xmx512M -Xms512M -server -XX:+UseG1GC -XX:MaxGCPauseMillis=20 -XX:InitiatingHeapOccupancyPercent=35 -XX:+ExplicitGCInvokesConcurrent -XX:MaxInlineLevel=15 -Djava.awt.headless=true -Xlog:gc*:file=/content/kafka_2.13-3.4.1/bin/../logs/zookeeper-gc.log:time,tags:filecount=10,filesize=100M -Dcom.sun.management.jmxremote -Dcom.sun.management.jmxremote.authenticate=false -Dcom.sun.management.jmxremote.ssl=false -Dkafka.logs.dir=/content/kafka_2.13-3.4.1/bin/../logs -Dlog4j.configuration=file:./kafka_2.13-3.4.1/bin/../config/log4j.properties -cp /content/kafka_2.13-3.4.1/bin/../libs/activation-1.1.1.jar:/content/kafka_2.13-3.4.1/bin/../libs/aopalliance-repackaged-2.6.1.jar:/content/kafka_2.13-3.4.1/bin/../libs/argparse4j-0.7.0.jar:/content/kafka_2.13-3.4.1/bin/../libs/audience-annotations-0.13.0.jar:/content/kafka_2.13-3.4.1/bin/../libs/commons-cli-1.4.jar:/content/kafka_2.13-3.4.1/bin/../libs/commons-lang3-3.8.1.jar:/content/kafka_2.13-3.4.1/bin/../libs/connect-api-3.4.1.jar:/content/kafka_2.13-3.4.1/bin/../libs/connect-basic-auth-extension-3.4.1.jar:/content/kafka_2.13-3.4.1/bin/../libs/connect-json-3.4.1.jar:/content/kafka_2.13-3.4.1/bin/../libs/connect-mirror-3.4.1.jar:/content/kafka_2.13-3.4.1/bin/../libs/connect-mirror-client-3.4.1.jar:/content/kafka_2.13-3.4.1/bin/../libs/connect-runtime-3.4.1.jar:/content/kafka_2.13-3.4.1/bin/../libs/connect-transforms-3.4.1.jar:/content/kafka_2.13-3.4.1/bin/../libs/hk2-api-2.6.1.jar:/content/kafka_2.13-3.4.1/bin/../libs/hk2-locator-2.6.1.jar:/content/kafka_2.13-3.4.1/bin/../libs/hk2-utils-2.6.1.jar:/content/kafka_2.13-3.4.1/bin/../libs/jackson-annotations-2.13.5.jar:/content/kafka_2.13-3.4.1/bin/../libs/jackson-core-2.13.5.jar:/content/kafka_2.13-3.4.1/bin/../libs/jackson-databind-2.13.5.jar:/content/kafka_2.13-3.4.1/bin/../libs/jackson-dataformat-csv-2.13.5.jar:/content/kafka_2.13-3.4.1/bin/../libs/jackson-datatype-jdk8-2.13.5.jar:/content/kafka_2.13-3.4.1/bin/../libs/jackson-jaxrs-base-2.13.5.jar:/content/kafka_2.13-3.4.1/bin/../libs/jackson-jaxrs-json-provider-2.13.5.jar:/content/kafka_2.13-3.4.1/bin/../libs/jackson-module-jaxb-annotations-2.13.5.jar:/content/kafka_2.13-3.4.1/bin/../libs/jackson-module-scala_2.13-2.13.5.jar:/content/kafka_2.13-3.4.1/bin/../libs/jakarta.activation-api-1.2.2.jar:/content/kafka_2.13-3.4.1/bin/../libs/jakarta.annotation-api-1.3.5.jar:/content/kafka_2.13-3.4.1/bin/../libs/jakarta.inject-2.6.1.jar:/content/kafka_2.13-3.4.1/bin/../libs/jakarta.validation-api-2.0.2.jar:/content/kafka_2.13-3.4.1/bin/../libs/jakarta.ws.rs-api-2.1.6.jar:/content/kafka_2.13-3.4.1/bin/../libs/jakarta.xml.bind-api-2.3.3.jar:/content/kafka_2.13-3.4.1/bin/../libs/javassist-3.29.2-GA.jar:/content/kafka_2.13-3.4.1/bin/../libs/javax.activation-api-1.2.0.jar:/content/kafka_2.13-3.4.1/bin/../libs/javax.annotation-api-1.3.2.jar:/content/kafka_2.13-3.4.1/bin/../libs/javax.servlet-api-3.1.0.jar:/content/kafka_2.13-3.4.1/bin/../libs/javax.ws.rs-api-2.1.1.jar:/content/kafka_2.13-3.4.1/bin/../libs/jaxb-api-2.3.1.jar:/content/kafka_2.13-3.4.1/bin/../libs/jersey-client-2.39.1.jar:/content/kafka_2.13-3.4.1/bin/../libs/jersey-common-2.39.1.jar:/content/kafka_2.13-3.4.1/bin/../libs/jersey-container-servlet-2.39.1.jar:/content/kafka_2.13-3.4.1/bin/../libs/jersey-container-servlet-core-2.39.1.jar:/content/kafka_2.13-3.4.1/bin/../libs/jersey-hk2-2.39.1.jar:/content/kafka_2.13-3.4.1/bin/../libs/jersey-server-2.39.1.jar:/content/kafka_2.13-3.4.1/bin/../libs/jetty-client-9.4.51.v20230217.jar:/content/kafka_2.13-3.4.1/bin/../libs/jetty-continuation-9.4.51.v20230217.jar:/content/kafka_2.13-3.4.1/bin/../libs/jetty-http-9.4.51.v20230217.jar:/content/kafka_2.13-3.4.1/bin/../libs/jetty-io-9.4.51.v20230217.jar:/content/kafka_2.13-3.4.1/bin/../libs/jetty-security-9.4.51.v20230217.jar:/content/kafka_2.13-3.4.1/bin/../libs/jetty-server-9.4.51.v20230217.jar:/content/kafka_2.13-3.4.1/bin/../libs/jetty-servlet-9.4.51.v20230217.jar:/content/kafka_2.13-3.4.1/bin/../libs/jetty-servlets-9.4.51.v20230217.jar:/content/kafka_2.13-3.4.1/bin/../libs/jetty-util-9.4.51.v20230217.jar:/content/kafka_2.13-3.4.1/bin/../libs/jetty-util-ajax-9.4.51.v20230217.jar:/content/kafka_2.13-3.4.1/bin/../libs/jline-3.22.0.jar:/content/kafka_2.13-3.4.1/bin/../libs/jopt-simple-5.0.4.jar:/content/kafka_2.13-3.4.1/bin/../libs/jose4j-0.9.3.jar:/content/kafka_2.13-3.4.1/bin/../libs/kafka_2.13-3.4.1.jar:/content/kafka_2.13-3.4.1/bin/../libs/kafka-clients-3.4.1.jar:/content/kafka_2.13-3.4.1/bin/../libs/kafka-group-coordinator-3.4.1.jar:/content/kafka_2.13-3.4.1/bin/../libs/kafka-log4j-appender-3.4.1.jar:/content/kafka_2.13-3.4.1/bin/../libs/kafka-metadata-3.4.1.jar:/content/kafka_2.13-3.4.1/bin/../libs/kafka-raft-3.4.1.jar:/content/kafka_2.13-3.4.1/bin/../libs/kafka-server-common-3.4.1.jar:/content/kafka_2.13-3.4.1/bin/../libs/kafka-shell-3.4.1.jar:/content/kafka_2.13-3.4.1/bin/../libs/kafka-storage-3.4.1.jar:/content/kafka_2.13-3.4.1/bin/../libs/kafka-storage-api-3.4.1.jar:/content/kafka_2.13-3.4.1/bin/../libs/kafka-streams-3.4.1.jar:/content/kafka_2.13-3.4.1/bin/../libs/kafka-streams-examples-3.4.1.jar:/content/kafka_2.13-3.4.1/bin/../libs/kafka-streams-scala_2.13-3.4.1.jar:/content/kafka_2.13-3.4.1/bin/../libs/kafka-streams-test-utils-3.4.1.jar:/content/kafka_2.13-3.4.1/bin/../libs/kafka-tools-3.4.1.jar:/content/kafka_2.13-3.4.1/bin/../libs/lz4-java-1.8.0.jar:/content/kafka_2.13-3.4.1/bin/../libs/maven-artifact-3.8.4.jar:/content/kafka_2.13-3.4.1/bin/../libs/metrics-core-2.2.0.jar:/content/kafka_2.13-3.4.1/bin/../libs/metrics-core-4.1.12.1.jar:/content/kafka_2.13-3.4.1/bin/../libs/netty-buffer-4.1.92.Final.jar:/content/kafka_2.13-3.4.1/bin/../libs/netty-codec-4.1.92.Final.jar:/content/kafka_2.13-3.4.1/bin/../libs/netty-common-4.1.92.Final.jar:/content/kafka_2.13-3.4.1/bin/../libs/netty-handler-4.1.92.Final.jar:/content/kafka_2.13-3.4.1/bin/../libs/netty-resolver-4.1.92.Final.jar:/content/kafka_2.13-3.4.1/bin/../libs/netty-transport-4.1.92.Final.jar:/content/kafka_2.13-3.4.1/bin/../libs/netty-transport-classes-epoll-4.1.92.Final.jar:/content/kafka_2.13-3.4.1/bin/../libs/netty-transport-native-epoll-4.1.92.Final.jar:/content/kafka_2.13-3.4.1/bin/../libs/netty-transport-native-unix-common-4.1.92.Final.jar:/content/kafka_2.13-3.4.1/bin/../libs/osgi-resource-locator-1.0.3.jar:/content/kafka_2.13-3.4.1/bin/../libs/paranamer-2.8.jar:/content/kafka_2.13-3.4.1/bin/../libs/plexus-utils-3.3.0.jar:/content/kafka_2.13-3.4.1/bin/../libs/reflections-0.9.12.jar:/content/kafka_2.13-3.4.1/bin/../libs/reload4j-1.2.25.jar:/content/kafka_2.13-3.4.1/bin/../libs/rocksdbjni-7.1.2.jar:/content/kafka_2.13-3.4.1/bin/../libs/scala-collection-compat_2.13-2.10.0.jar:/content/kafka_2.13-3.4.1/bin/../libs/scala-java8-compat_2.13-1.0.2.jar:/content/kafka_2.13-3.4.1/bin/../libs/scala-library-2.13.10.jar:/content/kafka_2.13-3.4.1/bin/../libs/scala-logging_2.13-3.9.4.jar:/content/kafka_2.13-3.4.1/bin/../libs/scala-reflect-2.13.10.jar:/content/kafka_2.13-3.4.1/bin/../libs/slf4j-api-1.7.36.jar:/content/kafka_2.13-3.4.1/bin/../libs/slf4j-reload4j-1.7.36.jar:/content/kafka_2.13-3.4.1/bin/../libs/snappy-java-1.1.8.4.jar:/content/kafka_2.13-3.4.1/bin/../libs/swagger-annotations-2.2.0.jar:/content/kafka_2.13-3.4.1/bin/../libs/trogdor-3.4.1.jar:/content/kafka_2.13-3.4.1/bin/../libs/zookeeper-3.6.4.jar:/content/kafka_2.13-3.4.1/bin/../libs/zookeeper-jute-3.6.4.jar:/content/kafka_2.13-3.4.1/bin/../libs/zstd-jni-1.5.2-1.jar org.apache.zookeeper.server.quorum.QuorumPeerMain ./kafka_2.13-3.4.1/config/zookeeper.properties\n",
            "root        1840       1 52 05:47 ?        00:00:05 java -Xmx1G -Xms1G -server -XX:+UseG1GC -XX:MaxGCPauseMillis=20 -XX:InitiatingHeapOccupancyPercent=35 -XX:+ExplicitGCInvokesConcurrent -XX:MaxInlineLevel=15 -Djava.awt.headless=true -Xlog:gc*:file=/content/kafka_2.13-3.4.1/bin/../logs/kafkaServer-gc.log:time,tags:filecount=10,filesize=100M -Dcom.sun.management.jmxremote -Dcom.sun.management.jmxremote.authenticate=false -Dcom.sun.management.jmxremote.ssl=false -Dkafka.logs.dir=/content/kafka_2.13-3.4.1/bin/../logs -Dlog4j.configuration=file:./kafka_2.13-3.4.1/bin/../config/log4j.properties -cp /content/kafka_2.13-3.4.1/bin/../libs/activation-1.1.1.jar:/content/kafka_2.13-3.4.1/bin/../libs/aopalliance-repackaged-2.6.1.jar:/content/kafka_2.13-3.4.1/bin/../libs/argparse4j-0.7.0.jar:/content/kafka_2.13-3.4.1/bin/../libs/audience-annotations-0.13.0.jar:/content/kafka_2.13-3.4.1/bin/../libs/commons-cli-1.4.jar:/content/kafka_2.13-3.4.1/bin/../libs/commons-lang3-3.8.1.jar:/content/kafka_2.13-3.4.1/bin/../libs/connect-api-3.4.1.jar:/content/kafka_2.13-3.4.1/bin/../libs/connect-basic-auth-extension-3.4.1.jar:/content/kafka_2.13-3.4.1/bin/../libs/connect-json-3.4.1.jar:/content/kafka_2.13-3.4.1/bin/../libs/connect-mirror-3.4.1.jar:/content/kafka_2.13-3.4.1/bin/../libs/connect-mirror-client-3.4.1.jar:/content/kafka_2.13-3.4.1/bin/../libs/connect-runtime-3.4.1.jar:/content/kafka_2.13-3.4.1/bin/../libs/connect-transforms-3.4.1.jar:/content/kafka_2.13-3.4.1/bin/../libs/hk2-api-2.6.1.jar:/content/kafka_2.13-3.4.1/bin/../libs/hk2-locator-2.6.1.jar:/content/kafka_2.13-3.4.1/bin/../libs/hk2-utils-2.6.1.jar:/content/kafka_2.13-3.4.1/bin/../libs/jackson-annotations-2.13.5.jar:/content/kafka_2.13-3.4.1/bin/../libs/jackson-core-2.13.5.jar:/content/kafka_2.13-3.4.1/bin/../libs/jackson-databind-2.13.5.jar:/content/kafka_2.13-3.4.1/bin/../libs/jackson-dataformat-csv-2.13.5.jar:/content/kafka_2.13-3.4.1/bin/../libs/jackson-datatype-jdk8-2.13.5.jar:/content/kafka_2.13-3.4.1/bin/../libs/jackson-jaxrs-base-2.13.5.jar:/content/kafka_2.13-3.4.1/bin/../libs/jackson-jaxrs-json-provider-2.13.5.jar:/content/kafka_2.13-3.4.1/bin/../libs/jackson-module-jaxb-annotations-2.13.5.jar:/content/kafka_2.13-3.4.1/bin/../libs/jackson-module-scala_2.13-2.13.5.jar:/content/kafka_2.13-3.4.1/bin/../libs/jakarta.activation-api-1.2.2.jar:/content/kafka_2.13-3.4.1/bin/../libs/jakarta.annotation-api-1.3.5.jar:/content/kafka_2.13-3.4.1/bin/../libs/jakarta.inject-2.6.1.jar:/content/kafka_2.13-3.4.1/bin/../libs/jakarta.validation-api-2.0.2.jar:/content/kafka_2.13-3.4.1/bin/../libs/jakarta.ws.rs-api-2.1.6.jar:/content/kafka_2.13-3.4.1/bin/../libs/jakarta.xml.bind-api-2.3.3.jar:/content/kafka_2.13-3.4.1/bin/../libs/javassist-3.29.2-GA.jar:/content/kafka_2.13-3.4.1/bin/../libs/javax.activation-api-1.2.0.jar:/content/kafka_2.13-3.4.1/bin/../libs/javax.annotation-api-1.3.2.jar:/content/kafka_2.13-3.4.1/bin/../libs/javax.servlet-api-3.1.0.jar:/content/kafka_2.13-3.4.1/bin/../libs/javax.ws.rs-api-2.1.1.jar:/content/kafka_2.13-3.4.1/bin/../libs/jaxb-api-2.3.1.jar:/content/kafka_2.13-3.4.1/bin/../libs/jersey-client-2.39.1.jar:/content/kafka_2.13-3.4.1/bin/../libs/jersey-common-2.39.1.jar:/content/kafka_2.13-3.4.1/bin/../libs/jersey-container-servlet-2.39.1.jar:/content/kafka_2.13-3.4.1/bin/../libs/jersey-container-servlet-core-2.39.1.jar:/content/kafka_2.13-3.4.1/bin/../libs/jersey-hk2-2.39.1.jar:/content/kafka_2.13-3.4.1/bin/../libs/jersey-server-2.39.1.jar:/content/kafka_2.13-3.4.1/bin/../libs/jetty-client-9.4.51.v20230217.jar:/content/kafka_2.13-3.4.1/bin/../libs/jetty-continuation-9.4.51.v20230217.jar:/content/kafka_2.13-3.4.1/bin/../libs/jetty-http-9.4.51.v20230217.jar:/content/kafka_2.13-3.4.1/bin/../libs/jetty-io-9.4.51.v20230217.jar:/content/kafka_2.13-3.4.1/bin/../libs/jetty-security-9.4.51.v20230217.jar:/content/kafka_2.13-3.4.1/bin/../libs/jetty-server-9.4.51.v20230217.jar:/content/kafka_2.13-3.4.1/bin/../libs/jetty-servlet-9.4.51.v20230217.jar:/content/kafka_2.13-3.4.1/bin/../libs/jetty-servlets-9.4.51.v20230217.jar:/content/kafka_2.13-3.4.1/bin/../libs/jetty-util-9.4.51.v20230217.jar:/content/kafka_2.13-3.4.1/bin/../libs/jetty-util-ajax-9.4.51.v20230217.jar:/content/kafka_2.13-3.4.1/bin/../libs/jline-3.22.0.jar:/content/kafka_2.13-3.4.1/bin/../libs/jopt-simple-5.0.4.jar:/content/kafka_2.13-3.4.1/bin/../libs/jose4j-0.9.3.jar:/content/kafka_2.13-3.4.1/bin/../libs/kafka_2.13-3.4.1.jar:/content/kafka_2.13-3.4.1/bin/../libs/kafka-clients-3.4.1.jar:/content/kafka_2.13-3.4.1/bin/../libs/kafka-group-coordinator-3.4.1.jar:/content/kafka_2.13-3.4.1/bin/../libs/kafka-log4j-appender-3.4.1.jar:/content/kafka_2.13-3.4.1/bin/../libs/kafka-metadata-3.4.1.jar:/content/kafka_2.13-3.4.1/bin/../libs/kafka-raft-3.4.1.jar:/content/kafka_2.13-3.4.1/bin/../libs/kafka-server-common-3.4.1.jar:/content/kafka_2.13-3.4.1/bin/../libs/kafka-shell-3.4.1.jar:/content/kafka_2.13-3.4.1/bin/../libs/kafka-storage-3.4.1.jar:/content/kafka_2.13-3.4.1/bin/../libs/kafka-storage-api-3.4.1.jar:/content/kafka_2.13-3.4.1/bin/../libs/kafka-streams-3.4.1.jar:/content/kafka_2.13-3.4.1/bin/../libs/kafka-streams-examples-3.4.1.jar:/content/kafka_2.13-3.4.1/bin/../libs/kafka-streams-scala_2.13-3.4.1.jar:/content/kafka_2.13-3.4.1/bin/../libs/kafka-streams-test-utils-3.4.1.jar:/content/kafka_2.13-3.4.1/bin/../libs/kafka-tools-3.4.1.jar:/content/kafka_2.13-3.4.1/bin/../libs/lz4-java-1.8.0.jar:/content/kafka_2.13-3.4.1/bin/../libs/maven-artifact-3.8.4.jar:/content/kafka_2.13-3.4.1/bin/../libs/metrics-core-2.2.0.jar:/content/kafka_2.13-3.4.1/bin/../libs/metrics-core-4.1.12.1.jar:/content/kafka_2.13-3.4.1/bin/../libs/netty-buffer-4.1.92.Final.jar:/content/kafka_2.13-3.4.1/bin/../libs/netty-codec-4.1.92.Final.jar:/content/kafka_2.13-3.4.1/bin/../libs/netty-common-4.1.92.Final.jar:/content/kafka_2.13-3.4.1/bin/../libs/netty-handler-4.1.92.Final.jar:/content/kafka_2.13-3.4.1/bin/../libs/netty-resolver-4.1.92.Final.jar:/content/kafka_2.13-3.4.1/bin/../libs/netty-transport-4.1.92.Final.jar:/content/kafka_2.13-3.4.1/bin/../libs/netty-transport-classes-epoll-4.1.92.Final.jar:/content/kafka_2.13-3.4.1/bin/../libs/netty-transport-native-epoll-4.1.92.Final.jar:/content/kafka_2.13-3.4.1/bin/../libs/netty-transport-native-unix-common-4.1.92.Final.jar:/content/kafka_2.13-3.4.1/bin/../libs/osgi-resource-locator-1.0.3.jar:/content/kafka_2.13-3.4.1/bin/../libs/paranamer-2.8.jar:/content/kafka_2.13-3.4.1/bin/../libs/plexus-utils-3.3.0.jar:/content/kafka_2.13-3.4.1/bin/../libs/reflections-0.9.12.jar:/content/kafka_2.13-3.4.1/bin/../libs/reload4j-1.2.25.jar:/content/kafka_2.13-3.4.1/bin/../libs/rocksdbjni-7.1.2.jar:/content/kafka_2.13-3.4.1/bin/../libs/scala-collection-compat_2.13-2.10.0.jar:/content/kafka_2.13-3.4.1/bin/../libs/scala-java8-compat_2.13-1.0.2.jar:/content/kafka_2.13-3.4.1/bin/../libs/scala-library-2.13.10.jar:/content/kafka_2.13-3.4.1/bin/../libs/scala-logging_2.13-3.9.4.jar:/content/kafka_2.13-3.4.1/bin/../libs/scala-reflect-2.13.10.jar:/content/kafka_2.13-3.4.1/bin/../libs/slf4j-api-1.7.36.jar:/content/kafka_2.13-3.4.1/bin/../libs/slf4j-reload4j-1.7.36.jar:/content/kafka_2.13-3.4.1/bin/../libs/snappy-java-1.1.8.4.jar:/content/kafka_2.13-3.4.1/bin/../libs/swagger-annotations-2.2.0.jar:/content/kafka_2.13-3.4.1/bin/../libs/trogdor-3.4.1.jar:/content/kafka_2.13-3.4.1/bin/../libs/zookeeper-3.6.4.jar:/content/kafka_2.13-3.4.1/bin/../libs/zookeeper-jute-3.6.4.jar:/content/kafka_2.13-3.4.1/bin/../libs/zstd-jni-1.5.2-1.jar kafka.Kafka ./kafka_2.13-3.4.1/config/server.properties\n",
            "root        1971     199  0 05:47 ?        00:00:00 /bin/bash -c ps -ef | grep kafka\n",
            "root        1973    1971  0 05:47 ?        00:00:00 grep kafka\n"
          ]
        }
      ],
      "source": [
        "!ps -ef | grep kafka"
      ]
    },
    {
      "cell_type": "markdown",
      "source": [
        "# **PREPROCESS DATA**"
      ],
      "metadata": {
        "id": "QX-aiQIZHnkq"
      }
    },
    {
      "cell_type": "code",
      "source": [
        "vncorenlp = VnCoreNLP(\"vncorenlp/VnCoreNLP-1.1.1.jar\", annotators=\"wseg\", max_heap_size='-Xmx500m')"
      ],
      "metadata": {
        "id": "nbZ3Kb6gNPj2"
      },
      "execution_count": null,
      "outputs": []
    },
    {
      "cell_type": "code",
      "source": [
        "print(UNICODE_EMOJI)\n",
        "print(EMOTICONS_EMO)"
      ],
      "metadata": {
        "colab": {
          "base_uri": "https://localhost:8080/"
        },
        "id": "U0K6zNSFG5UE",
        "outputId": "830ef85e-3e2d-420f-be85-93979b0bf328"
      },
      "execution_count": null,
      "outputs": [
        {
          "output_type": "stream",
          "name": "stdout",
          "text": [
            "{'🥇': ':1st_place_medal:', '🥈': ':2nd_place_medal:', '🥉': ':3rd_place_medal:', '🆎': ':AB_button_(blood_type):', '🏧': ':ATM_sign:', '🅰': ':A_button_(blood_type):', '🇦🇫': ':Afghanistan:', '🇦🇱': ':Albania:', '🇩🇿': ':Algeria:', '🇦🇸': ':American_Samoa:', '🇦🇩': ':Andorra:', '🇦🇴': ':Angola:', '🇦🇮': ':Anguilla:', '🇦🇶': ':Antarctica:', '🇦🇬': ':Antigua_&_Barbuda:', '♒': ':Aquarius:', '🇦🇷': ':Argentina:', '♈': ':Aries:', '🇦🇲': ':Armenia:', '🇦🇼': ':Aruba:', '🇦🇨': ':Ascension_Island:', '🇦🇺': ':Australia:', '🇦🇹': ':Austria:', '🇦🇿': ':Azerbaijan:', '🔙': ':BACK_arrow:', '🅱': ':B_button_(blood_type):', '🇧🇸': ':Bahamas:', '🇧🇭': ':Bahrain:', '🇧🇩': ':Bangladesh:', '🇧🇧': ':Barbados:', '🇧🇾': ':Belarus:', '🇧🇪': ':Belgium:', '🇧🇿': ':Belize:', '🇧🇯': ':Benin:', '🇧🇲': ':Bermuda:', '🇧🇹': ':Bhutan:', '🇧🇴': ':Bolivia:', '🇧🇦': ':Bosnia_&_Herzegovina:', '🇧🇼': ':Botswana:', '🇧🇻': ':Bouvet_Island:', '🇧🇷': ':Brazil:', '🇮🇴': ':British_Indian_Ocean_Territory:', '🇻🇬': ':British_Virgin_Islands:', '🇧🇳': ':Brunei:', '🇧🇬': ':Bulgaria:', '🇧🇫': ':Burkina_Faso:', '🇧🇮': ':Burundi:', '🆑': ':CL_button:', '🆒': ':COOL_button:', '🇰🇭': ':Cambodia:', '🇨🇲': ':Cameroon:', '🇨🇦': ':Canada:', '🇮🇨': ':Canary_Islands:', '♋': ':Cancer:', '🇨🇻': ':Cape_Verde:', '♑': ':Capricorn:', '🇧🇶': ':Caribbean_Netherlands:', '🇰🇾': ':Cayman_Islands:', '🇨🇫': ':Central_African_Republic:', '🇪🇦': ':Ceuta_&_Melilla:', '🇹🇩': ':Chad:', '🇨🇱': ':Chile:', '🇨🇳': ':China:', '🇨🇽': ':Christmas_Island:', '🎄': ':Christmas_tree:', '🇨🇵': ':Clipperton_Island:', '🇨🇨': ':Cocos_(Keeling)_Islands:', '🇨🇴': ':Colombia:', '🇰🇲': ':Comoros:', '🇨🇬': ':Congo_-_Brazzaville:', '🇨🇩': ':Congo_-_Kinshasa:', '🇨🇰': ':Cook_Islands:', '🇨🇷': ':Costa_Rica:', '🇭🇷': ':Croatia:', '🇨🇺': ':Cuba:', '🇨🇼': ':Curaçao:', '🇨🇾': ':Cyprus:', '🇨🇿': ':Czechia:', '🇨🇮': ':Côte_d’Ivoire:', '🇩🇰': ':Denmark:', '🇩🇬': ':Diego_Garcia:', '🇩🇯': ':Djibouti:', '🇩🇲': ':Dominica:', '🇩🇴': ':Dominican_Republic:', '🔚': ':END_arrow:', '🇪🇨': ':Ecuador:', '🇪🇬': ':Egypt:', '🇸🇻': ':El_Salvador:', '🏴\\U000e0067\\U000e0062\\U000e0065\\U000e006e\\U000e0067\\U000e007f': ':England:', '🇬🇶': ':Equatorial_Guinea:', '🇪🇷': ':Eritrea:', '🇪🇪': ':Estonia:', '🇸🇿': ':Eswatini:', '🇪🇹': ':Ethiopia:', '🇪🇺': ':European_Union:', '🆓': ':FREE_button:', '🇫🇰': ':Falkland_Islands:', '🇫🇴': ':Faroe_Islands:', '🇫🇯': ':Fiji:', '🇫🇮': ':Finland:', '🇫🇷': ':France:', '🇬🇫': ':French_Guiana:', '🇵🇫': ':French_Polynesia:', '🇹🇫': ':French_Southern_Territories:', '🇬🇦': ':Gabon:', '🇬🇲': ':Gambia:', '♊': ':Gemini:', '🇬🇪': ':Georgia:', '🇩🇪': ':Germany:', '🇬🇭': ':Ghana:', '🇬🇮': ':Gibraltar:', '🇬🇷': ':Greece:', '🇬🇱': ':Greenland:', '🇬🇩': ':Grenada:', '🇬🇵': ':Guadeloupe:', '🇬🇺': ':Guam:', '🇬🇹': ':Guatemala:', '🇬🇬': ':Guernsey:', '🇬🇳': ':Guinea:', '🇬🇼': ':Guinea-Bissau:', '🇬🇾': ':Guyana:', '🇭🇹': ':Haiti:', '🇭🇲': ':Heard_&_McDonald_Islands:', '🇭🇳': ':Honduras:', '🇭🇰': ':Hong_Kong_SAR_China:', '🇭🇺': ':Hungary:', '🆔': ':ID_button:', '🇮🇸': ':Iceland:', '🇮🇳': ':India:', '🇮🇩': ':Indonesia:', '🇮🇷': ':Iran:', '🇮🇶': ':Iraq:', '🇮🇪': ':Ireland:', '🇮🇲': ':Isle_of_Man:', '🇮🇱': ':Israel:', '🇮🇹': ':Italy:', '🇯🇲': ':Jamaica:', '🇯🇵': ':Japan:', '🉑': ':Japanese_acceptable_button:', '🈸': ':Japanese_application_button:', '🉐': ':Japanese_bargain_button:', '🏯': ':Japanese_castle:', '㊗': ':Japanese_congratulations_button:', '🈹': ':Japanese_discount_button:', '🎎': ':Japanese_dolls:', '🈚': ':Japanese_free_of_charge_button:', '🈁': ':Japanese_here_button:', '🈷': ':Japanese_monthly_amount_button:', '🈵': ':Japanese_no_vacancy_button:', '🈶': ':Japanese_not_free_of_charge_button:', '🈺': ':Japanese_open_for_business_button:', '🈴': ':Japanese_passing_grade_button:', '🏣': ':Japanese_post_office:', '🈲': ':Japanese_prohibited_button:', '🈯': ':Japanese_reserved_button:', '㊙': ':Japanese_secret_button:', '🈂': ':Japanese_service_charge_button:', '🔰': ':Japanese_symbol_for_beginner:', '🈳': ':Japanese_vacancy_button:', '🇯🇪': ':Jersey:', '🇯🇴': ':Jordan:', '🇰🇿': ':Kazakhstan:', '🇰🇪': ':Kenya:', '🇰🇮': ':Kiribati:', '🇽🇰': ':Kosovo:', '🇰🇼': ':Kuwait:', '🇰🇬': ':Kyrgyzstan:', '🇱🇦': ':Laos:', '🇱🇻': ':Latvia:', '🇱🇧': ':Lebanon:', '♌': ':Leo:', '🇱🇸': ':Lesotho:', '🇱🇷': ':Liberia:', '♎': ':Libra:', '🇱🇾': ':Libya:', '🇱🇮': ':Liechtenstein:', '🇱🇹': ':Lithuania:', '🇱🇺': ':Luxembourg:', '🇲🇴': ':Macao_SAR_China:', '🇲🇬': ':Madagascar:', '🇲🇼': ':Malawi:', '🇲🇾': ':Malaysia:', '🇲🇻': ':Maldives:', '🇲🇱': ':Mali:', '🇲🇹': ':Malta:', '🇲🇭': ':Marshall_Islands:', '🇲🇶': ':Martinique:', '🇲🇷': ':Mauritania:', '🇲🇺': ':Mauritius:', '🇾🇹': ':Mayotte:', '🇲🇽': ':Mexico:', '🇫🇲': ':Micronesia:', '🇲🇩': ':Moldova:', '🇲🇨': ':Monaco:', '🇲🇳': ':Mongolia:', '🇲🇪': ':Montenegro:', '🇲🇸': ':Montserrat:', '🇲🇦': ':Morocco:', '🇲🇿': ':Mozambique:', '🤶': ':Mrs._Claus:', '🤶🏿': ':Mrs._Claus_dark_skin_tone:', '🤶🏻': ':Mrs._Claus_light_skin_tone:', '🤶🏾': ':Mrs._Claus_medium-dark_skin_tone:', '🤶🏼': ':Mrs._Claus_medium-light_skin_tone:', '🤶🏽': ':Mrs._Claus_medium_skin_tone:', '🇲🇲': ':Myanmar_(Burma):', '🆕': ':NEW_button:', '🆖': ':NG_button:', '🇳🇦': ':Namibia:', '🇳🇷': ':Nauru:', '🇳🇵': ':Nepal:', '🇳🇱': ':Netherlands:', '🇳🇨': ':New_Caledonia:', '🇳🇿': ':New_Zealand:', '🇳🇮': ':Nicaragua:', '🇳🇪': ':Niger:', '🇳🇬': ':Nigeria:', '🇳🇺': ':Niue:', '🇳🇫': ':Norfolk_Island:', '🇰🇵': ':North_Korea:', '🇲🇰': ':North_Macedonia:', '🇲🇵': ':Northern_Mariana_Islands:', '🇳🇴': ':Norway:', '🆗': ':OK_button:', '👌': ':OK_hand:', '👌🏿': ':OK_hand_dark_skin_tone:', '👌🏻': ':OK_hand_light_skin_tone:', '👌🏾': ':OK_hand_medium-dark_skin_tone:', '👌🏼': ':OK_hand_medium-light_skin_tone:', '👌🏽': ':OK_hand_medium_skin_tone:', '🔛': ':ON!_arrow:', '🅾': ':O_button_(blood_type):', '🇴🇲': ':Oman:', '⛎': ':Ophiuchus:', '🅿': ':P_button:', '🇵🇰': ':Pakistan:', '🇵🇼': ':Palau:', '🇵🇸': ':Palestinian_Territories:', '🇵🇦': ':Panama:', '🇵🇬': ':Papua_New_Guinea:', '🇵🇾': ':Paraguay:', '🇵🇪': ':Peru:', '🇵🇭': ':Philippines:', '♓': ':Pisces:', '🇵🇳': ':Pitcairn_Islands:', '🇵🇱': ':Poland:', '🇵🇹': ':Portugal:', '🇵🇷': ':Puerto_Rico:', '🇶🇦': ':Qatar:', '🇷🇴': ':Romania:', '🇷🇺': ':Russia:', '🇷🇼': ':Rwanda:', '🇷🇪': ':Réunion:', '🔜': ':SOON_arrow:', '🆘': ':SOS_button:', '♐': ':Sagittarius:', '🇼🇸': ':Samoa:', '🇸🇲': ':San_Marino:', '🎅': ':Santa_Claus:', '🎅🏿': ':Santa_Claus_dark_skin_tone:', '🎅🏻': ':Santa_Claus_light_skin_tone:', '🎅🏾': ':Santa_Claus_medium-dark_skin_tone:', '🎅🏼': ':Santa_Claus_medium-light_skin_tone:', '🎅🏽': ':Santa_Claus_medium_skin_tone:', '🇸🇦': ':Saudi_Arabia:', '♏': ':Scorpio:', '🏴\\U000e0067\\U000e0062\\U000e0073\\U000e0063\\U000e0074\\U000e007f': ':Scotland:', '🇸🇳': ':Senegal:', '🇷🇸': ':Serbia:', '🇸🇨': ':Seychelles:', '🇸🇱': ':Sierra_Leone:', '🇸🇬': ':Singapore:', '🇸🇽': ':Sint_Maarten:', '🇸🇰': ':Slovakia:', '🇸🇮': ':Slovenia:', '🇸🇧': ':Solomon_Islands:', '🇸🇴': ':Somalia:', '🇿🇦': ':South_Africa:', '🇬🇸': ':South_Georgia_&_South_Sandwich_Islands:', '🇰🇷': ':South_Korea:', '🇸🇸': ':South_Sudan:', '🇪🇸': ':Spain:', '🇱🇰': ':Sri_Lanka:', '🇧🇱': ':St._Barthélemy:', '🇸🇭': ':St._Helena:', '🇰🇳': ':St._Kitts_&_Nevis:', '🇱🇨': ':St._Lucia:', '🇲🇫': ':St._Martin:', '🇵🇲': ':St._Pierre_&_Miquelon:', '🇻🇨': ':St._Vincent_&_Grenadines:', '🗽': ':Statue_of_Liberty:', '🇸🇩': ':Sudan:', '🇸🇷': ':Suriname:', '🇸🇯': ':Svalbard_&_Jan_Mayen:', '🇸🇪': ':Sweden:', '🇨🇭': ':Switzerland:', '🇸🇾': ':Syria:', '🇸🇹': ':São_Tomé_&_Príncipe:', '🦖': ':T-Rex:', '🔝': ':TOP_arrow:', '🇹🇼': ':Taiwan:', '🇹🇯': ':Tajikistan:', '🇹🇿': ':Tanzania:', '♉': ':Taurus:', '🇹🇭': ':Thailand:', '🇹🇱': ':Timor-Leste:', '🇹🇬': ':Togo:', '🇹🇰': ':Tokelau:', '🗼': ':Tokyo_tower:', '🇹🇴': ':Tonga:', '🇹🇹': ':Trinidad_&_Tobago:', '🇹🇦': ':Tristan_da_Cunha:', '🇹🇳': ':Tunisia:', '🇹🇷': ':Turkey:', '🇹🇲': ':Turkmenistan:', '🇹🇨': ':Turks_&_Caicos_Islands:', '🇹🇻': ':Tuvalu:', '🇺🇲': ':U.S._Outlying_Islands:', '🇻🇮': ':U.S._Virgin_Islands:', '🆙': ':UP!_button:', '🇺🇬': ':Uganda:', '🇺🇦': ':Ukraine:', '🇦🇪': ':United_Arab_Emirates:', '🇬🇧': ':United_Kingdom:', '🇺🇳': ':United_Nations:', '🇺🇸': ':United_States:', '🇺🇾': ':Uruguay:', '🇺🇿': ':Uzbekistan:', '🆚': ':VS_button:', '🇻🇺': ':Vanuatu:', '🇻🇦': ':Vatican_City:', '🇻🇪': ':Venezuela:', '🇻🇳': ':Vietnam:', '♍': ':Virgo:', '🏴\\U000e0067\\U000e0062\\U000e0077\\U000e006c\\U000e0073\\U000e007f': ':Wales:', '🇼🇫': ':Wallis_&_Futuna:', '🇪🇭': ':Western_Sahara:', '🇾🇪': ':Yemen:', '🇿🇲': ':Zambia:', '🇿🇼': ':Zimbabwe:', '🧮': ':abacus:', '🪗': ':accordion:', '🩹': ':adhesive_bandage:', '🎟': ':admission_tickets:', '🚡': ':aerial_tramway:', '✈': ':airplane:', '🛬': ':airplane_arrival:', '🛫': ':airplane_departure:', '⏰': ':alarm_clock:', '⚗': ':alembic:', '👽': ':alien:', '👾': ':alien_monster:', '🚑': ':ambulance:', '🏈': ':american_football:', '🏺': ':amphora:', '🫀': ':anatomical_heart:', '⚓': ':anchor:', '💢': ':anger_symbol:', '😠': ':angry_face:', '👿': ':angry_face_with_horns:', '😧': ':anguished_face:', '🐜': ':ant:', '📶': ':antenna_bars:', '😰': ':anxious_face_with_sweat:', '🚛': ':articulated_lorry:', '🧑\\u200d🎨': ':artist:', '🧑🏿\\u200d🎨': ':artist_dark_skin_tone:', '🧑🏻\\u200d🎨': ':artist_light_skin_tone:', '🧑🏾\\u200d🎨': ':artist_medium-dark_skin_tone:', '🧑🏼\\u200d🎨': ':artist_medium-light_skin_tone:', '🧑🏽\\u200d🎨': ':artist_medium_skin_tone:', '🎨': ':artist_palette:', '😲': ':astonished_face:', '🧑\\u200d🚀': ':astronaut:', '🧑🏿\\u200d🚀': ':astronaut_dark_skin_tone:', '🧑🏻\\u200d🚀': ':astronaut_light_skin_tone:', '🧑🏾\\u200d🚀': ':astronaut_medium-dark_skin_tone:', '🧑🏼\\u200d🚀': ':astronaut_medium-light_skin_tone:', '🧑🏽\\u200d🚀': ':astronaut_medium_skin_tone:', '⚛': ':atom_symbol:', '🛺': ':auto_rickshaw:', '🚗': ':automobile:', '🥑': ':avocado:', '🪓': ':axe:', '👶': ':baby:', '👼': ':baby_angel:', '👼🏿': ':baby_angel_dark_skin_tone:', '👼🏻': ':baby_angel_light_skin_tone:', '👼🏾': ':baby_angel_medium-dark_skin_tone:', '👼🏼': ':baby_angel_medium-light_skin_tone:', '👼🏽': ':baby_angel_medium_skin_tone:', '🍼': ':baby_bottle:', '🐤': ':baby_chick:', '👶🏿': ':baby_dark_skin_tone:', '👶🏻': ':baby_light_skin_tone:', '👶🏾': ':baby_medium-dark_skin_tone:', '👶🏼': ':baby_medium-light_skin_tone:', '👶🏽': ':baby_medium_skin_tone:', '🚼': ':baby_symbol:', '👇': ':backhand_index_pointing_down:', '👇🏿': ':backhand_index_pointing_down_dark_skin_tone:', '👇🏻': ':backhand_index_pointing_down_light_skin_tone:', '👇🏾': ':backhand_index_pointing_down_medium-dark_skin_tone:', '👇🏼': ':backhand_index_pointing_down_medium-light_skin_tone:', '👇🏽': ':backhand_index_pointing_down_medium_skin_tone:', '👈': ':backhand_index_pointing_left:', '👈🏿': ':backhand_index_pointing_left_dark_skin_tone:', '👈🏻': ':backhand_index_pointing_left_light_skin_tone:', '👈🏾': ':backhand_index_pointing_left_medium-dark_skin_tone:', '👈🏼': ':backhand_index_pointing_left_medium-light_skin_tone:', '👈🏽': ':backhand_index_pointing_left_medium_skin_tone:', '👉': ':backhand_index_pointing_right:', '👉🏿': ':backhand_index_pointing_right_dark_skin_tone:', '👉🏻': ':backhand_index_pointing_right_light_skin_tone:', '👉🏾': ':backhand_index_pointing_right_medium-dark_skin_tone:', '👉🏼': ':backhand_index_pointing_right_medium-light_skin_tone:', '👉🏽': ':backhand_index_pointing_right_medium_skin_tone:', '👆': ':backhand_index_pointing_up:', '👆🏿': ':backhand_index_pointing_up_dark_skin_tone:', '👆🏻': ':backhand_index_pointing_up_light_skin_tone:', '👆🏾': ':backhand_index_pointing_up_medium-dark_skin_tone:', '👆🏼': ':backhand_index_pointing_up_medium-light_skin_tone:', '👆🏽': ':backhand_index_pointing_up_medium_skin_tone:', '🎒': ':backpack:', '🥓': ':bacon:', '🦡': ':badger:', '🏸': ':badminton:', '🥯': ':bagel:', '🛄': ':baggage_claim:', '🥖': ':baguette_bread:', '⚖': ':balance_scale:', '🦲': ':bald:', '🩰': ':ballet_shoes:', '🎈': ':balloon:', '🗳': ':ballot_box_with_ballot:', '🍌': ':banana:', '🪕': ':banjo:', '🏦': ':bank:', '📊': ':bar_chart:', '💈': ':barber_pole:', '⚾': ':baseball:', '🧺': ':basket:', '🏀': ':basketball:', '🦇': ':bat:', '🛁': ':bathtub:', '🔋': ':battery:', '🏖': ':beach_with_umbrella:', '😁': ':beaming_face_with_smiling_eyes:', '🐻': ':bear:', '💓': ':beating_heart:', '🦫': ':beaver:', '🛏': ':bed:', '🍺': ':beer_mug:', '🪲': ':beetle:', '🔔': ':bell:', '🫑': ':bell_pepper:', '🔕': ':bell_with_slash:', '🛎': ':bellhop_bell:', '🍱': ':bento_box:', '🧃': ':beverage_box:', '🚲': ':bicycle:', '👙': ':bikini:', '🧢': ':billed_cap:', '☣': ':biohazard:', '🐦': ':bird:', '🎂': ':birthday_cake:', '🦬': ':bison:', '🐈\\u200d⬛': ':black_cat:', '⚫': ':black_circle:', '🏴': ':black_flag:', '🖤': ':black_heart:', '⬛': ':black_large_square:', '◾': ':black_medium-small_square:', '◼': ':black_medium_square:', '✒': ':black_nib:', '▪': ':black_small_square:', '🔲': ':black_square_button:', '🌼': ':blossom:', '🐡': ':blowfish:', '📘': ':blue_book:', '🔵': ':blue_circle:', '💙': ':blue_heart:', '🟦': ':blue_square:', '🫐': ':blueberries:', '🐗': ':boar:', '💣': ':bomb:', '🦴': ':bone:', '🔖': ':bookmark:', '📑': ':bookmark_tabs:', '📚': ':books:', '🪃': ':boomerang:', '🍾': ':bottle_with_popping_cork:', '💐': ':bouquet:', '🏹': ':bow_and_arrow:', '🥣': ':bowl_with_spoon:', '🎳': ':bowling:', '🥊': ':boxing_glove:', '👦': ':boy:', '👦🏿': ':boy_dark_skin_tone:', '👦🏻': ':boy_light_skin_tone:', '👦🏾': ':boy_medium-dark_skin_tone:', '👦🏼': ':boy_medium-light_skin_tone:', '👦🏽': ':boy_medium_skin_tone:', '🧠': ':brain:', '🍞': ':bread:', '🤱': ':breast-feeding:', '🤱🏿': ':breast-feeding_dark_skin_tone:', '🤱🏻': ':breast-feeding_light_skin_tone:', '🤱🏾': ':breast-feeding_medium-dark_skin_tone:', '🤱🏼': ':breast-feeding_medium-light_skin_tone:', '🤱🏽': ':breast-feeding_medium_skin_tone:', '🧱': ':brick:', '🌉': ':bridge_at_night:', '💼': ':briefcase:', '🩲': ':briefs:', '🔆': ':bright_button:', '🥦': ':broccoli:', '💔': ':broken_heart:', '🧹': ':broom:', '🟤': ':brown_circle:', '🤎': ':brown_heart:', '🟫': ':brown_square:', '🧋': ':bubble_tea:', '🪣': ':bucket:', '🐛': ':bug:', '🏗': ':building_construction:', '🚅': ':bullet_train:', '🎯': ':bullseye:', '🌯': ':burrito:', '🚌': ':bus:', '🚏': ':bus_stop:', '👤': ':bust_in_silhouette:', '👥': ':busts_in_silhouette:', '🧈': ':butter:', '🦋': ':butterfly:', '🌵': ':cactus:', '📅': ':calendar:', '🤙': ':call_me_hand:', '🤙🏿': ':call_me_hand_dark_skin_tone:', '🤙🏻': ':call_me_hand_light_skin_tone:', '🤙🏾': ':call_me_hand_medium-dark_skin_tone:', '🤙🏼': ':call_me_hand_medium-light_skin_tone:', '🤙🏽': ':call_me_hand_medium_skin_tone:', '🐪': ':camel:', '📷': ':camera:', '📸': ':camera_with_flash:', '🏕': ':camping:', '🕯': ':candle:', '🍬': ':candy:', '🥫': ':canned_food:', '🛶': ':canoe:', '🗃': ':card_file_box:', '📇': ':card_index:', '🗂': ':card_index_dividers:', '🎠': ':carousel_horse:', '🎏': ':carp_streamer:', '🪚': ':carpentry_saw:', '🥕': ':carrot:', '🏰': ':castle:', '🐈': ':cat:', '🐱': ':cat_face:', '😹': ':cat_with_tears_of_joy:', '😼': ':cat_with_wry_smile:', '⛓': ':chains:', '🪑': ':chair:', '📉': ':chart_decreasing:', '📈': ':chart_increasing:', '💹': ':chart_increasing_with_yen:', '☑': ':check_box_with_check:', '✔': ':check_mark:', '✅': ':check_mark_button:', '🧀': ':cheese_wedge:', '🏁': ':chequered_flag:', '🍒': ':cherries:', '🌸': ':cherry_blossom:', '♟': ':chess_pawn:', '🌰': ':chestnut:', '🐔': ':chicken:', '🧒': ':child:', '🧒🏿': ':child_dark_skin_tone:', '🧒🏻': ':child_light_skin_tone:', '🧒🏾': ':child_medium-dark_skin_tone:', '🧒🏼': ':child_medium-light_skin_tone:', '🧒🏽': ':child_medium_skin_tone:', '🚸': ':children_crossing:', '🐿': ':chipmunk:', '🍫': ':chocolate_bar:', '🥢': ':chopsticks:', '⛪': ':church:', '🚬': ':cigarette:', '🎦': ':cinema:', 'Ⓜ': ':circled_M:', '🎪': ':circus_tent:', '🏙': ':cityscape:', '🌆': ':cityscape_at_dusk:', '🗜': ':clamp:', '🎬': ':clapper_board:', '👏': ':clapping_hands:', '👏🏿': ':clapping_hands_dark_skin_tone:', '👏🏻': ':clapping_hands_light_skin_tone:', '👏🏾': ':clapping_hands_medium-dark_skin_tone:', '👏🏼': ':clapping_hands_medium-light_skin_tone:', '👏🏽': ':clapping_hands_medium_skin_tone:', '🏛': ':classical_building:', '🍻': ':clinking_beer_mugs:', '🥂': ':clinking_glasses:', '📋': ':clipboard:', '🔃': ':clockwise_vertical_arrows:', '📕': ':closed_book:', '📪': ':closed_mailbox_with_lowered_flag:', '📫': ':closed_mailbox_with_raised_flag:', '🌂': ':closed_umbrella:', '☁': ':cloud:', '🌩': ':cloud_with_lightning:', '⛈': ':cloud_with_lightning_and_rain:', '🌧': ':cloud_with_rain:', '🌨': ':cloud_with_snow:', '🤡': ':clown_face:', '♣': ':club_suit:', '👝': ':clutch_bag:', '🧥': ':coat:', '🪳': ':cockroach:', '🍸': ':cocktail_glass:', '🥥': ':coconut:', '⚰': ':coffin:', '🪙': ':coin:', '🥶': ':cold_face:', '💥': ':collision:', '☄': ':comet:', '🧭': ':compass:', '💽': ':computer_disk:', '🖱': ':computer_mouse:', '🎊': ':confetti_ball:', '😖': ':confounded_face:', '😕': ':confused_face:', '🚧': ':construction:', '👷': ':construction_worker:', '👷🏿': ':construction_worker_dark_skin_tone:', '👷🏻': ':construction_worker_light_skin_tone:', '👷🏾': ':construction_worker_medium-dark_skin_tone:', '👷🏼': ':construction_worker_medium-light_skin_tone:', '👷🏽': ':construction_worker_medium_skin_tone:', '🎛': ':control_knobs:', '🏪': ':convenience_store:', '🧑\\u200d🍳': ':cook:', '🧑🏿\\u200d🍳': ':cook_dark_skin_tone:', '🧑🏻\\u200d🍳': ':cook_light_skin_tone:', '🧑🏾\\u200d🍳': ':cook_medium-dark_skin_tone:', '🧑🏼\\u200d🍳': ':cook_medium-light_skin_tone:', '🧑🏽\\u200d🍳': ':cook_medium_skin_tone:', '🍚': ':cooked_rice:', '🍪': ':cookie:', '🍳': ':cooking:', '©': ':copyright:', '🛋': ':couch_and_lamp:', '🔄': ':counterclockwise_arrows_button:', '💑': ':couple_with_heart:', '💑🏿': ':couple_with_heart_dark_skin_tone:', '💑🏻': ':couple_with_heart_light_skin_tone:', '👨\\u200d❤️\\u200d👨': ':couple_with_heart_man_man:', '👨🏿\\u200d❤️\\u200d👨🏿': ':couple_with_heart_man_man_dark_skin_tone:', '👨🏿\\u200d❤️\\u200d👨🏻': ':couple_with_heart_man_man_dark_skin_tone_light_skin_tone:', '👨🏿\\u200d❤️\\u200d👨🏾': ':couple_with_heart_man_man_dark_skin_tone_medium-dark_skin_tone:', '👨🏿\\u200d❤️\\u200d👨🏼': ':couple_with_heart_man_man_dark_skin_tone_medium-light_skin_tone:', '👨🏿\\u200d❤️\\u200d👨🏽': ':couple_with_heart_man_man_dark_skin_tone_medium_skin_tone:', '👨🏻\\u200d❤️\\u200d👨🏻': ':couple_with_heart_man_man_light_skin_tone:', '👨🏻\\u200d❤️\\u200d👨🏿': ':couple_with_heart_man_man_light_skin_tone_dark_skin_tone:', '👨🏻\\u200d❤️\\u200d👨🏾': ':couple_with_heart_man_man_light_skin_tone_medium-dark_skin_tone:', '👨🏻\\u200d❤️\\u200d👨🏼': ':couple_with_heart_man_man_light_skin_tone_medium-light_skin_tone:', '👨🏻\\u200d❤️\\u200d👨🏽': ':couple_with_heart_man_man_light_skin_tone_medium_skin_tone:', '👨🏾\\u200d❤️\\u200d👨🏾': ':couple_with_heart_man_man_medium-dark_skin_tone:', '👨🏾\\u200d❤️\\u200d👨🏿': ':couple_with_heart_man_man_medium-dark_skin_tone_dark_skin_tone:', '👨🏾\\u200d❤️\\u200d👨🏻': ':couple_with_heart_man_man_medium-dark_skin_tone_light_skin_tone:', '👨🏾\\u200d❤️\\u200d👨🏼': ':couple_with_heart_man_man_medium-dark_skin_tone_medium-light_skin_tone:', '👨🏾\\u200d❤️\\u200d👨🏽': ':couple_with_heart_man_man_medium-dark_skin_tone_medium_skin_tone:', '👨🏼\\u200d❤️\\u200d👨🏼': ':couple_with_heart_man_man_medium-light_skin_tone:', '👨🏼\\u200d❤️\\u200d👨🏿': ':couple_with_heart_man_man_medium-light_skin_tone_dark_skin_tone:', '👨🏼\\u200d❤️\\u200d👨🏻': ':couple_with_heart_man_man_medium-light_skin_tone_light_skin_tone:', '👨🏼\\u200d❤️\\u200d👨🏾': ':couple_with_heart_man_man_medium-light_skin_tone_medium-dark_skin_tone:', '👨🏼\\u200d❤️\\u200d👨🏽': ':couple_with_heart_man_man_medium-light_skin_tone_medium_skin_tone:', '👨🏽\\u200d❤️\\u200d👨🏽': ':couple_with_heart_man_man_medium_skin_tone:', '👨🏽\\u200d❤️\\u200d👨🏿': ':couple_with_heart_man_man_medium_skin_tone_dark_skin_tone:', '👨🏽\\u200d❤️\\u200d👨🏻': ':couple_with_heart_man_man_medium_skin_tone_light_skin_tone:', '👨🏽\\u200d❤️\\u200d👨🏾': ':couple_with_heart_man_man_medium_skin_tone_medium-dark_skin_tone:', '👨🏽\\u200d❤️\\u200d👨🏼': ':couple_with_heart_man_man_medium_skin_tone_medium-light_skin_tone:', '💑🏾': ':couple_with_heart_medium-dark_skin_tone:', '💑🏼': ':couple_with_heart_medium-light_skin_tone:', '💑🏽': ':couple_with_heart_medium_skin_tone:', '🧑🏿\\u200d❤️\\u200d🧑🏻': ':couple_with_heart_person_person_dark_skin_tone_light_skin_tone:', '🧑🏿\\u200d❤️\\u200d🧑🏾': ':couple_with_heart_person_person_dark_skin_tone_medium-dark_skin_tone:', '🧑🏿\\u200d❤️\\u200d🧑🏼': ':couple_with_heart_person_person_dark_skin_tone_medium-light_skin_tone:', '🧑🏿\\u200d❤️\\u200d🧑🏽': ':couple_with_heart_person_person_dark_skin_tone_medium_skin_tone:', '🧑🏻\\u200d❤️\\u200d🧑🏿': ':couple_with_heart_person_person_light_skin_tone_dark_skin_tone:', '🧑🏻\\u200d❤️\\u200d🧑🏾': ':couple_with_heart_person_person_light_skin_tone_medium-dark_skin_tone:', '🧑🏻\\u200d❤️\\u200d🧑🏼': ':couple_with_heart_person_person_light_skin_tone_medium-light_skin_tone:', '🧑🏻\\u200d❤️\\u200d🧑🏽': ':couple_with_heart_person_person_light_skin_tone_medium_skin_tone:', '🧑🏾\\u200d❤️\\u200d🧑🏿': ':couple_with_heart_person_person_medium-dark_skin_tone_dark_skin_tone:', '🧑🏾\\u200d❤️\\u200d🧑🏻': ':couple_with_heart_person_person_medium-dark_skin_tone_light_skin_tone:', '🧑🏾\\u200d❤️\\u200d🧑🏼': ':couple_with_heart_person_person_medium-dark_skin_tone_medium-light_skin_tone:', '🧑🏾\\u200d❤️\\u200d🧑🏽': ':couple_with_heart_person_person_medium-dark_skin_tone_medium_skin_tone:', '🧑🏼\\u200d❤️\\u200d🧑🏿': ':couple_with_heart_person_person_medium-light_skin_tone_dark_skin_tone:', '🧑🏼\\u200d❤️\\u200d🧑🏻': ':couple_with_heart_person_person_medium-light_skin_tone_light_skin_tone:', '🧑🏼\\u200d❤️\\u200d🧑🏾': ':couple_with_heart_person_person_medium-light_skin_tone_medium-dark_skin_tone:', '🧑🏼\\u200d❤️\\u200d🧑🏽': ':couple_with_heart_person_person_medium-light_skin_tone_medium_skin_tone:', '🧑🏽\\u200d❤️\\u200d🧑🏿': ':couple_with_heart_person_person_medium_skin_tone_dark_skin_tone:', '🧑🏽\\u200d❤️\\u200d🧑🏻': ':couple_with_heart_person_person_medium_skin_tone_light_skin_tone:', '🧑🏽\\u200d❤️\\u200d🧑🏾': ':couple_with_heart_person_person_medium_skin_tone_medium-dark_skin_tone:', '🧑🏽\\u200d❤️\\u200d🧑🏼': ':couple_with_heart_person_person_medium_skin_tone_medium-light_skin_tone:', '👩\\u200d❤️\\u200d👨': ':couple_with_heart_woman_man:', '👩🏿\\u200d❤️\\u200d👨🏿': ':couple_with_heart_woman_man_dark_skin_tone:', '👩🏿\\u200d❤️\\u200d👨🏻': ':couple_with_heart_woman_man_dark_skin_tone_light_skin_tone:', '👩🏿\\u200d❤️\\u200d👨🏾': ':couple_with_heart_woman_man_dark_skin_tone_medium-dark_skin_tone:', '👩🏿\\u200d❤️\\u200d👨🏼': ':couple_with_heart_woman_man_dark_skin_tone_medium-light_skin_tone:', '👩🏿\\u200d❤️\\u200d👨🏽': ':couple_with_heart_woman_man_dark_skin_tone_medium_skin_tone:', '👩🏻\\u200d❤️\\u200d👨🏻': ':couple_with_heart_woman_man_light_skin_tone:', '👩🏻\\u200d❤️\\u200d👨🏿': ':couple_with_heart_woman_man_light_skin_tone_dark_skin_tone:', '👩🏻\\u200d❤️\\u200d👨🏾': ':couple_with_heart_woman_man_light_skin_tone_medium-dark_skin_tone:', '👩🏻\\u200d❤️\\u200d👨🏼': ':couple_with_heart_woman_man_light_skin_tone_medium-light_skin_tone:', '👩🏻\\u200d❤️\\u200d👨🏽': ':couple_with_heart_woman_man_light_skin_tone_medium_skin_tone:', '👩🏾\\u200d❤️\\u200d👨🏾': ':couple_with_heart_woman_man_medium-dark_skin_tone:', '👩🏾\\u200d❤️\\u200d👨🏿': ':couple_with_heart_woman_man_medium-dark_skin_tone_dark_skin_tone:', '👩🏾\\u200d❤️\\u200d👨🏻': ':couple_with_heart_woman_man_medium-dark_skin_tone_light_skin_tone:', '👩🏾\\u200d❤️\\u200d👨🏼': ':couple_with_heart_woman_man_medium-dark_skin_tone_medium-light_skin_tone:', '👩🏾\\u200d❤️\\u200d👨🏽': ':couple_with_heart_woman_man_medium-dark_skin_tone_medium_skin_tone:', '👩🏼\\u200d❤️\\u200d👨🏼': ':couple_with_heart_woman_man_medium-light_skin_tone:', '👩🏼\\u200d❤️\\u200d👨🏿': ':couple_with_heart_woman_man_medium-light_skin_tone_dark_skin_tone:', '👩🏼\\u200d❤️\\u200d👨🏻': ':couple_with_heart_woman_man_medium-light_skin_tone_light_skin_tone:', '👩🏼\\u200d❤️\\u200d👨🏾': ':couple_with_heart_woman_man_medium-light_skin_tone_medium-dark_skin_tone:', '👩🏼\\u200d❤️\\u200d👨🏽': ':couple_with_heart_woman_man_medium-light_skin_tone_medium_skin_tone:', '👩🏽\\u200d❤️\\u200d👨🏽': ':couple_with_heart_woman_man_medium_skin_tone:', '👩🏽\\u200d❤️\\u200d👨🏿': ':couple_with_heart_woman_man_medium_skin_tone_dark_skin_tone:', '👩🏽\\u200d❤️\\u200d👨🏻': ':couple_with_heart_woman_man_medium_skin_tone_light_skin_tone:', '👩🏽\\u200d❤️\\u200d👨🏾': ':couple_with_heart_woman_man_medium_skin_tone_medium-dark_skin_tone:', '👩🏽\\u200d❤️\\u200d👨🏼': ':couple_with_heart_woman_man_medium_skin_tone_medium-light_skin_tone:', '👩\\u200d❤️\\u200d👩': ':couple_with_heart_woman_woman:', '👩🏿\\u200d❤️\\u200d👩🏿': ':couple_with_heart_woman_woman_dark_skin_tone:', '👩🏿\\u200d❤️\\u200d👩🏻': ':couple_with_heart_woman_woman_dark_skin_tone_light_skin_tone:', '👩🏿\\u200d❤️\\u200d👩🏾': ':couple_with_heart_woman_woman_dark_skin_tone_medium-dark_skin_tone:', '👩🏿\\u200d❤️\\u200d👩🏼': ':couple_with_heart_woman_woman_dark_skin_tone_medium-light_skin_tone:', '👩🏿\\u200d❤️\\u200d👩🏽': ':couple_with_heart_woman_woman_dark_skin_tone_medium_skin_tone:', '👩🏻\\u200d❤️\\u200d👩🏻': ':couple_with_heart_woman_woman_light_skin_tone:', '👩🏻\\u200d❤️\\u200d👩🏿': ':couple_with_heart_woman_woman_light_skin_tone_dark_skin_tone:', '👩🏻\\u200d❤️\\u200d👩🏾': ':couple_with_heart_woman_woman_light_skin_tone_medium-dark_skin_tone:', '👩🏻\\u200d❤️\\u200d👩🏼': ':couple_with_heart_woman_woman_light_skin_tone_medium-light_skin_tone:', '👩🏻\\u200d❤️\\u200d👩🏽': ':couple_with_heart_woman_woman_light_skin_tone_medium_skin_tone:', '👩🏾\\u200d❤️\\u200d👩🏾': ':couple_with_heart_woman_woman_medium-dark_skin_tone:', '👩🏾\\u200d❤️\\u200d👩🏿': ':couple_with_heart_woman_woman_medium-dark_skin_tone_dark_skin_tone:', '👩🏾\\u200d❤️\\u200d👩🏻': ':couple_with_heart_woman_woman_medium-dark_skin_tone_light_skin_tone:', '👩🏾\\u200d❤️\\u200d👩🏼': ':couple_with_heart_woman_woman_medium-dark_skin_tone_medium-light_skin_tone:', '👩🏾\\u200d❤️\\u200d👩🏽': ':couple_with_heart_woman_woman_medium-dark_skin_tone_medium_skin_tone:', '👩🏼\\u200d❤️\\u200d👩🏼': ':couple_with_heart_woman_woman_medium-light_skin_tone:', '👩🏼\\u200d❤️\\u200d👩🏿': ':couple_with_heart_woman_woman_medium-light_skin_tone_dark_skin_tone:', '👩🏼\\u200d❤️\\u200d👩🏻': ':couple_with_heart_woman_woman_medium-light_skin_tone_light_skin_tone:', '👩🏼\\u200d❤️\\u200d👩🏾': ':couple_with_heart_woman_woman_medium-light_skin_tone_medium-dark_skin_tone:', '👩🏼\\u200d❤️\\u200d👩🏽': ':couple_with_heart_woman_woman_medium-light_skin_tone_medium_skin_tone:', '👩🏽\\u200d❤️\\u200d👩🏽': ':couple_with_heart_woman_woman_medium_skin_tone:', '👩🏽\\u200d❤️\\u200d👩🏿': ':couple_with_heart_woman_woman_medium_skin_tone_dark_skin_tone:', '👩🏽\\u200d❤️\\u200d👩🏻': ':couple_with_heart_woman_woman_medium_skin_tone_light_skin_tone:', '👩🏽\\u200d❤️\\u200d👩🏾': ':couple_with_heart_woman_woman_medium_skin_tone_medium-dark_skin_tone:', '👩🏽\\u200d❤️\\u200d👩🏼': ':couple_with_heart_woman_woman_medium_skin_tone_medium-light_skin_tone:', '🐄': ':cow:', '🐮': ':cow_face:', '🤠': ':cowboy_hat_face:', '🦀': ':crab:', '🖍': ':crayon:', '💳': ':credit_card:', '🌙': ':crescent_moon:', '🦗': ':cricket:', '🏏': ':cricket_game:', '🐊': ':crocodile:', '🥐': ':croissant:', '❌': ':cross_mark:', '❎': ':cross_mark_button:', '🤞': ':crossed_fingers:', '🤞🏿': ':crossed_fingers_dark_skin_tone:', '🤞🏻': ':crossed_fingers_light_skin_tone:', '🤞🏾': ':crossed_fingers_medium-dark_skin_tone:', '🤞🏼': ':crossed_fingers_medium-light_skin_tone:', '🤞🏽': ':crossed_fingers_medium_skin_tone:', '🎌': ':crossed_flags:', '⚔': ':crossed_swords:', '👑': ':crown:', '😿': ':crying_cat:', '😢': ':crying_face:', '🔮': ':crystal_ball:', '🥒': ':cucumber:', '🥤': ':cup_with_straw:', '🧁': ':cupcake:', '🥌': ':curling_stone:', '🦱': ':curly_hair:', '➰': ':curly_loop:', '💱': ':currency_exchange:', '🍛': ':curry_rice:', '🍮': ':custard:', '🛃': ':customs:', '🥩': ':cut_of_meat:', '🌀': ':cyclone:', '🗡': ':dagger:', '🍡': ':dango:', '🏿': ':dark_skin_tone:', '💨': ':dashing_away:', '🧏\\u200d♂️': ':deaf_man:', '🧏🏿\\u200d♂️': ':deaf_man_dark_skin_tone:', '🧏🏻\\u200d♂️': ':deaf_man_light_skin_tone:', '🧏🏾\\u200d♂️': ':deaf_man_medium-dark_skin_tone:', '🧏🏼\\u200d♂️': ':deaf_man_medium-light_skin_tone:', '🧏🏽\\u200d♂️': ':deaf_man_medium_skin_tone:', '🧏': ':deaf_person:', '🧏🏿': ':deaf_person_dark_skin_tone:', '🧏🏻': ':deaf_person_light_skin_tone:', '🧏🏾': ':deaf_person_medium-dark_skin_tone:', '🧏🏼': ':deaf_person_medium-light_skin_tone:', '🧏🏽': ':deaf_person_medium_skin_tone:', '🧏\\u200d♀️': ':deaf_woman:', '🧏🏿\\u200d♀️': ':deaf_woman_dark_skin_tone:', '🧏🏻\\u200d♀️': ':deaf_woman_light_skin_tone:', '🧏🏾\\u200d♀️': ':deaf_woman_medium-dark_skin_tone:', '🧏🏼\\u200d♀️': ':deaf_woman_medium-light_skin_tone:', '🧏🏽\\u200d♀️': ':deaf_woman_medium_skin_tone:', '🌳': ':deciduous_tree:', '🦌': ':deer:', '🚚': ':delivery_truck:', '🏬': ':department_store:', '🏚': ':derelict_house:', '🏜': ':desert:', '🏝': ':desert_island:', '🖥': ':desktop_computer:', '🕵': ':detective:', '🕵🏿': ':detective_dark_skin_tone:', '🕵🏻': ':detective_light_skin_tone:', '🕵🏾': ':detective_medium-dark_skin_tone:', '🕵🏼': ':detective_medium-light_skin_tone:', '🕵🏽': ':detective_medium_skin_tone:', '♦': ':diamond_suit:', '💠': ':diamond_with_a_dot:', '🔅': ':dim_button:', '😞': ':disappointed_face:', '🥸': ':disguised_face:', '➗': ':divide:', '🤿': ':diving_mask:', '🪔': ':diya_lamp:', '💫': ':dizzy:', '🧬': ':dna:', '🦤': ':dodo:', '🐕': ':dog:', '🐶': ':dog_face:', '💵': ':dollar_banknote:', '🐬': ':dolphin:', '🚪': ':door:', '🔯': ':dotted_six-pointed_star:', '➿': ':double_curly_loop:', '‼': ':double_exclamation_mark:', '🍩': ':doughnut:', '🕊': ':dove:', '↙': ':down-left_arrow:', '↘': ':down-right_arrow:', '⬇': ':down_arrow:', '😓': ':downcast_face_with_sweat:', '🔽': ':downwards_button:', '🐉': ':dragon:', '🐲': ':dragon_face:', '👗': ':dress:', '🤤': ':drooling_face:', '🩸': ':drop_of_blood:', '💧': ':droplet:', '🥁': ':drum:', '🦆': ':duck:', '🥟': ':dumpling:', '📀': ':dvd:', '📧': ':e-mail:', '🦅': ':eagle:', '👂': ':ear:', '👂🏿': ':ear_dark_skin_tone:', '👂🏻': ':ear_light_skin_tone:', '👂🏾': ':ear_medium-dark_skin_tone:', '👂🏼': ':ear_medium-light_skin_tone:', '👂🏽': ':ear_medium_skin_tone:', '🌽': ':ear_of_corn:', '🦻': ':ear_with_hearing_aid:', '🦻🏿': ':ear_with_hearing_aid_dark_skin_tone:', '🦻🏻': ':ear_with_hearing_aid_light_skin_tone:', '🦻🏾': ':ear_with_hearing_aid_medium-dark_skin_tone:', '🦻🏼': ':ear_with_hearing_aid_medium-light_skin_tone:', '🦻🏽': ':ear_with_hearing_aid_medium_skin_tone:', '🥚': ':egg:', '🍆': ':eggplant:', '✴': ':eight-pointed_star:', '✳': ':eight-spoked_asterisk:', '🕣': ':eight-thirty:', '🕗': ':eight_o’clock:', '⏏': ':eject_button:', '🔌': ':electric_plug:', '🐘': ':elephant:', '🛗': ':elevator:', '🕦': ':eleven-thirty:', '🕚': ':eleven_o’clock:', '🧝': ':elf:', '🧝🏿': ':elf_dark_skin_tone:', '🧝🏻': ':elf_light_skin_tone:', '🧝🏾': ':elf_medium-dark_skin_tone:', '🧝🏼': ':elf_medium-light_skin_tone:', '🧝🏽': ':elf_medium_skin_tone:', '✉': ':envelope:', '📩': ':envelope_with_arrow:', '💶': ':euro_banknote:', '🌲': ':evergreen_tree:', '🐑': ':ewe:', '⁉': ':exclamation_question_mark:', '🤯': ':exploding_head:', '😑': ':expressionless_face:', '👁': ':eye:', '👁️\\u200d🗨️': ':eye_in_speech_bubble:', '👀': ':eyes:', '😘': ':face_blowing_a_kiss:', '😮\\u200d💨': ':face_exhaling:', '😶\\u200d🌫️': ':face_in_clouds:', '😋': ':face_savoring_food:', '😱': ':face_screaming_in_fear:', '🤮': ':face_vomiting:', '🤭': ':face_with_hand_over_mouth:', '🤕': ':face_with_head-bandage:', '😷': ':face_with_medical_mask:', '🧐': ':face_with_monocle:', '😮': ':face_with_open_mouth:', '🤨': ':face_with_raised_eyebrow:', '🙄': ':face_with_rolling_eyes:', '😵\\u200d💫': ':face_with_spiral_eyes:', '😤': ':face_with_steam_from_nose:', '🤬': ':face_with_symbols_on_mouth:', '😂': ':face_with_tears_of_joy:', '🤒': ':face_with_thermometer:', '😛': ':face_with_tongue:', '😶': ':face_without_mouth:', '🏭': ':factory:', '🧑\\u200d🏭': ':factory_worker:', '🧑🏿\\u200d🏭': ':factory_worker_dark_skin_tone:', '🧑🏻\\u200d🏭': ':factory_worker_light_skin_tone:', '🧑🏾\\u200d🏭': ':factory_worker_medium-dark_skin_tone:', '🧑🏼\\u200d🏭': ':factory_worker_medium-light_skin_tone:', '🧑🏽\\u200d🏭': ':factory_worker_medium_skin_tone:', '🧚': ':fairy:', '🧚🏿': ':fairy_dark_skin_tone:', '🧚🏻': ':fairy_light_skin_tone:', '🧚🏾': ':fairy_medium-dark_skin_tone:', '🧚🏼': ':fairy_medium-light_skin_tone:', '🧚🏽': ':fairy_medium_skin_tone:', '🧆': ':falafel:', '🍂': ':fallen_leaf:', '👪': ':family:', '👨\\u200d👦': ':family_man_boy:', '👨\\u200d👦\\u200d👦': ':family_man_boy_boy:', '👨\\u200d👧': ':family_man_girl:', '👨\\u200d👧\\u200d👦': ':family_man_girl_boy:', '👨\\u200d👧\\u200d👧': ':family_man_girl_girl:', '👨\\u200d👨\\u200d👦': ':family_man_man_boy:', '👨\\u200d👨\\u200d👦\\u200d👦': ':family_man_man_boy_boy:', '👨\\u200d👨\\u200d👧': ':family_man_man_girl:', '👨\\u200d👨\\u200d👧\\u200d👦': ':family_man_man_girl_boy:', '👨\\u200d👨\\u200d👧\\u200d👧': ':family_man_man_girl_girl:', '👨\\u200d👩\\u200d👦': ':family_man_woman_boy:', '👨\\u200d👩\\u200d👦\\u200d👦': ':family_man_woman_boy_boy:', '👨\\u200d👩\\u200d👧': ':family_man_woman_girl:', '👨\\u200d👩\\u200d👧\\u200d👦': ':family_man_woman_girl_boy:', '👨\\u200d👩\\u200d👧\\u200d👧': ':family_man_woman_girl_girl:', '👩\\u200d👦': ':family_woman_boy:', '👩\\u200d👦\\u200d👦': ':family_woman_boy_boy:', '👩\\u200d👧': ':family_woman_girl:', '👩\\u200d👧\\u200d👦': ':family_woman_girl_boy:', '👩\\u200d👧\\u200d👧': ':family_woman_girl_girl:', '👩\\u200d👩\\u200d👦': ':family_woman_woman_boy:', '👩\\u200d👩\\u200d👦\\u200d👦': ':family_woman_woman_boy_boy:', '👩\\u200d👩\\u200d👧': ':family_woman_woman_girl:', '👩\\u200d👩\\u200d👧\\u200d👦': ':family_woman_woman_girl_boy:', '👩\\u200d👩\\u200d👧\\u200d👧': ':family_woman_woman_girl_girl:', '🧑\\u200d🌾': ':farmer:', '🧑🏿\\u200d🌾': ':farmer_dark_skin_tone:', '🧑🏻\\u200d🌾': ':farmer_light_skin_tone:', '🧑🏾\\u200d🌾': ':farmer_medium-dark_skin_tone:', '🧑🏼\\u200d🌾': ':farmer_medium-light_skin_tone:', '🧑🏽\\u200d🌾': ':farmer_medium_skin_tone:', '⏩': ':fast-forward_button:', '⏬': ':fast_down_button:', '⏪': ':fast_reverse_button:', '⏫': ':fast_up_button:', '📠': ':fax_machine:', '😨': ':fearful_face:', '🪶': ':feather:', '♀': ':female_sign:', '🎡': ':ferris_wheel:', '⛴': ':ferry:', '🏑': ':field_hockey:', '🗄': ':file_cabinet:', '📁': ':file_folder:', '🎞': ':film_frames:', '📽': ':film_projector:', '🔥': ':fire:', '🚒': ':fire_engine:', '🧯': ':fire_extinguisher:', '🧨': ':firecracker:', '🧑\\u200d🚒': ':firefighter:', '🧑🏿\\u200d🚒': ':firefighter_dark_skin_tone:', '🧑🏻\\u200d🚒': ':firefighter_light_skin_tone:', '🧑🏾\\u200d🚒': ':firefighter_medium-dark_skin_tone:', '🧑🏼\\u200d🚒': ':firefighter_medium-light_skin_tone:', '🧑🏽\\u200d🚒': ':firefighter_medium_skin_tone:', '🎆': ':fireworks:', '🌓': ':first_quarter_moon:', '🌛': ':first_quarter_moon_face:', '🐟': ':fish:', '🍥': ':fish_cake_with_swirl:', '🎣': ':fishing_pole:', '🕠': ':five-thirty:', '🕔': ':five_o’clock:', '⛳': ':flag_in_hole:', '🦩': ':flamingo:', '🔦': ':flashlight:', '🥿': ':flat_shoe:', '🫓': ':flatbread:', '⚜': ':fleur-de-lis:', '💪': ':flexed_biceps:', '💪🏿': ':flexed_biceps_dark_skin_tone:', '💪🏻': ':flexed_biceps_light_skin_tone:', '💪🏾': ':flexed_biceps_medium-dark_skin_tone:', '💪🏼': ':flexed_biceps_medium-light_skin_tone:', '💪🏽': ':flexed_biceps_medium_skin_tone:', '💾': ':floppy_disk:', '🎴': ':flower_playing_cards:', '😳': ':flushed_face:', '🪰': ':fly:', '🥏': ':flying_disc:', '🛸': ':flying_saucer:', '🌫': ':fog:', '🌁': ':foggy:', '🙏': ':folded_hands:', '🙏🏿': ':folded_hands_dark_skin_tone:', '🙏🏻': ':folded_hands_light_skin_tone:', '🙏🏾': ':folded_hands_medium-dark_skin_tone:', '🙏🏼': ':folded_hands_medium-light_skin_tone:', '🙏🏽': ':folded_hands_medium_skin_tone:', '🫕': ':fondue:', '🦶': ':foot:', '🦶🏿': ':foot_dark_skin_tone:', '🦶🏻': ':foot_light_skin_tone:', '🦶🏾': ':foot_medium-dark_skin_tone:', '🦶🏼': ':foot_medium-light_skin_tone:', '🦶🏽': ':foot_medium_skin_tone:', '👣': ':footprints:', '🍴': ':fork_and_knife:', '🍽': ':fork_and_knife_with_plate:', '🥠': ':fortune_cookie:', '⛲': ':fountain:', '🖋': ':fountain_pen:', '🕟': ':four-thirty:', '🍀': ':four_leaf_clover:', '🕓': ':four_o’clock:', '🦊': ':fox:', '🖼': ':framed_picture:', '🍟': ':french_fries:', '🍤': ':fried_shrimp:', '🐸': ':frog:', '🐥': ':front-facing_baby_chick:', '☹': ':frowning_face:', '😦': ':frowning_face_with_open_mouth:', '⛽': ':fuel_pump:', '🌕': ':full_moon:', '🌝': ':full_moon_face:', '⚱': ':funeral_urn:', '🎲': ':game_die:', '🧄': ':garlic:', '⚙': ':gear:', '💎': ':gem_stone:', '🧞': ':genie:', '👻': ':ghost:', '🦒': ':giraffe:', '👧': ':girl:', '👧🏿': ':girl_dark_skin_tone:', '👧🏻': ':girl_light_skin_tone:', '👧🏾': ':girl_medium-dark_skin_tone:', '👧🏼': ':girl_medium-light_skin_tone:', '👧🏽': ':girl_medium_skin_tone:', '🥛': ':glass_of_milk:', '👓': ':glasses:', '🌎': ':globe_showing_Americas:', '🌏': ':globe_showing_Asia-Australia:', '🌍': ':globe_showing_Europe-Africa:', '🌐': ':globe_with_meridians:', '🧤': ':gloves:', '🌟': ':glowing_star:', '🥅': ':goal_net:', '🐐': ':goat:', '👺': ':goblin:', '🥽': ':goggles:', '🦍': ':gorilla:', '🎓': ':graduation_cap:', '🍇': ':grapes:', '🍏': ':green_apple:', '📗': ':green_book:', '🟢': ':green_circle:', '💚': ':green_heart:', '🥗': ':green_salad:', '🟩': ':green_square:', '😬': ':grimacing_face:', '😺': ':grinning_cat:', '😸': ':grinning_cat_with_smiling_eyes:', '😀': ':grinning_face:', '😃': ':grinning_face_with_big_eyes:', '😄': ':grinning_face_with_smiling_eyes:', '😅': ':grinning_face_with_sweat:', '😆': ':grinning_squinting_face:', '💗': ':growing_heart:', '💂': ':guard:', '💂🏿': ':guard_dark_skin_tone:', '💂🏻': ':guard_light_skin_tone:', '💂🏾': ':guard_medium-dark_skin_tone:', '💂🏼': ':guard_medium-light_skin_tone:', '💂🏽': ':guard_medium_skin_tone:', '🦮': ':guide_dog:', '🎸': ':guitar:', '🍔': ':hamburger:', '🔨': ':hammer:', '⚒': ':hammer_and_pick:', '🛠': ':hammer_and_wrench:', '🐹': ':hamster:', '🖐': ':hand_with_fingers_splayed:', '🖐🏿': ':hand_with_fingers_splayed_dark_skin_tone:', '🖐🏻': ':hand_with_fingers_splayed_light_skin_tone:', '🖐🏾': ':hand_with_fingers_splayed_medium-dark_skin_tone:', '🖐🏼': ':hand_with_fingers_splayed_medium-light_skin_tone:', '🖐🏽': ':hand_with_fingers_splayed_medium_skin_tone:', '👜': ':handbag:', '🤝': ':handshake:', '🐣': ':hatching_chick:', '🎧': ':headphone:', '🪦': ':headstone:', '🧑\\u200d⚕️': ':health_worker:', '🧑🏿\\u200d⚕️': ':health_worker_dark_skin_tone:', '🧑🏻\\u200d⚕️': ':health_worker_light_skin_tone:', '🧑🏾\\u200d⚕️': ':health_worker_medium-dark_skin_tone:', '🧑🏼\\u200d⚕️': ':health_worker_medium-light_skin_tone:', '🧑🏽\\u200d⚕️': ':health_worker_medium_skin_tone:', '🙉': ':hear-no-evil_monkey:', '💟': ':heart_decoration:', '❣': ':heart_exclamation:', '❤️\\u200d🔥': ':heart_on_fire:', '♥': ':heart_suit:', '💘': ':heart_with_arrow:', '💝': ':heart_with_ribbon:', '💲': ':heavy_dollar_sign:', '🦔': ':hedgehog:', '🚁': ':helicopter:', '🌿': ':herb:', '🌺': ':hibiscus:', '👠': ':high-heeled_shoe:', '🚄': ':high-speed_train:', '⚡': ':high_voltage:', '🥾': ':hiking_boot:', '🛕': ':hindu_temple:', '🦛': ':hippopotamus:', '🕳': ':hole:', '⭕': ':hollow_red_circle:', '🍯': ':honey_pot:', '🐝': ':honeybee:', '🪝': ':hook:', '🚥': ':horizontal_traffic_light:', '🐎': ':horse:', '🐴': ':horse_face:', '🏇': ':horse_racing:', '🏇🏿': ':horse_racing_dark_skin_tone:', '🏇🏻': ':horse_racing_light_skin_tone:', '🏇🏾': ':horse_racing_medium-dark_skin_tone:', '🏇🏼': ':horse_racing_medium-light_skin_tone:', '🏇🏽': ':horse_racing_medium_skin_tone:', '🏥': ':hospital:', '☕': ':hot_beverage:', '🌭': ':hot_dog:', '🥵': ':hot_face:', '🌶': ':hot_pepper:', '♨': ':hot_springs:', '🏨': ':hotel:', '⌛': ':hourglass_done:', '⏳': ':hourglass_not_done:', '🏠': ':house:', '🏡': ':house_with_garden:', '🏘': ':houses:', '🤗': ':hugging_face:', '💯': ':hundred_points:', '😯': ':hushed_face:', '🛖': ':hut:', '🧊': ':ice:', '🍨': ':ice_cream:', '🏒': ':ice_hockey:', '⛸': ':ice_skate:', '📥': ':inbox_tray:', '📨': ':incoming_envelope:', '☝': ':index_pointing_up:', '☝🏿': ':index_pointing_up_dark_skin_tone:', '☝🏻': ':index_pointing_up_light_skin_tone:', '☝🏾': ':index_pointing_up_medium-dark_skin_tone:', '☝🏼': ':index_pointing_up_medium-light_skin_tone:', '☝🏽': ':index_pointing_up_medium_skin_tone:', '♾': ':infinity:', 'ℹ': ':information:', '🔤': ':input_latin_letters:', '🔡': ':input_latin_lowercase:', '🔠': ':input_latin_uppercase:', '🔢': ':input_numbers:', '🔣': ':input_symbols:', '🎃': ':jack-o-lantern:', '👖': ':jeans:', '🃏': ':joker:', '🕹': ':joystick:', '🧑\\u200d⚖️': ':judge:', '🧑🏿\\u200d⚖️': ':judge_dark_skin_tone:', '🧑🏻\\u200d⚖️': ':judge_light_skin_tone:', '🧑🏾\\u200d⚖️': ':judge_medium-dark_skin_tone:', '🧑🏼\\u200d⚖️': ':judge_medium-light_skin_tone:', '🧑🏽\\u200d⚖️': ':judge_medium_skin_tone:', '🕋': ':kaaba:', '🦘': ':kangaroo:', '🔑': ':key:', '⌨': ':keyboard:', '#️⃣': ':keycap_#:', '*️⃣': ':keycap_*:', '0️⃣': ':keycap_0:', '1️⃣': ':keycap_1:', '🔟': ':keycap_10:', '2️⃣': ':keycap_2:', '3️⃣': ':keycap_3:', '4️⃣': ':keycap_4:', '5️⃣': ':keycap_5:', '6️⃣': ':keycap_6:', '7️⃣': ':keycap_7:', '8️⃣': ':keycap_8:', '9️⃣': ':keycap_9:', '🛴': ':kick_scooter:', '👘': ':kimono:', '💏': ':kiss:', '💏🏿': ':kiss_dark_skin_tone:', '💏🏻': ':kiss_light_skin_tone:', '👨\\u200d❤️\\u200d💋\\u200d👨': ':kiss_man_man:', '👨🏿\\u200d❤️\\u200d💋\\u200d👨🏿': ':kiss_man_man_dark_skin_tone:', '👨🏿\\u200d❤️\\u200d💋\\u200d👨🏻': ':kiss_man_man_dark_skin_tone_light_skin_tone:', '👨🏿\\u200d❤️\\u200d💋\\u200d👨🏾': ':kiss_man_man_dark_skin_tone_medium-dark_skin_tone:', '👨🏿\\u200d❤️\\u200d💋\\u200d👨🏼': ':kiss_man_man_dark_skin_tone_medium-light_skin_tone:', '👨🏿\\u200d❤️\\u200d💋\\u200d👨🏽': ':kiss_man_man_dark_skin_tone_medium_skin_tone:', '👨🏻\\u200d❤️\\u200d💋\\u200d👨🏻': ':kiss_man_man_light_skin_tone:', '👨🏻\\u200d❤️\\u200d💋\\u200d👨🏿': ':kiss_man_man_light_skin_tone_dark_skin_tone:', '👨🏻\\u200d❤️\\u200d💋\\u200d👨🏾': ':kiss_man_man_light_skin_tone_medium-dark_skin_tone:', '👨🏻\\u200d❤️\\u200d💋\\u200d👨🏼': ':kiss_man_man_light_skin_tone_medium-light_skin_tone:', '👨🏻\\u200d❤️\\u200d💋\\u200d👨🏽': ':kiss_man_man_light_skin_tone_medium_skin_tone:', '👨🏾\\u200d❤️\\u200d💋\\u200d👨🏾': ':kiss_man_man_medium-dark_skin_tone:', '👨🏾\\u200d❤️\\u200d💋\\u200d👨🏿': ':kiss_man_man_medium-dark_skin_tone_dark_skin_tone:', '👨🏾\\u200d❤️\\u200d💋\\u200d👨🏻': ':kiss_man_man_medium-dark_skin_tone_light_skin_tone:', '👨🏾\\u200d❤️\\u200d💋\\u200d👨🏼': ':kiss_man_man_medium-dark_skin_tone_medium-light_skin_tone:', '👨🏾\\u200d❤️\\u200d💋\\u200d👨🏽': ':kiss_man_man_medium-dark_skin_tone_medium_skin_tone:', '👨🏼\\u200d❤️\\u200d💋\\u200d👨🏼': ':kiss_man_man_medium-light_skin_tone:', '👨🏼\\u200d❤️\\u200d💋\\u200d👨🏿': ':kiss_man_man_medium-light_skin_tone_dark_skin_tone:', '👨🏼\\u200d❤️\\u200d💋\\u200d👨🏻': ':kiss_man_man_medium-light_skin_tone_light_skin_tone:', '👨🏼\\u200d❤️\\u200d💋\\u200d👨🏾': ':kiss_man_man_medium-light_skin_tone_medium-dark_skin_tone:', '👨🏼\\u200d❤️\\u200d💋\\u200d👨🏽': ':kiss_man_man_medium-light_skin_tone_medium_skin_tone:', '👨🏽\\u200d❤️\\u200d💋\\u200d👨🏽': ':kiss_man_man_medium_skin_tone:', '👨🏽\\u200d❤️\\u200d💋\\u200d👨🏿': ':kiss_man_man_medium_skin_tone_dark_skin_tone:', '👨🏽\\u200d❤️\\u200d💋\\u200d👨🏻': ':kiss_man_man_medium_skin_tone_light_skin_tone:', '👨🏽\\u200d❤️\\u200d💋\\u200d👨🏾': ':kiss_man_man_medium_skin_tone_medium-dark_skin_tone:', '👨🏽\\u200d❤️\\u200d💋\\u200d👨🏼': ':kiss_man_man_medium_skin_tone_medium-light_skin_tone:', '💋': ':kiss_mark:', '💏🏾': ':kiss_medium-dark_skin_tone:', '💏🏼': ':kiss_medium-light_skin_tone:', '💏🏽': ':kiss_medium_skin_tone:', '🧑🏿\\u200d❤️\\u200d💋\\u200d🧑🏻': ':kiss_person_person_dark_skin_tone_light_skin_tone:', '🧑🏿\\u200d❤️\\u200d💋\\u200d🧑🏾': ':kiss_person_person_dark_skin_tone_medium-dark_skin_tone:', '🧑🏿\\u200d❤️\\u200d💋\\u200d🧑🏼': ':kiss_person_person_dark_skin_tone_medium-light_skin_tone:', '🧑🏿\\u200d❤️\\u200d💋\\u200d🧑🏽': ':kiss_person_person_dark_skin_tone_medium_skin_tone:', '🧑🏻\\u200d❤️\\u200d💋\\u200d🧑🏿': ':kiss_person_person_light_skin_tone_dark_skin_tone:', '🧑🏻\\u200d❤️\\u200d💋\\u200d🧑🏾': ':kiss_person_person_light_skin_tone_medium-dark_skin_tone:', '🧑🏻\\u200d❤️\\u200d💋\\u200d🧑🏼': ':kiss_person_person_light_skin_tone_medium-light_skin_tone:', '🧑🏻\\u200d❤️\\u200d💋\\u200d🧑🏽': ':kiss_person_person_light_skin_tone_medium_skin_tone:', '🧑🏾\\u200d❤️\\u200d💋\\u200d🧑🏿': ':kiss_person_person_medium-dark_skin_tone_dark_skin_tone:', '🧑🏾\\u200d❤️\\u200d💋\\u200d🧑🏻': ':kiss_person_person_medium-dark_skin_tone_light_skin_tone:', '🧑🏾\\u200d❤️\\u200d💋\\u200d🧑🏼': ':kiss_person_person_medium-dark_skin_tone_medium-light_skin_tone:', '🧑🏾\\u200d❤️\\u200d💋\\u200d🧑🏽': ':kiss_person_person_medium-dark_skin_tone_medium_skin_tone:', '🧑🏼\\u200d❤️\\u200d💋\\u200d🧑🏿': ':kiss_person_person_medium-light_skin_tone_dark_skin_tone:', '🧑🏼\\u200d❤️\\u200d💋\\u200d🧑🏻': ':kiss_person_person_medium-light_skin_tone_light_skin_tone:', '🧑🏼\\u200d❤️\\u200d💋\\u200d🧑🏾': ':kiss_person_person_medium-light_skin_tone_medium-dark_skin_tone:', '🧑🏼\\u200d❤️\\u200d💋\\u200d🧑🏽': ':kiss_person_person_medium-light_skin_tone_medium_skin_tone:', '🧑🏽\\u200d❤️\\u200d💋\\u200d🧑🏿': ':kiss_person_person_medium_skin_tone_dark_skin_tone:', '🧑🏽\\u200d❤️\\u200d💋\\u200d🧑🏻': ':kiss_person_person_medium_skin_tone_light_skin_tone:', '🧑🏽\\u200d❤️\\u200d💋\\u200d🧑🏾': ':kiss_person_person_medium_skin_tone_medium-dark_skin_tone:', '🧑🏽\\u200d❤️\\u200d💋\\u200d🧑🏼': ':kiss_person_person_medium_skin_tone_medium-light_skin_tone:', '👩\\u200d❤️\\u200d💋\\u200d👨': ':kiss_woman_man:', '👩🏿\\u200d❤️\\u200d💋\\u200d👨🏿': ':kiss_woman_man_dark_skin_tone:', '👩🏿\\u200d❤️\\u200d💋\\u200d👨🏻': ':kiss_woman_man_dark_skin_tone_light_skin_tone:', '👩🏿\\u200d❤️\\u200d💋\\u200d👨🏾': ':kiss_woman_man_dark_skin_tone_medium-dark_skin_tone:', '👩🏿\\u200d❤️\\u200d💋\\u200d👨🏼': ':kiss_woman_man_dark_skin_tone_medium-light_skin_tone:', '👩🏿\\u200d❤️\\u200d💋\\u200d👨🏽': ':kiss_woman_man_dark_skin_tone_medium_skin_tone:', '👩🏻\\u200d❤️\\u200d💋\\u200d👨🏻': ':kiss_woman_man_light_skin_tone:', '👩🏻\\u200d❤️\\u200d💋\\u200d👨🏿': ':kiss_woman_man_light_skin_tone_dark_skin_tone:', '👩🏻\\u200d❤️\\u200d💋\\u200d👨🏾': ':kiss_woman_man_light_skin_tone_medium-dark_skin_tone:', '👩🏻\\u200d❤️\\u200d💋\\u200d👨🏼': ':kiss_woman_man_light_skin_tone_medium-light_skin_tone:', '👩🏻\\u200d❤️\\u200d💋\\u200d👨🏽': ':kiss_woman_man_light_skin_tone_medium_skin_tone:', '👩🏾\\u200d❤️\\u200d💋\\u200d👨🏾': ':kiss_woman_man_medium-dark_skin_tone:', '👩🏾\\u200d❤️\\u200d💋\\u200d👨🏿': ':kiss_woman_man_medium-dark_skin_tone_dark_skin_tone:', '👩🏾\\u200d❤️\\u200d💋\\u200d👨🏻': ':kiss_woman_man_medium-dark_skin_tone_light_skin_tone:', '👩🏾\\u200d❤️\\u200d💋\\u200d👨🏼': ':kiss_woman_man_medium-dark_skin_tone_medium-light_skin_tone:', '👩🏾\\u200d❤️\\u200d💋\\u200d👨🏽': ':kiss_woman_man_medium-dark_skin_tone_medium_skin_tone:', '👩🏼\\u200d❤️\\u200d💋\\u200d👨🏼': ':kiss_woman_man_medium-light_skin_tone:', '👩🏼\\u200d❤️\\u200d💋\\u200d👨🏿': ':kiss_woman_man_medium-light_skin_tone_dark_skin_tone:', '👩🏼\\u200d❤️\\u200d💋\\u200d👨🏻': ':kiss_woman_man_medium-light_skin_tone_light_skin_tone:', '👩🏼\\u200d❤️\\u200d💋\\u200d👨🏾': ':kiss_woman_man_medium-light_skin_tone_medium-dark_skin_tone:', '👩🏼\\u200d❤️\\u200d💋\\u200d👨🏽': ':kiss_woman_man_medium-light_skin_tone_medium_skin_tone:', '👩🏽\\u200d❤️\\u200d💋\\u200d👨🏽': ':kiss_woman_man_medium_skin_tone:', '👩🏽\\u200d❤️\\u200d💋\\u200d👨🏿': ':kiss_woman_man_medium_skin_tone_dark_skin_tone:', '👩🏽\\u200d❤️\\u200d💋\\u200d👨🏻': ':kiss_woman_man_medium_skin_tone_light_skin_tone:', '👩🏽\\u200d❤️\\u200d💋\\u200d👨🏾': ':kiss_woman_man_medium_skin_tone_medium-dark_skin_tone:', '👩🏽\\u200d❤️\\u200d💋\\u200d👨🏼': ':kiss_woman_man_medium_skin_tone_medium-light_skin_tone:', '👩\\u200d❤️\\u200d💋\\u200d👩': ':kiss_woman_woman:', '👩🏿\\u200d❤️\\u200d💋\\u200d👩🏿': ':kiss_woman_woman_dark_skin_tone:', '👩🏿\\u200d❤️\\u200d💋\\u200d👩🏻': ':kiss_woman_woman_dark_skin_tone_light_skin_tone:', '👩🏿\\u200d❤️\\u200d💋\\u200d👩🏾': ':kiss_woman_woman_dark_skin_tone_medium-dark_skin_tone:', '👩🏿\\u200d❤️\\u200d💋\\u200d👩🏼': ':kiss_woman_woman_dark_skin_tone_medium-light_skin_tone:', '👩🏿\\u200d❤️\\u200d💋\\u200d👩🏽': ':kiss_woman_woman_dark_skin_tone_medium_skin_tone:', '👩🏻\\u200d❤️\\u200d💋\\u200d👩🏻': ':kiss_woman_woman_light_skin_tone:', '👩🏻\\u200d❤️\\u200d💋\\u200d👩🏿': ':kiss_woman_woman_light_skin_tone_dark_skin_tone:', '👩🏻\\u200d❤️\\u200d💋\\u200d👩🏾': ':kiss_woman_woman_light_skin_tone_medium-dark_skin_tone:', '👩🏻\\u200d❤️\\u200d💋\\u200d👩🏼': ':kiss_woman_woman_light_skin_tone_medium-light_skin_tone:', '👩🏻\\u200d❤️\\u200d💋\\u200d👩🏽': ':kiss_woman_woman_light_skin_tone_medium_skin_tone:', '👩🏾\\u200d❤️\\u200d💋\\u200d👩🏾': ':kiss_woman_woman_medium-dark_skin_tone:', '👩🏾\\u200d❤️\\u200d💋\\u200d👩🏿': ':kiss_woman_woman_medium-dark_skin_tone_dark_skin_tone:', '👩🏾\\u200d❤️\\u200d💋\\u200d👩🏻': ':kiss_woman_woman_medium-dark_skin_tone_light_skin_tone:', '👩🏾\\u200d❤️\\u200d💋\\u200d👩🏼': ':kiss_woman_woman_medium-dark_skin_tone_medium-light_skin_tone:', '👩🏾\\u200d❤️\\u200d💋\\u200d👩🏽': ':kiss_woman_woman_medium-dark_skin_tone_medium_skin_tone:', '👩🏼\\u200d❤️\\u200d💋\\u200d👩🏼': ':kiss_woman_woman_medium-light_skin_tone:', '👩🏼\\u200d❤️\\u200d💋\\u200d👩🏿': ':kiss_woman_woman_medium-light_skin_tone_dark_skin_tone:', '👩🏼\\u200d❤️\\u200d💋\\u200d👩🏻': ':kiss_woman_woman_medium-light_skin_tone_light_skin_tone:', '👩🏼\\u200d❤️\\u200d💋\\u200d👩🏾': ':kiss_woman_woman_medium-light_skin_tone_medium-dark_skin_tone:', '👩🏼\\u200d❤️\\u200d💋\\u200d👩🏽': ':kiss_woman_woman_medium-light_skin_tone_medium_skin_tone:', '👩🏽\\u200d❤️\\u200d💋\\u200d👩🏽': ':kiss_woman_woman_medium_skin_tone:', '👩🏽\\u200d❤️\\u200d💋\\u200d👩🏿': ':kiss_woman_woman_medium_skin_tone_dark_skin_tone:', '👩🏽\\u200d❤️\\u200d💋\\u200d👩🏻': ':kiss_woman_woman_medium_skin_tone_light_skin_tone:', '👩🏽\\u200d❤️\\u200d💋\\u200d👩🏾': ':kiss_woman_woman_medium_skin_tone_medium-dark_skin_tone:', '👩🏽\\u200d❤️\\u200d💋\\u200d👩🏼': ':kiss_woman_woman_medium_skin_tone_medium-light_skin_tone:', '😽': ':kissing_cat:', '😗': ':kissing_face:', '😚': ':kissing_face_with_closed_eyes:', '😙': ':kissing_face_with_smiling_eyes:', '🔪': ':kitchen_knife:', '🪁': ':kite:', '🥝': ':kiwi_fruit:', '😵': ':knocked-out_face:', '🪢': ':knot:', '🐨': ':koala:', '🥼': ':lab_coat:', '🏷': ':label:', '🥍': ':lacrosse:', '🪜': ':ladder:', '🐞': ':lady_beetle:', '💻': ':laptop:', '🔷': ':large_blue_diamond:', '🔶': ':large_orange_diamond:', '🌗': ':last_quarter_moon:', '🌜': ':last_quarter_moon_face:', '⏮': ':last_track_button:', '✝': ':latin_cross:', '🍃': ':leaf_fluttering_in_wind:', '🥬': ':leafy_green:', '📒': ':ledger:', '🤛': ':left-facing_fist:', '🤛🏿': ':left-facing_fist_dark_skin_tone:', '🤛🏻': ':left-facing_fist_light_skin_tone:', '🤛🏾': ':left-facing_fist_medium-dark_skin_tone:', '🤛🏼': ':left-facing_fist_medium-light_skin_tone:', '🤛🏽': ':left-facing_fist_medium_skin_tone:', '↔': ':left-right_arrow:', '⬅': ':left_arrow:', '↪': ':left_arrow_curving_right:', '🛅': ':left_luggage:', '🗨': ':left_speech_bubble:', '🦵': ':leg:', '🦵🏿': ':leg_dark_skin_tone:', '🦵🏻': ':leg_light_skin_tone:', '🦵🏾': ':leg_medium-dark_skin_tone:', '🦵🏼': ':leg_medium-light_skin_tone:', '🦵🏽': ':leg_medium_skin_tone:', '🍋': ':lemon:', '🐆': ':leopard:', '🎚': ':level_slider:', '💡': ':light_bulb:', '🚈': ':light_rail:', '🏻': ':light_skin_tone:', '🔗': ':link:', '🖇': ':linked_paperclips:', '🦁': ':lion:', '💄': ':lipstick:', '🚮': ':litter_in_bin_sign:', '🦎': ':lizard:', '🦙': ':llama:', '🦞': ':lobster:', '🔒': ':locked:', '🔐': ':locked_with_key:', '🔏': ':locked_with_pen:', '🚂': ':locomotive:', '🍭': ':lollipop:', '🪘': ':long_drum:', '🧴': ':lotion_bottle:', '😭': ':loudly_crying_face:', '📢': ':loudspeaker:', '🤟': ':love-you_gesture:', '🤟🏿': ':love-you_gesture_dark_skin_tone:', '🤟🏻': ':love-you_gesture_light_skin_tone:', '🤟🏾': ':love-you_gesture_medium-dark_skin_tone:', '🤟🏼': ':love-you_gesture_medium-light_skin_tone:', '🤟🏽': ':love-you_gesture_medium_skin_tone:', '🏩': ':love_hotel:', '💌': ':love_letter:', '🧳': ':luggage:', '🫁': ':lungs:', '🤥': ':lying_face:', '🧙': ':mage:', '🧙🏿': ':mage_dark_skin_tone:', '🧙🏻': ':mage_light_skin_tone:', '🧙🏾': ':mage_medium-dark_skin_tone:', '🧙🏼': ':mage_medium-light_skin_tone:', '🧙🏽': ':mage_medium_skin_tone:', '🪄': ':magic_wand:', '🧲': ':magnet:', '🔍': ':magnifying_glass_tilted_left:', '🔎': ':magnifying_glass_tilted_right:', '🀄': ':mahjong_red_dragon:', '♂': ':male_sign:', '🦣': ':mammoth:', '👨': ':man:', '👨\\u200d🎨': ':man_artist:', '👨🏿\\u200d🎨': ':man_artist_dark_skin_tone:', '👨🏻\\u200d🎨': ':man_artist_light_skin_tone:', '👨🏾\\u200d🎨': ':man_artist_medium-dark_skin_tone:', '👨🏼\\u200d🎨': ':man_artist_medium-light_skin_tone:', '👨🏽\\u200d🎨': ':man_artist_medium_skin_tone:', '👨\\u200d🚀': ':man_astronaut:', '👨🏿\\u200d🚀': ':man_astronaut_dark_skin_tone:', '👨🏻\\u200d🚀': ':man_astronaut_light_skin_tone:', '👨🏾\\u200d🚀': ':man_astronaut_medium-dark_skin_tone:', '👨🏼\\u200d🚀': ':man_astronaut_medium-light_skin_tone:', '👨🏽\\u200d🚀': ':man_astronaut_medium_skin_tone:', '👨\\u200d🦲': ':man_bald:', '🧔\\u200d♂️': ':man_beard:', '🚴\\u200d♂️': ':man_biking:', '🚴🏿\\u200d♂️': ':man_biking_dark_skin_tone:', '🚴🏻\\u200d♂️': ':man_biking_light_skin_tone:', '🚴🏾\\u200d♂️': ':man_biking_medium-dark_skin_tone:', '🚴🏼\\u200d♂️': ':man_biking_medium-light_skin_tone:', '🚴🏽\\u200d♂️': ':man_biking_medium_skin_tone:', '👱\\u200d♂️': ':man_blond_hair:', '⛹️\\u200d♂️': ':man_bouncing_ball:', '⛹🏿\\u200d♂️': ':man_bouncing_ball_dark_skin_tone:', '⛹🏻\\u200d♂️': ':man_bouncing_ball_light_skin_tone:', '⛹🏾\\u200d♂️': ':man_bouncing_ball_medium-dark_skin_tone:', '⛹🏼\\u200d♂️': ':man_bouncing_ball_medium-light_skin_tone:', '⛹🏽\\u200d♂️': ':man_bouncing_ball_medium_skin_tone:', '🙇\\u200d♂️': ':man_bowing:', '🙇🏿\\u200d♂️': ':man_bowing_dark_skin_tone:', '🙇🏻\\u200d♂️': ':man_bowing_light_skin_tone:', '🙇🏾\\u200d♂️': ':man_bowing_medium-dark_skin_tone:', '🙇🏼\\u200d♂️': ':man_bowing_medium-light_skin_tone:', '🙇🏽\\u200d♂️': ':man_bowing_medium_skin_tone:', '🤸\\u200d♂️': ':man_cartwheeling:', '🤸🏿\\u200d♂️': ':man_cartwheeling_dark_skin_tone:', '🤸🏻\\u200d♂️': ':man_cartwheeling_light_skin_tone:', '🤸🏾\\u200d♂️': ':man_cartwheeling_medium-dark_skin_tone:', '🤸🏼\\u200d♂️': ':man_cartwheeling_medium-light_skin_tone:', '🤸🏽\\u200d♂️': ':man_cartwheeling_medium_skin_tone:', '🧗\\u200d♂️': ':man_climbing:', '🧗🏿\\u200d♂️': ':man_climbing_dark_skin_tone:', '🧗🏻\\u200d♂️': ':man_climbing_light_skin_tone:', '🧗🏾\\u200d♂️': ':man_climbing_medium-dark_skin_tone:', '🧗🏼\\u200d♂️': ':man_climbing_medium-light_skin_tone:', '🧗🏽\\u200d♂️': ':man_climbing_medium_skin_tone:', '👷\\u200d♂️': ':man_construction_worker:', '👷🏿\\u200d♂️': ':man_construction_worker_dark_skin_tone:', '👷🏻\\u200d♂️': ':man_construction_worker_light_skin_tone:', '👷🏾\\u200d♂️': ':man_construction_worker_medium-dark_skin_tone:', '👷🏼\\u200d♂️': ':man_construction_worker_medium-light_skin_tone:', '👷🏽\\u200d♂️': ':man_construction_worker_medium_skin_tone:', '👨\\u200d🍳': ':man_cook:', '👨🏿\\u200d🍳': ':man_cook_dark_skin_tone:', '👨🏻\\u200d🍳': ':man_cook_light_skin_tone:', '👨🏾\\u200d🍳': ':man_cook_medium-dark_skin_tone:', '👨🏼\\u200d🍳': ':man_cook_medium-light_skin_tone:', '👨🏽\\u200d🍳': ':man_cook_medium_skin_tone:', '👨\\u200d🦱': ':man_curly_hair:', '🕺': ':man_dancing:', '🕺🏿': ':man_dancing_dark_skin_tone:', '🕺🏻': ':man_dancing_light_skin_tone:', '🕺🏾': ':man_dancing_medium-dark_skin_tone:', '🕺🏼': ':man_dancing_medium-light_skin_tone:', '🕺🏽': ':man_dancing_medium_skin_tone:', '👨🏿': ':man_dark_skin_tone:', '👨🏿\\u200d🦲': ':man_dark_skin_tone_bald:', '🧔🏿\\u200d♂️': ':man_dark_skin_tone_beard:', '👱🏿\\u200d♂️': ':man_dark_skin_tone_blond_hair:', '👨🏿\\u200d🦱': ':man_dark_skin_tone_curly_hair:', '👨🏿\\u200d🦰': ':man_dark_skin_tone_red_hair:', '👨🏿\\u200d🦳': ':man_dark_skin_tone_white_hair:', '🕵️\\u200d♂️': ':man_detective:', '🕵🏿\\u200d♂️': ':man_detective_dark_skin_tone:', '🕵🏻\\u200d♂️': ':man_detective_light_skin_tone:', '🕵🏾\\u200d♂️': ':man_detective_medium-dark_skin_tone:', '🕵🏼\\u200d♂️': ':man_detective_medium-light_skin_tone:', '🕵🏽\\u200d♂️': ':man_detective_medium_skin_tone:', '🧝\\u200d♂️': ':man_elf:', '🧝🏿\\u200d♂️': ':man_elf_dark_skin_tone:', '🧝🏻\\u200d♂️': ':man_elf_light_skin_tone:', '🧝🏾\\u200d♂️': ':man_elf_medium-dark_skin_tone:', '🧝🏼\\u200d♂️': ':man_elf_medium-light_skin_tone:', '🧝🏽\\u200d♂️': ':man_elf_medium_skin_tone:', '🤦\\u200d♂️': ':man_facepalming:', '🤦🏿\\u200d♂️': ':man_facepalming_dark_skin_tone:', '🤦🏻\\u200d♂️': ':man_facepalming_light_skin_tone:', '🤦🏾\\u200d♂️': ':man_facepalming_medium-dark_skin_tone:', '🤦🏼\\u200d♂️': ':man_facepalming_medium-light_skin_tone:', '🤦🏽\\u200d♂️': ':man_facepalming_medium_skin_tone:', '👨\\u200d🏭': ':man_factory_worker:', '👨🏿\\u200d🏭': ':man_factory_worker_dark_skin_tone:', '👨🏻\\u200d🏭': ':man_factory_worker_light_skin_tone:', '👨🏾\\u200d🏭': ':man_factory_worker_medium-dark_skin_tone:', '👨🏼\\u200d🏭': ':man_factory_worker_medium-light_skin_tone:', '👨🏽\\u200d🏭': ':man_factory_worker_medium_skin_tone:', '🧚\\u200d♂️': ':man_fairy:', '🧚🏿\\u200d♂️': ':man_fairy_dark_skin_tone:', '🧚🏻\\u200d♂️': ':man_fairy_light_skin_tone:', '🧚🏾\\u200d♂️': ':man_fairy_medium-dark_skin_tone:', '🧚🏼\\u200d♂️': ':man_fairy_medium-light_skin_tone:', '🧚🏽\\u200d♂️': ':man_fairy_medium_skin_tone:', '👨\\u200d🌾': ':man_farmer:', '👨🏿\\u200d🌾': ':man_farmer_dark_skin_tone:', '👨🏻\\u200d🌾': ':man_farmer_light_skin_tone:', '👨🏾\\u200d🌾': ':man_farmer_medium-dark_skin_tone:', '👨🏼\\u200d🌾': ':man_farmer_medium-light_skin_tone:', '👨🏽\\u200d🌾': ':man_farmer_medium_skin_tone:', '👨\\u200d🍼': ':man_feeding_baby:', '👨🏿\\u200d🍼': ':man_feeding_baby_dark_skin_tone:', '👨🏻\\u200d🍼': ':man_feeding_baby_light_skin_tone:', '👨🏾\\u200d🍼': ':man_feeding_baby_medium-dark_skin_tone:', '👨🏼\\u200d🍼': ':man_feeding_baby_medium-light_skin_tone:', '👨🏽\\u200d🍼': ':man_feeding_baby_medium_skin_tone:', '👨\\u200d🚒': ':man_firefighter:', '👨🏿\\u200d🚒': ':man_firefighter_dark_skin_tone:', '👨🏻\\u200d🚒': ':man_firefighter_light_skin_tone:', '👨🏾\\u200d🚒': ':man_firefighter_medium-dark_skin_tone:', '👨🏼\\u200d🚒': ':man_firefighter_medium-light_skin_tone:', '👨🏽\\u200d🚒': ':man_firefighter_medium_skin_tone:', '🙍\\u200d♂️': ':man_frowning:', '🙍🏿\\u200d♂️': ':man_frowning_dark_skin_tone:', '🙍🏻\\u200d♂️': ':man_frowning_light_skin_tone:', '🙍🏾\\u200d♂️': ':man_frowning_medium-dark_skin_tone:', '🙍🏼\\u200d♂️': ':man_frowning_medium-light_skin_tone:', '🙍🏽\\u200d♂️': ':man_frowning_medium_skin_tone:', '🧞\\u200d♂️': ':man_genie:', '🙅\\u200d♂️': ':man_gesturing_NO:', '🙅🏿\\u200d♂️': ':man_gesturing_NO_dark_skin_tone:', '🙅🏻\\u200d♂️': ':man_gesturing_NO_light_skin_tone:', '🙅🏾\\u200d♂️': ':man_gesturing_NO_medium-dark_skin_tone:', '🙅🏼\\u200d♂️': ':man_gesturing_NO_medium-light_skin_tone:', '🙅🏽\\u200d♂️': ':man_gesturing_NO_medium_skin_tone:', '🙆\\u200d♂️': ':man_gesturing_OK:', '🙆🏿\\u200d♂️': ':man_gesturing_OK_dark_skin_tone:', '🙆🏻\\u200d♂️': ':man_gesturing_OK_light_skin_tone:', '🙆🏾\\u200d♂️': ':man_gesturing_OK_medium-dark_skin_tone:', '🙆🏼\\u200d♂️': ':man_gesturing_OK_medium-light_skin_tone:', '🙆🏽\\u200d♂️': ':man_gesturing_OK_medium_skin_tone:', '💇\\u200d♂️': ':man_getting_haircut:', '💇🏿\\u200d♂️': ':man_getting_haircut_dark_skin_tone:', '💇🏻\\u200d♂️': ':man_getting_haircut_light_skin_tone:', '💇🏾\\u200d♂️': ':man_getting_haircut_medium-dark_skin_tone:', '💇🏼\\u200d♂️': ':man_getting_haircut_medium-light_skin_tone:', '💇🏽\\u200d♂️': ':man_getting_haircut_medium_skin_tone:', '💆\\u200d♂️': ':man_getting_massage:', '💆🏿\\u200d♂️': ':man_getting_massage_dark_skin_tone:', '💆🏻\\u200d♂️': ':man_getting_massage_light_skin_tone:', '💆🏾\\u200d♂️': ':man_getting_massage_medium-dark_skin_tone:', '💆🏼\\u200d♂️': ':man_getting_massage_medium-light_skin_tone:', '💆🏽\\u200d♂️': ':man_getting_massage_medium_skin_tone:', '🏌️\\u200d♂️': ':man_golfing:', '🏌🏿\\u200d♂️': ':man_golfing_dark_skin_tone:', '🏌🏻\\u200d♂️': ':man_golfing_light_skin_tone:', '🏌🏾\\u200d♂️': ':man_golfing_medium-dark_skin_tone:', '🏌🏼\\u200d♂️': ':man_golfing_medium-light_skin_tone:', '🏌🏽\\u200d♂️': ':man_golfing_medium_skin_tone:', '💂\\u200d♂️': ':man_guard:', '💂🏿\\u200d♂️': ':man_guard_dark_skin_tone:', '💂🏻\\u200d♂️': ':man_guard_light_skin_tone:', '💂🏾\\u200d♂️': ':man_guard_medium-dark_skin_tone:', '💂🏼\\u200d♂️': ':man_guard_medium-light_skin_tone:', '💂🏽\\u200d♂️': ':man_guard_medium_skin_tone:', '👨\\u200d⚕️': ':man_health_worker:', '👨🏿\\u200d⚕️': ':man_health_worker_dark_skin_tone:', '👨🏻\\u200d⚕️': ':man_health_worker_light_skin_tone:', '👨🏾\\u200d⚕️': ':man_health_worker_medium-dark_skin_tone:', '👨🏼\\u200d⚕️': ':man_health_worker_medium-light_skin_tone:', '👨🏽\\u200d⚕️': ':man_health_worker_medium_skin_tone:', '🧘\\u200d♂️': ':man_in_lotus_position:', '🧘🏿\\u200d♂️': ':man_in_lotus_position_dark_skin_tone:', '🧘🏻\\u200d♂️': ':man_in_lotus_position_light_skin_tone:', '🧘🏾\\u200d♂️': ':man_in_lotus_position_medium-dark_skin_tone:', '🧘🏼\\u200d♂️': ':man_in_lotus_position_medium-light_skin_tone:', '🧘🏽\\u200d♂️': ':man_in_lotus_position_medium_skin_tone:', '👨\\u200d🦽': ':man_in_manual_wheelchair:', '👨🏿\\u200d🦽': ':man_in_manual_wheelchair_dark_skin_tone:', '👨🏻\\u200d🦽': ':man_in_manual_wheelchair_light_skin_tone:', '👨🏾\\u200d🦽': ':man_in_manual_wheelchair_medium-dark_skin_tone:', '👨🏼\\u200d🦽': ':man_in_manual_wheelchair_medium-light_skin_tone:', '👨🏽\\u200d🦽': ':man_in_manual_wheelchair_medium_skin_tone:', '👨\\u200d🦼': ':man_in_motorized_wheelchair:', '👨🏿\\u200d🦼': ':man_in_motorized_wheelchair_dark_skin_tone:', '👨🏻\\u200d🦼': ':man_in_motorized_wheelchair_light_skin_tone:', '👨🏾\\u200d🦼': ':man_in_motorized_wheelchair_medium-dark_skin_tone:', '👨🏼\\u200d🦼': ':man_in_motorized_wheelchair_medium-light_skin_tone:', '👨🏽\\u200d🦼': ':man_in_motorized_wheelchair_medium_skin_tone:', '🧖\\u200d♂️': ':man_in_steamy_room:', '🧖🏿\\u200d♂️': ':man_in_steamy_room_dark_skin_tone:', '🧖🏻\\u200d♂️': ':man_in_steamy_room_light_skin_tone:', '🧖🏾\\u200d♂️': ':man_in_steamy_room_medium-dark_skin_tone:', '🧖🏼\\u200d♂️': ':man_in_steamy_room_medium-light_skin_tone:', '🧖🏽\\u200d♂️': ':man_in_steamy_room_medium_skin_tone:', '🤵\\u200d♂️': ':man_in_tuxedo:', '🤵🏿\\u200d♂️': ':man_in_tuxedo_dark_skin_tone:', '🤵🏻\\u200d♂️': ':man_in_tuxedo_light_skin_tone:', '🤵🏾\\u200d♂️': ':man_in_tuxedo_medium-dark_skin_tone:', '🤵🏼\\u200d♂️': ':man_in_tuxedo_medium-light_skin_tone:', '🤵🏽\\u200d♂️': ':man_in_tuxedo_medium_skin_tone:', '👨\\u200d⚖️': ':man_judge:', '👨🏿\\u200d⚖️': ':man_judge_dark_skin_tone:', '👨🏻\\u200d⚖️': ':man_judge_light_skin_tone:', '👨🏾\\u200d⚖️': ':man_judge_medium-dark_skin_tone:', '👨🏼\\u200d⚖️': ':man_judge_medium-light_skin_tone:', '👨🏽\\u200d⚖️': ':man_judge_medium_skin_tone:', '🤹\\u200d♂️': ':man_juggling:', '🤹🏿\\u200d♂️': ':man_juggling_dark_skin_tone:', '🤹🏻\\u200d♂️': ':man_juggling_light_skin_tone:', '🤹🏾\\u200d♂️': ':man_juggling_medium-dark_skin_tone:', '🤹🏼\\u200d♂️': ':man_juggling_medium-light_skin_tone:', '🤹🏽\\u200d♂️': ':man_juggling_medium_skin_tone:', '🧎\\u200d♂️': ':man_kneeling:', '🧎🏿\\u200d♂️': ':man_kneeling_dark_skin_tone:', '🧎🏻\\u200d♂️': ':man_kneeling_light_skin_tone:', '🧎🏾\\u200d♂️': ':man_kneeling_medium-dark_skin_tone:', '🧎🏼\\u200d♂️': ':man_kneeling_medium-light_skin_tone:', '🧎🏽\\u200d♂️': ':man_kneeling_medium_skin_tone:', '🏋️\\u200d♂️': ':man_lifting_weights:', '🏋🏿\\u200d♂️': ':man_lifting_weights_dark_skin_tone:', '🏋🏻\\u200d♂️': ':man_lifting_weights_light_skin_tone:', '🏋🏾\\u200d♂️': ':man_lifting_weights_medium-dark_skin_tone:', '🏋🏼\\u200d♂️': ':man_lifting_weights_medium-light_skin_tone:', '🏋🏽\\u200d♂️': ':man_lifting_weights_medium_skin_tone:', '👨🏻': ':man_light_skin_tone:', '👨🏻\\u200d🦲': ':man_light_skin_tone_bald:', '🧔🏻\\u200d♂️': ':man_light_skin_tone_beard:', '👱🏻\\u200d♂️': ':man_light_skin_tone_blond_hair:', '👨🏻\\u200d🦱': ':man_light_skin_tone_curly_hair:', '👨🏻\\u200d🦰': ':man_light_skin_tone_red_hair:', '👨🏻\\u200d🦳': ':man_light_skin_tone_white_hair:', '🧙\\u200d♂️': ':man_mage:', '🧙🏿\\u200d♂️': ':man_mage_dark_skin_tone:', '🧙🏻\\u200d♂️': ':man_mage_light_skin_tone:', '🧙🏾\\u200d♂️': ':man_mage_medium-dark_skin_tone:', '🧙🏼\\u200d♂️': ':man_mage_medium-light_skin_tone:', '🧙🏽\\u200d♂️': ':man_mage_medium_skin_tone:', '👨\\u200d🔧': ':man_mechanic:', '👨🏿\\u200d🔧': ':man_mechanic_dark_skin_tone:', '👨🏻\\u200d🔧': ':man_mechanic_light_skin_tone:', '👨🏾\\u200d🔧': ':man_mechanic_medium-dark_skin_tone:', '👨🏼\\u200d🔧': ':man_mechanic_medium-light_skin_tone:', '👨🏽\\u200d🔧': ':man_mechanic_medium_skin_tone:', '👨🏾': ':man_medium-dark_skin_tone:', '👨🏾\\u200d🦲': ':man_medium-dark_skin_tone_bald:', '🧔🏾\\u200d♂️': ':man_medium-dark_skin_tone_beard:', '👱🏾\\u200d♂️': ':man_medium-dark_skin_tone_blond_hair:', '👨🏾\\u200d🦱': ':man_medium-dark_skin_tone_curly_hair:', '👨🏾\\u200d🦰': ':man_medium-dark_skin_tone_red_hair:', '👨🏾\\u200d🦳': ':man_medium-dark_skin_tone_white_hair:', '👨🏼': ':man_medium-light_skin_tone:', '👨🏼\\u200d🦲': ':man_medium-light_skin_tone_bald:', '🧔🏼\\u200d♂️': ':man_medium-light_skin_tone_beard:', '👱🏼\\u200d♂️': ':man_medium-light_skin_tone_blond_hair:', '👨🏼\\u200d🦱': ':man_medium-light_skin_tone_curly_hair:', '👨🏼\\u200d🦰': ':man_medium-light_skin_tone_red_hair:', '👨🏼\\u200d🦳': ':man_medium-light_skin_tone_white_hair:', '👨🏽': ':man_medium_skin_tone:', '👨🏽\\u200d🦲': ':man_medium_skin_tone_bald:', '🧔🏽\\u200d♂️': ':man_medium_skin_tone_beard:', '👱🏽\\u200d♂️': ':man_medium_skin_tone_blond_hair:', '👨🏽\\u200d🦱': ':man_medium_skin_tone_curly_hair:', '👨🏽\\u200d🦰': ':man_medium_skin_tone_red_hair:', '👨🏽\\u200d🦳': ':man_medium_skin_tone_white_hair:', '🚵\\u200d♂️': ':man_mountain_biking:', '🚵🏿\\u200d♂️': ':man_mountain_biking_dark_skin_tone:', '🚵🏻\\u200d♂️': ':man_mountain_biking_light_skin_tone:', '🚵🏾\\u200d♂️': ':man_mountain_biking_medium-dark_skin_tone:', '🚵🏼\\u200d♂️': ':man_mountain_biking_medium-light_skin_tone:', '🚵🏽\\u200d♂️': ':man_mountain_biking_medium_skin_tone:', '👨\\u200d💼': ':man_office_worker:', '👨🏿\\u200d💼': ':man_office_worker_dark_skin_tone:', '👨🏻\\u200d💼': ':man_office_worker_light_skin_tone:', '👨🏾\\u200d💼': ':man_office_worker_medium-dark_skin_tone:', '👨🏼\\u200d💼': ':man_office_worker_medium-light_skin_tone:', '👨🏽\\u200d💼': ':man_office_worker_medium_skin_tone:', '👨\\u200d✈️': ':man_pilot:', '👨🏿\\u200d✈️': ':man_pilot_dark_skin_tone:', '👨🏻\\u200d✈️': ':man_pilot_light_skin_tone:', '👨🏾\\u200d✈️': ':man_pilot_medium-dark_skin_tone:', '👨🏼\\u200d✈️': ':man_pilot_medium-light_skin_tone:', '👨🏽\\u200d✈️': ':man_pilot_medium_skin_tone:', '🤾\\u200d♂️': ':man_playing_handball:', '🤾🏿\\u200d♂️': ':man_playing_handball_dark_skin_tone:', '🤾🏻\\u200d♂️': ':man_playing_handball_light_skin_tone:', '🤾🏾\\u200d♂️': ':man_playing_handball_medium-dark_skin_tone:', '🤾🏼\\u200d♂️': ':man_playing_handball_medium-light_skin_tone:', '🤾🏽\\u200d♂️': ':man_playing_handball_medium_skin_tone:', '🤽\\u200d♂️': ':man_playing_water_polo:', '🤽🏿\\u200d♂️': ':man_playing_water_polo_dark_skin_tone:', '🤽🏻\\u200d♂️': ':man_playing_water_polo_light_skin_tone:', '🤽🏾\\u200d♂️': ':man_playing_water_polo_medium-dark_skin_tone:', '🤽🏼\\u200d♂️': ':man_playing_water_polo_medium-light_skin_tone:', '🤽🏽\\u200d♂️': ':man_playing_water_polo_medium_skin_tone:', '👮\\u200d♂️': ':man_police_officer:', '👮🏿\\u200d♂️': ':man_police_officer_dark_skin_tone:', '👮🏻\\u200d♂️': ':man_police_officer_light_skin_tone:', '👮🏾\\u200d♂️': ':man_police_officer_medium-dark_skin_tone:', '👮🏼\\u200d♂️': ':man_police_officer_medium-light_skin_tone:', '👮🏽\\u200d♂️': ':man_police_officer_medium_skin_tone:', '🙎\\u200d♂️': ':man_pouting:', '🙎🏿\\u200d♂️': ':man_pouting_dark_skin_tone:', '🙎🏻\\u200d♂️': ':man_pouting_light_skin_tone:', '🙎🏾\\u200d♂️': ':man_pouting_medium-dark_skin_tone:', '🙎🏼\\u200d♂️': ':man_pouting_medium-light_skin_tone:', '🙎🏽\\u200d♂️': ':man_pouting_medium_skin_tone:', '🙋\\u200d♂️': ':man_raising_hand:', '🙋🏿\\u200d♂️': ':man_raising_hand_dark_skin_tone:', '🙋🏻\\u200d♂️': ':man_raising_hand_light_skin_tone:', '🙋🏾\\u200d♂️': ':man_raising_hand_medium-dark_skin_tone:', '🙋🏼\\u200d♂️': ':man_raising_hand_medium-light_skin_tone:', '🙋🏽\\u200d♂️': ':man_raising_hand_medium_skin_tone:', '👨\\u200d🦰': ':man_red_hair:', '🚣\\u200d♂️': ':man_rowing_boat:', '🚣🏿\\u200d♂️': ':man_rowing_boat_dark_skin_tone:', '🚣🏻\\u200d♂️': ':man_rowing_boat_light_skin_tone:', '🚣🏾\\u200d♂️': ':man_rowing_boat_medium-dark_skin_tone:', '🚣🏼\\u200d♂️': ':man_rowing_boat_medium-light_skin_tone:', '🚣🏽\\u200d♂️': ':man_rowing_boat_medium_skin_tone:', '🏃\\u200d♂️': ':man_running:', '🏃🏿\\u200d♂️': ':man_running_dark_skin_tone:', '🏃🏻\\u200d♂️': ':man_running_light_skin_tone:', '🏃🏾\\u200d♂️': ':man_running_medium-dark_skin_tone:', '🏃🏼\\u200d♂️': ':man_running_medium-light_skin_tone:', '🏃🏽\\u200d♂️': ':man_running_medium_skin_tone:', '👨\\u200d🔬': ':man_scientist:', '👨🏿\\u200d🔬': ':man_scientist_dark_skin_tone:', '👨🏻\\u200d🔬': ':man_scientist_light_skin_tone:', '👨🏾\\u200d🔬': ':man_scientist_medium-dark_skin_tone:', '👨🏼\\u200d🔬': ':man_scientist_medium-light_skin_tone:', '👨🏽\\u200d🔬': ':man_scientist_medium_skin_tone:', '🤷\\u200d♂️': ':man_shrugging:', '🤷🏿\\u200d♂️': ':man_shrugging_dark_skin_tone:', '🤷🏻\\u200d♂️': ':man_shrugging_light_skin_tone:', '🤷🏾\\u200d♂️': ':man_shrugging_medium-dark_skin_tone:', '🤷🏼\\u200d♂️': ':man_shrugging_medium-light_skin_tone:', '🤷🏽\\u200d♂️': ':man_shrugging_medium_skin_tone:', '👨\\u200d🎤': ':man_singer:', '👨🏿\\u200d🎤': ':man_singer_dark_skin_tone:', '👨🏻\\u200d🎤': ':man_singer_light_skin_tone:', '👨🏾\\u200d🎤': ':man_singer_medium-dark_skin_tone:', '👨🏼\\u200d🎤': ':man_singer_medium-light_skin_tone:', '👨🏽\\u200d🎤': ':man_singer_medium_skin_tone:', '🧍\\u200d♂️': ':man_standing:', '🧍🏿\\u200d♂️': ':man_standing_dark_skin_tone:', '🧍🏻\\u200d♂️': ':man_standing_light_skin_tone:', '🧍🏾\\u200d♂️': ':man_standing_medium-dark_skin_tone:', '🧍🏼\\u200d♂️': ':man_standing_medium-light_skin_tone:', '🧍🏽\\u200d♂️': ':man_standing_medium_skin_tone:', '👨\\u200d🎓': ':man_student:', '👨🏿\\u200d🎓': ':man_student_dark_skin_tone:', '👨🏻\\u200d🎓': ':man_student_light_skin_tone:', '👨🏾\\u200d🎓': ':man_student_medium-dark_skin_tone:', '👨🏼\\u200d🎓': ':man_student_medium-light_skin_tone:', '👨🏽\\u200d🎓': ':man_student_medium_skin_tone:', '🦸\\u200d♂️': ':man_superhero:', '🦸🏿\\u200d♂️': ':man_superhero_dark_skin_tone:', '🦸🏻\\u200d♂️': ':man_superhero_light_skin_tone:', '🦸🏾\\u200d♂️': ':man_superhero_medium-dark_skin_tone:', '🦸🏼\\u200d♂️': ':man_superhero_medium-light_skin_tone:', '🦸🏽\\u200d♂️': ':man_superhero_medium_skin_tone:', '🦹\\u200d♂️': ':man_supervillain:', '🦹🏿\\u200d♂️': ':man_supervillain_dark_skin_tone:', '🦹🏻\\u200d♂️': ':man_supervillain_light_skin_tone:', '🦹🏾\\u200d♂️': ':man_supervillain_medium-dark_skin_tone:', '🦹🏼\\u200d♂️': ':man_supervillain_medium-light_skin_tone:', '🦹🏽\\u200d♂️': ':man_supervillain_medium_skin_tone:', '🏄\\u200d♂️': ':man_surfing:', '🏄🏿\\u200d♂️': ':man_surfing_dark_skin_tone:', '🏄🏻\\u200d♂️': ':man_surfing_light_skin_tone:', '🏄🏾\\u200d♂️': ':man_surfing_medium-dark_skin_tone:', '🏄🏼\\u200d♂️': ':man_surfing_medium-light_skin_tone:', '🏄🏽\\u200d♂️': ':man_surfing_medium_skin_tone:', '🏊\\u200d♂️': ':man_swimming:', '🏊🏿\\u200d♂️': ':man_swimming_dark_skin_tone:', '🏊🏻\\u200d♂️': ':man_swimming_light_skin_tone:', '🏊🏾\\u200d♂️': ':man_swimming_medium-dark_skin_tone:', '🏊🏼\\u200d♂️': ':man_swimming_medium-light_skin_tone:', '🏊🏽\\u200d♂️': ':man_swimming_medium_skin_tone:', '👨\\u200d🏫': ':man_teacher:', '👨🏿\\u200d🏫': ':man_teacher_dark_skin_tone:', '👨🏻\\u200d🏫': ':man_teacher_light_skin_tone:', '👨🏾\\u200d🏫': ':man_teacher_medium-dark_skin_tone:', '👨🏼\\u200d🏫': ':man_teacher_medium-light_skin_tone:', '👨🏽\\u200d🏫': ':man_teacher_medium_skin_tone:', '👨\\u200d💻': ':man_technologist:', '👨🏿\\u200d💻': ':man_technologist_dark_skin_tone:', '👨🏻\\u200d💻': ':man_technologist_light_skin_tone:', '👨🏾\\u200d💻': ':man_technologist_medium-dark_skin_tone:', '👨🏼\\u200d💻': ':man_technologist_medium-light_skin_tone:', '👨🏽\\u200d💻': ':man_technologist_medium_skin_tone:', '💁\\u200d♂️': ':man_tipping_hand:', '💁🏿\\u200d♂️': ':man_tipping_hand_dark_skin_tone:', '💁🏻\\u200d♂️': ':man_tipping_hand_light_skin_tone:', '💁🏾\\u200d♂️': ':man_tipping_hand_medium-dark_skin_tone:', '💁🏼\\u200d♂️': ':man_tipping_hand_medium-light_skin_tone:', '💁🏽\\u200d♂️': ':man_tipping_hand_medium_skin_tone:', '🧛\\u200d♂️': ':man_vampire:', '🧛🏿\\u200d♂️': ':man_vampire_dark_skin_tone:', '🧛🏻\\u200d♂️': ':man_vampire_light_skin_tone:', '🧛🏾\\u200d♂️': ':man_vampire_medium-dark_skin_tone:', '🧛🏼\\u200d♂️': ':man_vampire_medium-light_skin_tone:', '🧛🏽\\u200d♂️': ':man_vampire_medium_skin_tone:', '🚶\\u200d♂️': ':man_walking:', '🚶🏿\\u200d♂️': ':man_walking_dark_skin_tone:', '🚶🏻\\u200d♂️': ':man_walking_light_skin_tone:', '🚶🏾\\u200d♂️': ':man_walking_medium-dark_skin_tone:', '🚶🏼\\u200d♂️': ':man_walking_medium-light_skin_tone:', '🚶🏽\\u200d♂️': ':man_walking_medium_skin_tone:', '👳\\u200d♂️': ':man_wearing_turban:', '👳🏿\\u200d♂️': ':man_wearing_turban_dark_skin_tone:', '👳🏻\\u200d♂️': ':man_wearing_turban_light_skin_tone:', '👳🏾\\u200d♂️': ':man_wearing_turban_medium-dark_skin_tone:', '👳🏼\\u200d♂️': ':man_wearing_turban_medium-light_skin_tone:', '👳🏽\\u200d♂️': ':man_wearing_turban_medium_skin_tone:', '👨\\u200d🦳': ':man_white_hair:', '👰\\u200d♂️': ':man_with_veil:', '👰🏿\\u200d♂️': ':man_with_veil_dark_skin_tone:', '👰🏻\\u200d♂️': ':man_with_veil_light_skin_tone:', '👰🏾\\u200d♂️': ':man_with_veil_medium-dark_skin_tone:', '👰🏼\\u200d♂️': ':man_with_veil_medium-light_skin_tone:', '👰🏽\\u200d♂️': ':man_with_veil_medium_skin_tone:', '👨\\u200d🦯': ':man_with_white_cane:', '👨🏿\\u200d🦯': ':man_with_white_cane_dark_skin_tone:', '👨🏻\\u200d🦯': ':man_with_white_cane_light_skin_tone:', '👨🏾\\u200d🦯': ':man_with_white_cane_medium-dark_skin_tone:', '👨🏼\\u200d🦯': ':man_with_white_cane_medium-light_skin_tone:', '👨🏽\\u200d🦯': ':man_with_white_cane_medium_skin_tone:', '🧟\\u200d♂️': ':man_zombie:', '🥭': ':mango:', '🕰': ':mantelpiece_clock:', '🦽': ':manual_wheelchair:', '👞': ':man’s_shoe:', '🗾': ':map_of_Japan:', '🍁': ':maple_leaf:', '🥋': ':martial_arts_uniform:', '🧉': ':mate:', '🍖': ':meat_on_bone:', '🧑\\u200d🔧': ':mechanic:', '🧑🏿\\u200d🔧': ':mechanic_dark_skin_tone:', '🧑🏻\\u200d🔧': ':mechanic_light_skin_tone:', '🧑🏾\\u200d🔧': ':mechanic_medium-dark_skin_tone:', '🧑🏼\\u200d🔧': ':mechanic_medium-light_skin_tone:', '🧑🏽\\u200d🔧': ':mechanic_medium_skin_tone:', '🦾': ':mechanical_arm:', '🦿': ':mechanical_leg:', '⚕': ':medical_symbol:', '🏾': ':medium-dark_skin_tone:', '🏼': ':medium-light_skin_tone:', '🏽': ':medium_skin_tone:', '📣': ':megaphone:', '🍈': ':melon:', '📝': ':memo:', '👬': ':men_holding_hands:', '👬🏿': ':men_holding_hands_dark_skin_tone:', '👨🏿\\u200d🤝\\u200d👨🏻': ':men_holding_hands_dark_skin_tone_light_skin_tone:', '👨🏿\\u200d🤝\\u200d👨🏾': ':men_holding_hands_dark_skin_tone_medium-dark_skin_tone:', '👨🏿\\u200d🤝\\u200d👨🏼': ':men_holding_hands_dark_skin_tone_medium-light_skin_tone:', '👨🏿\\u200d🤝\\u200d👨🏽': ':men_holding_hands_dark_skin_tone_medium_skin_tone:', '👬🏻': ':men_holding_hands_light_skin_tone:', '👨🏻\\u200d🤝\\u200d👨🏿': ':men_holding_hands_light_skin_tone_dark_skin_tone:', '👨🏻\\u200d🤝\\u200d👨🏾': ':men_holding_hands_light_skin_tone_medium-dark_skin_tone:', '👨🏻\\u200d🤝\\u200d👨🏼': ':men_holding_hands_light_skin_tone_medium-light_skin_tone:', '👨🏻\\u200d🤝\\u200d👨🏽': ':men_holding_hands_light_skin_tone_medium_skin_tone:', '👬🏾': ':men_holding_hands_medium-dark_skin_tone:', '👨🏾\\u200d🤝\\u200d👨🏿': ':men_holding_hands_medium-dark_skin_tone_dark_skin_tone:', '👨🏾\\u200d🤝\\u200d👨🏻': ':men_holding_hands_medium-dark_skin_tone_light_skin_tone:', '👨🏾\\u200d🤝\\u200d👨🏼': ':men_holding_hands_medium-dark_skin_tone_medium-light_skin_tone:', '👨🏾\\u200d🤝\\u200d👨🏽': ':men_holding_hands_medium-dark_skin_tone_medium_skin_tone:', '👬🏼': ':men_holding_hands_medium-light_skin_tone:', '👨🏼\\u200d🤝\\u200d👨🏿': ':men_holding_hands_medium-light_skin_tone_dark_skin_tone:', '👨🏼\\u200d🤝\\u200d👨🏻': ':men_holding_hands_medium-light_skin_tone_light_skin_tone:', '👨🏼\\u200d🤝\\u200d👨🏾': ':men_holding_hands_medium-light_skin_tone_medium-dark_skin_tone:', '👨🏼\\u200d🤝\\u200d👨🏽': ':men_holding_hands_medium-light_skin_tone_medium_skin_tone:', '👬🏽': ':men_holding_hands_medium_skin_tone:', '👨🏽\\u200d🤝\\u200d👨🏿': ':men_holding_hands_medium_skin_tone_dark_skin_tone:', '👨🏽\\u200d🤝\\u200d👨🏻': ':men_holding_hands_medium_skin_tone_light_skin_tone:', '👨🏽\\u200d🤝\\u200d👨🏾': ':men_holding_hands_medium_skin_tone_medium-dark_skin_tone:', '👨🏽\\u200d🤝\\u200d👨🏼': ':men_holding_hands_medium_skin_tone_medium-light_skin_tone:', '👯\\u200d♂️': ':men_with_bunny_ears:', '🤼\\u200d♂️': ':men_wrestling:', '❤️\\u200d🩹': ':mending_heart:', '🕎': ':menorah:', '🚹': ':men’s_room:', '🧜\\u200d♀️': ':mermaid:', '🧜🏿\\u200d♀️': ':mermaid_dark_skin_tone:', '🧜🏻\\u200d♀️': ':mermaid_light_skin_tone:', '🧜🏾\\u200d♀️': ':mermaid_medium-dark_skin_tone:', '🧜🏼\\u200d♀️': ':mermaid_medium-light_skin_tone:', '🧜🏽\\u200d♀️': ':mermaid_medium_skin_tone:', '🧜\\u200d♂️': ':merman:', '🧜🏿\\u200d♂️': ':merman_dark_skin_tone:', '🧜🏻\\u200d♂️': ':merman_light_skin_tone:', '🧜🏾\\u200d♂️': ':merman_medium-dark_skin_tone:', '🧜🏼\\u200d♂️': ':merman_medium-light_skin_tone:', '🧜🏽\\u200d♂️': ':merman_medium_skin_tone:', '🧜': ':merperson:', '🧜🏿': ':merperson_dark_skin_tone:', '🧜🏻': ':merperson_light_skin_tone:', '🧜🏾': ':merperson_medium-dark_skin_tone:', '🧜🏼': ':merperson_medium-light_skin_tone:', '🧜🏽': ':merperson_medium_skin_tone:', '🚇': ':metro:', '🦠': ':microbe:', '🎤': ':microphone:', '🔬': ':microscope:', '🖕': ':middle_finger:', '🖕🏿': ':middle_finger_dark_skin_tone:', '🖕🏻': ':middle_finger_light_skin_tone:', '🖕🏾': ':middle_finger_medium-dark_skin_tone:', '🖕🏼': ':middle_finger_medium-light_skin_tone:', '🖕🏽': ':middle_finger_medium_skin_tone:', '🪖': ':military_helmet:', '🎖': ':military_medal:', '🌌': ':milky_way:', '🚐': ':minibus:', '➖': ':minus:', '🪞': ':mirror:', '🗿': ':moai:', '📱': ':mobile_phone:', '📴': ':mobile_phone_off:', '📲': ':mobile_phone_with_arrow:', '🤑': ':money-mouth_face:', '💰': ':money_bag:', '💸': ':money_with_wings:', '🐒': ':monkey:', '🐵': ':monkey_face:', '🚝': ':monorail:', '🥮': ':moon_cake:', '🎑': ':moon_viewing_ceremony:', '🕌': ':mosque:', '🦟': ':mosquito:', '🛥': ':motor_boat:', '🛵': ':motor_scooter:', '🏍': ':motorcycle:', '🦼': ':motorized_wheelchair:', '🛣': ':motorway:', '🗻': ':mount_fuji:', '⛰': ':mountain:', '🚠': ':mountain_cableway:', '🚞': ':mountain_railway:', '🐁': ':mouse:', '🐭': ':mouse_face:', '🪤': ':mouse_trap:', '👄': ':mouth:', '🎥': ':movie_camera:', '✖': ':multiply:', '🍄': ':mushroom:', '🎹': ':musical_keyboard:', '🎵': ':musical_note:', '🎶': ':musical_notes:', '🎼': ':musical_score:', '🔇': ':muted_speaker:', '🧑\\u200d🎄': ':mx_claus:', '🧑🏿\\u200d🎄': ':mx_claus_dark_skin_tone:', '🧑🏻\\u200d🎄': ':mx_claus_light_skin_tone:', '🧑🏾\\u200d🎄': ':mx_claus_medium-dark_skin_tone:', '🧑🏼\\u200d🎄': ':mx_claus_medium-light_skin_tone:', '🧑🏽\\u200d🎄': ':mx_claus_medium_skin_tone:', '💅': ':nail_polish:', '💅🏿': ':nail_polish_dark_skin_tone:', '💅🏻': ':nail_polish_light_skin_tone:', '💅🏾': ':nail_polish_medium-dark_skin_tone:', '💅🏼': ':nail_polish_medium-light_skin_tone:', '💅🏽': ':nail_polish_medium_skin_tone:', '📛': ':name_badge:', '🏞': ':national_park:', '🤢': ':nauseated_face:', '🧿': ':nazar_amulet:', '👔': ':necktie:', '🤓': ':nerd_face:', '🪆': ':nesting_dolls:', '😐': ':neutral_face:', '🌑': ':new_moon:', '🌚': ':new_moon_face:', '📰': ':newspaper:', '⏭': ':next_track_button:', '🌃': ':night_with_stars:', '🕤': ':nine-thirty:', '🕘': ':nine_o’clock:', '🥷': ':ninja:', '🥷🏿': ':ninja_dark_skin_tone:', '🥷🏻': ':ninja_light_skin_tone:', '🥷🏾': ':ninja_medium-dark_skin_tone:', '🥷🏼': ':ninja_medium-light_skin_tone:', '🥷🏽': ':ninja_medium_skin_tone:', '🚳': ':no_bicycles:', '⛔': ':no_entry:', '🚯': ':no_littering:', '📵': ':no_mobile_phones:', '🔞': ':no_one_under_eighteen:', '🚷': ':no_pedestrians:', '🚭': ':no_smoking:', '🚱': ':non-potable_water:', '👃': ':nose:', '👃🏿': ':nose_dark_skin_tone:', '👃🏻': ':nose_light_skin_tone:', '👃🏾': ':nose_medium-dark_skin_tone:', '👃🏼': ':nose_medium-light_skin_tone:', '👃🏽': ':nose_medium_skin_tone:', '📓': ':notebook:', '📔': ':notebook_with_decorative_cover:', '🔩': ':nut_and_bolt:', '🐙': ':octopus:', '🍢': ':oden:', '🏢': ':office_building:', '🧑\\u200d💼': ':office_worker:', '🧑🏿\\u200d💼': ':office_worker_dark_skin_tone:', '🧑🏻\\u200d💼': ':office_worker_light_skin_tone:', '🧑🏾\\u200d💼': ':office_worker_medium-dark_skin_tone:', '🧑🏼\\u200d💼': ':office_worker_medium-light_skin_tone:', '🧑🏽\\u200d💼': ':office_worker_medium_skin_tone:', '👹': ':ogre:', '🛢': ':oil_drum:', '🗝': ':old_key:', '👴': ':old_man:', '👴🏿': ':old_man_dark_skin_tone:', '👴🏻': ':old_man_light_skin_tone:', '👴🏾': ':old_man_medium-dark_skin_tone:', '👴🏼': ':old_man_medium-light_skin_tone:', '👴🏽': ':old_man_medium_skin_tone:', '👵': ':old_woman:', '👵🏿': ':old_woman_dark_skin_tone:', '👵🏻': ':old_woman_light_skin_tone:', '👵🏾': ':old_woman_medium-dark_skin_tone:', '👵🏼': ':old_woman_medium-light_skin_tone:', '👵🏽': ':old_woman_medium_skin_tone:', '🧓': ':older_person:', '🧓🏿': ':older_person_dark_skin_tone:', '🧓🏻': ':older_person_light_skin_tone:', '🧓🏾': ':older_person_medium-dark_skin_tone:', '🧓🏼': ':older_person_medium-light_skin_tone:', '🧓🏽': ':older_person_medium_skin_tone:', '🫒': ':olive:', '🕉': ':om:', '🚘': ':oncoming_automobile:', '🚍': ':oncoming_bus:', '👊': ':oncoming_fist:', '👊🏿': ':oncoming_fist_dark_skin_tone:', '👊🏻': ':oncoming_fist_light_skin_tone:', '👊🏾': ':oncoming_fist_medium-dark_skin_tone:', '👊🏼': ':oncoming_fist_medium-light_skin_tone:', '👊🏽': ':oncoming_fist_medium_skin_tone:', '🚔': ':oncoming_police_car:', '🚖': ':oncoming_taxi:', '🩱': ':one-piece_swimsuit:', '🕜': ':one-thirty:', '🕐': ':one_o’clock:', '🧅': ':onion:', '📖': ':open_book:', '📂': ':open_file_folder:', '👐': ':open_hands:', '👐🏿': ':open_hands_dark_skin_tone:', '👐🏻': ':open_hands_light_skin_tone:', '👐🏾': ':open_hands_medium-dark_skin_tone:', '👐🏼': ':open_hands_medium-light_skin_tone:', '👐🏽': ':open_hands_medium_skin_tone:', '📭': ':open_mailbox_with_lowered_flag:', '📬': ':open_mailbox_with_raised_flag:', '💿': ':optical_disk:', '📙': ':orange_book:', '🟠': ':orange_circle:', '🧡': ':orange_heart:', '🟧': ':orange_square:', '🦧': ':orangutan:', '☦': ':orthodox_cross:', '🦦': ':otter:', '📤': ':outbox_tray:', '🦉': ':owl:', '🐂': ':ox:', '🦪': ':oyster:', '📦': ':package:', '📄': ':page_facing_up:', '📃': ':page_with_curl:', '📟': ':pager:', '🖌': ':paintbrush:', '🌴': ':palm_tree:', '🤲': ':palms_up_together:', '🤲🏿': ':palms_up_together_dark_skin_tone:', '🤲🏻': ':palms_up_together_light_skin_tone:', '🤲🏾': ':palms_up_together_medium-dark_skin_tone:', '🤲🏼': ':palms_up_together_medium-light_skin_tone:', '🤲🏽': ':palms_up_together_medium_skin_tone:', '🥞': ':pancakes:', '🐼': ':panda:', '📎': ':paperclip:', '🪂': ':parachute:', '🦜': ':parrot:', '〽': ':part_alternation_mark:', '🎉': ':party_popper:', '🥳': ':partying_face:', '🛳': ':passenger_ship:', '🛂': ':passport_control:', '⏸': ':pause_button:', '🐾': ':paw_prints:', '☮': ':peace_symbol:', '🍑': ':peach:', '🦚': ':peacock:', '🥜': ':peanuts:', '🍐': ':pear:', '🖊': ':pen:', '✏': ':pencil:', '🐧': ':penguin:', '😔': ':pensive_face:', '🧑\\u200d🤝\\u200d🧑': ':people_holding_hands:', '🧑🏿\\u200d🤝\\u200d🧑🏿': ':people_holding_hands_dark_skin_tone:', '🧑🏿\\u200d🤝\\u200d🧑🏻': ':people_holding_hands_dark_skin_tone_light_skin_tone:', '🧑🏿\\u200d🤝\\u200d🧑🏾': ':people_holding_hands_dark_skin_tone_medium-dark_skin_tone:', '🧑🏿\\u200d🤝\\u200d🧑🏼': ':people_holding_hands_dark_skin_tone_medium-light_skin_tone:', '🧑🏿\\u200d🤝\\u200d🧑🏽': ':people_holding_hands_dark_skin_tone_medium_skin_tone:', '🧑🏻\\u200d🤝\\u200d🧑🏻': ':people_holding_hands_light_skin_tone:', '🧑🏻\\u200d🤝\\u200d🧑🏿': ':people_holding_hands_light_skin_tone_dark_skin_tone:', '🧑🏻\\u200d🤝\\u200d🧑🏾': ':people_holding_hands_light_skin_tone_medium-dark_skin_tone:', '🧑🏻\\u200d🤝\\u200d🧑🏼': ':people_holding_hands_light_skin_tone_medium-light_skin_tone:', '🧑🏻\\u200d🤝\\u200d🧑🏽': ':people_holding_hands_light_skin_tone_medium_skin_tone:', '🧑🏾\\u200d🤝\\u200d🧑🏾': ':people_holding_hands_medium-dark_skin_tone:', '🧑🏾\\u200d🤝\\u200d🧑🏿': ':people_holding_hands_medium-dark_skin_tone_dark_skin_tone:', '🧑🏾\\u200d🤝\\u200d🧑🏻': ':people_holding_hands_medium-dark_skin_tone_light_skin_tone:', '🧑🏾\\u200d🤝\\u200d🧑🏼': ':people_holding_hands_medium-dark_skin_tone_medium-light_skin_tone:', '🧑🏾\\u200d🤝\\u200d🧑🏽': ':people_holding_hands_medium-dark_skin_tone_medium_skin_tone:', '🧑🏼\\u200d🤝\\u200d🧑🏼': ':people_holding_hands_medium-light_skin_tone:', '🧑🏼\\u200d🤝\\u200d🧑🏿': ':people_holding_hands_medium-light_skin_tone_dark_skin_tone:', '🧑🏼\\u200d🤝\\u200d🧑🏻': ':people_holding_hands_medium-light_skin_tone_light_skin_tone:', '🧑🏼\\u200d🤝\\u200d🧑🏾': ':people_holding_hands_medium-light_skin_tone_medium-dark_skin_tone:', '🧑🏼\\u200d🤝\\u200d🧑🏽': ':people_holding_hands_medium-light_skin_tone_medium_skin_tone:', '🧑🏽\\u200d🤝\\u200d🧑🏽': ':people_holding_hands_medium_skin_tone:', '🧑🏽\\u200d🤝\\u200d🧑🏿': ':people_holding_hands_medium_skin_tone_dark_skin_tone:', '🧑🏽\\u200d🤝\\u200d🧑🏻': ':people_holding_hands_medium_skin_tone_light_skin_tone:', '🧑🏽\\u200d🤝\\u200d🧑🏾': ':people_holding_hands_medium_skin_tone_medium-dark_skin_tone:', '🧑🏽\\u200d🤝\\u200d🧑🏼': ':people_holding_hands_medium_skin_tone_medium-light_skin_tone:', '🫂': ':people_hugging:', '👯': ':people_with_bunny_ears:', '🤼': ':people_wrestling:', '🎭': ':performing_arts:', '😣': ':persevering_face:', '🧑': ':person:', '🧑\\u200d🦲': ':person_bald:', '🧔': ':person_beard:', '🚴': ':person_biking:', '🚴🏿': ':person_biking_dark_skin_tone:', '🚴🏻': ':person_biking_light_skin_tone:', '🚴🏾': ':person_biking_medium-dark_skin_tone:', '🚴🏼': ':person_biking_medium-light_skin_tone:', '🚴🏽': ':person_biking_medium_skin_tone:', '👱': ':person_blond_hair:', '⛹': ':person_bouncing_ball:', '⛹🏿': ':person_bouncing_ball_dark_skin_tone:', '⛹🏻': ':person_bouncing_ball_light_skin_tone:', '⛹🏾': ':person_bouncing_ball_medium-dark_skin_tone:', '⛹🏼': ':person_bouncing_ball_medium-light_skin_tone:', '⛹🏽': ':person_bouncing_ball_medium_skin_tone:', '🙇': ':person_bowing:', '🙇🏿': ':person_bowing_dark_skin_tone:', '🙇🏻': ':person_bowing_light_skin_tone:', '🙇🏾': ':person_bowing_medium-dark_skin_tone:', '🙇🏼': ':person_bowing_medium-light_skin_tone:', '🙇🏽': ':person_bowing_medium_skin_tone:', '🤸': ':person_cartwheeling:', '🤸🏿': ':person_cartwheeling_dark_skin_tone:', '🤸🏻': ':person_cartwheeling_light_skin_tone:', '🤸🏾': ':person_cartwheeling_medium-dark_skin_tone:', '🤸🏼': ':person_cartwheeling_medium-light_skin_tone:', '🤸🏽': ':person_cartwheeling_medium_skin_tone:', '🧗': ':person_climbing:', '🧗🏿': ':person_climbing_dark_skin_tone:', '🧗🏻': ':person_climbing_light_skin_tone:', '🧗🏾': ':person_climbing_medium-dark_skin_tone:', '🧗🏼': ':person_climbing_medium-light_skin_tone:', '🧗🏽': ':person_climbing_medium_skin_tone:', '🧑\\u200d🦱': ':person_curly_hair:', '🧑🏿': ':person_dark_skin_tone:', '🧑🏿\\u200d🦲': ':person_dark_skin_tone_bald:', '🧔🏿': ':person_dark_skin_tone_beard:', '👱🏿': ':person_dark_skin_tone_blond_hair:', '🧑🏿\\u200d🦱': ':person_dark_skin_tone_curly_hair:', '🧑🏿\\u200d🦰': ':person_dark_skin_tone_red_hair:', '🧑🏿\\u200d🦳': ':person_dark_skin_tone_white_hair:', '🤦': ':person_facepalming:', '🤦🏿': ':person_facepalming_dark_skin_tone:', '🤦🏻': ':person_facepalming_light_skin_tone:', '🤦🏾': ':person_facepalming_medium-dark_skin_tone:', '🤦🏼': ':person_facepalming_medium-light_skin_tone:', '🤦🏽': ':person_facepalming_medium_skin_tone:', '🧑\\u200d🍼': ':person_feeding_baby:', '🧑🏿\\u200d🍼': ':person_feeding_baby_dark_skin_tone:', '🧑🏻\\u200d🍼': ':person_feeding_baby_light_skin_tone:', '🧑🏾\\u200d🍼': ':person_feeding_baby_medium-dark_skin_tone:', '🧑🏼\\u200d🍼': ':person_feeding_baby_medium-light_skin_tone:', '🧑🏽\\u200d🍼': ':person_feeding_baby_medium_skin_tone:', '🤺': ':person_fencing:', '🙍': ':person_frowning:', '🙍🏿': ':person_frowning_dark_skin_tone:', '🙍🏻': ':person_frowning_light_skin_tone:', '🙍🏾': ':person_frowning_medium-dark_skin_tone:', '🙍🏼': ':person_frowning_medium-light_skin_tone:', '🙍🏽': ':person_frowning_medium_skin_tone:', '🙅': ':person_gesturing_NO:', '🙅🏿': ':person_gesturing_NO_dark_skin_tone:', '🙅🏻': ':person_gesturing_NO_light_skin_tone:', '🙅🏾': ':person_gesturing_NO_medium-dark_skin_tone:', '🙅🏼': ':person_gesturing_NO_medium-light_skin_tone:', '🙅🏽': ':person_gesturing_NO_medium_skin_tone:', '🙆': ':person_gesturing_OK:', '🙆🏿': ':person_gesturing_OK_dark_skin_tone:', '🙆🏻': ':person_gesturing_OK_light_skin_tone:', '🙆🏾': ':person_gesturing_OK_medium-dark_skin_tone:', '🙆🏼': ':person_gesturing_OK_medium-light_skin_tone:', '🙆🏽': ':person_gesturing_OK_medium_skin_tone:', '💇': ':person_getting_haircut:', '💇🏿': ':person_getting_haircut_dark_skin_tone:', '💇🏻': ':person_getting_haircut_light_skin_tone:', '💇🏾': ':person_getting_haircut_medium-dark_skin_tone:', '💇🏼': ':person_getting_haircut_medium-light_skin_tone:', '💇🏽': ':person_getting_haircut_medium_skin_tone:', '💆': ':person_getting_massage:', '💆🏿': ':person_getting_massage_dark_skin_tone:', '💆🏻': ':person_getting_massage_light_skin_tone:', '💆🏾': ':person_getting_massage_medium-dark_skin_tone:', '💆🏼': ':person_getting_massage_medium-light_skin_tone:', '💆🏽': ':person_getting_massage_medium_skin_tone:', '🏌': ':person_golfing:', '🏌🏿': ':person_golfing_dark_skin_tone:', '🏌🏻': ':person_golfing_light_skin_tone:', '🏌🏾': ':person_golfing_medium-dark_skin_tone:', '🏌🏼': ':person_golfing_medium-light_skin_tone:', '🏌🏽': ':person_golfing_medium_skin_tone:', '🛌': ':person_in_bed:', '🛌🏿': ':person_in_bed_dark_skin_tone:', '🛌🏻': ':person_in_bed_light_skin_tone:', '🛌🏾': ':person_in_bed_medium-dark_skin_tone:', '🛌🏼': ':person_in_bed_medium-light_skin_tone:', '🛌🏽': ':person_in_bed_medium_skin_tone:', '🧘': ':person_in_lotus_position:', '🧘🏿': ':person_in_lotus_position_dark_skin_tone:', '🧘🏻': ':person_in_lotus_position_light_skin_tone:', '🧘🏾': ':person_in_lotus_position_medium-dark_skin_tone:', '🧘🏼': ':person_in_lotus_position_medium-light_skin_tone:', '🧘🏽': ':person_in_lotus_position_medium_skin_tone:', '🧑\\u200d🦽': ':person_in_manual_wheelchair:', '🧑🏿\\u200d🦽': ':person_in_manual_wheelchair_dark_skin_tone:', '🧑🏻\\u200d🦽': ':person_in_manual_wheelchair_light_skin_tone:', '🧑🏾\\u200d🦽': ':person_in_manual_wheelchair_medium-dark_skin_tone:', '🧑🏼\\u200d🦽': ':person_in_manual_wheelchair_medium-light_skin_tone:', '🧑🏽\\u200d🦽': ':person_in_manual_wheelchair_medium_skin_tone:', '🧑\\u200d🦼': ':person_in_motorized_wheelchair:', '🧑🏿\\u200d🦼': ':person_in_motorized_wheelchair_dark_skin_tone:', '🧑🏻\\u200d🦼': ':person_in_motorized_wheelchair_light_skin_tone:', '🧑🏾\\u200d🦼': ':person_in_motorized_wheelchair_medium-dark_skin_tone:', '🧑🏼\\u200d🦼': ':person_in_motorized_wheelchair_medium-light_skin_tone:', '🧑🏽\\u200d🦼': ':person_in_motorized_wheelchair_medium_skin_tone:', '🧖': ':person_in_steamy_room:', '🧖🏿': ':person_in_steamy_room_dark_skin_tone:', '🧖🏻': ':person_in_steamy_room_light_skin_tone:', '🧖🏾': ':person_in_steamy_room_medium-dark_skin_tone:', '🧖🏼': ':person_in_steamy_room_medium-light_skin_tone:', '🧖🏽': ':person_in_steamy_room_medium_skin_tone:', '🕴': ':person_in_suit_levitating:', '🕴🏿': ':person_in_suit_levitating_dark_skin_tone:', '🕴🏻': ':person_in_suit_levitating_light_skin_tone:', '🕴🏾': ':person_in_suit_levitating_medium-dark_skin_tone:', '🕴🏼': ':person_in_suit_levitating_medium-light_skin_tone:', '🕴🏽': ':person_in_suit_levitating_medium_skin_tone:', '🤵': ':person_in_tuxedo:', '🤵🏿': ':person_in_tuxedo_dark_skin_tone:', '🤵🏻': ':person_in_tuxedo_light_skin_tone:', '🤵🏾': ':person_in_tuxedo_medium-dark_skin_tone:', '🤵🏼': ':person_in_tuxedo_medium-light_skin_tone:', '🤵🏽': ':person_in_tuxedo_medium_skin_tone:', '🤹': ':person_juggling:', '🤹🏿': ':person_juggling_dark_skin_tone:', '🤹🏻': ':person_juggling_light_skin_tone:', '🤹🏾': ':person_juggling_medium-dark_skin_tone:', '🤹🏼': ':person_juggling_medium-light_skin_tone:', '🤹🏽': ':person_juggling_medium_skin_tone:', '🧎': ':person_kneeling:', '🧎🏿': ':person_kneeling_dark_skin_tone:', '🧎🏻': ':person_kneeling_light_skin_tone:', '🧎🏾': ':person_kneeling_medium-dark_skin_tone:', '🧎🏼': ':person_kneeling_medium-light_skin_tone:', '🧎🏽': ':person_kneeling_medium_skin_tone:', '🏋': ':person_lifting_weights:', '🏋🏿': ':person_lifting_weights_dark_skin_tone:', '🏋🏻': ':person_lifting_weights_light_skin_tone:', '🏋🏾': ':person_lifting_weights_medium-dark_skin_tone:', '🏋🏼': ':person_lifting_weights_medium-light_skin_tone:', '🏋🏽': ':person_lifting_weights_medium_skin_tone:', '🧑🏻': ':person_light_skin_tone:', '🧑🏻\\u200d🦲': ':person_light_skin_tone_bald:', '🧔🏻': ':person_light_skin_tone_beard:', '👱🏻': ':person_light_skin_tone_blond_hair:', '🧑🏻\\u200d🦱': ':person_light_skin_tone_curly_hair:', '🧑🏻\\u200d🦰': ':person_light_skin_tone_red_hair:', '🧑🏻\\u200d🦳': ':person_light_skin_tone_white_hair:', '🧑🏾': ':person_medium-dark_skin_tone:', '🧑🏾\\u200d🦲': ':person_medium-dark_skin_tone_bald:', '🧔🏾': ':person_medium-dark_skin_tone_beard:', '👱🏾': ':person_medium-dark_skin_tone_blond_hair:', '🧑🏾\\u200d🦱': ':person_medium-dark_skin_tone_curly_hair:', '🧑🏾\\u200d🦰': ':person_medium-dark_skin_tone_red_hair:', '🧑🏾\\u200d🦳': ':person_medium-dark_skin_tone_white_hair:', '🧑🏼': ':person_medium-light_skin_tone:', '🧑🏼\\u200d🦲': ':person_medium-light_skin_tone_bald:', '🧔🏼': ':person_medium-light_skin_tone_beard:', '👱🏼': ':person_medium-light_skin_tone_blond_hair:', '🧑🏼\\u200d🦱': ':person_medium-light_skin_tone_curly_hair:', '🧑🏼\\u200d🦰': ':person_medium-light_skin_tone_red_hair:', '🧑🏼\\u200d🦳': ':person_medium-light_skin_tone_white_hair:', '🧑🏽': ':person_medium_skin_tone:', '🧑🏽\\u200d🦲': ':person_medium_skin_tone_bald:', '🧔🏽': ':person_medium_skin_tone_beard:', '👱🏽': ':person_medium_skin_tone_blond_hair:', '🧑🏽\\u200d🦱': ':person_medium_skin_tone_curly_hair:', '🧑🏽\\u200d🦰': ':person_medium_skin_tone_red_hair:', '🧑🏽\\u200d🦳': ':person_medium_skin_tone_white_hair:', '🚵': ':person_mountain_biking:', '🚵🏿': ':person_mountain_biking_dark_skin_tone:', '🚵🏻': ':person_mountain_biking_light_skin_tone:', '🚵🏾': ':person_mountain_biking_medium-dark_skin_tone:', '🚵🏼': ':person_mountain_biking_medium-light_skin_tone:', '🚵🏽': ':person_mountain_biking_medium_skin_tone:', '🤾': ':person_playing_handball:', '🤾🏿': ':person_playing_handball_dark_skin_tone:', '🤾🏻': ':person_playing_handball_light_skin_tone:', '🤾🏾': ':person_playing_handball_medium-dark_skin_tone:', '🤾🏼': ':person_playing_handball_medium-light_skin_tone:', '🤾🏽': ':person_playing_handball_medium_skin_tone:', '🤽': ':person_playing_water_polo:', '🤽🏿': ':person_playing_water_polo_dark_skin_tone:', '🤽🏻': ':person_playing_water_polo_light_skin_tone:', '🤽🏾': ':person_playing_water_polo_medium-dark_skin_tone:', '🤽🏼': ':person_playing_water_polo_medium-light_skin_tone:', '🤽🏽': ':person_playing_water_polo_medium_skin_tone:', '🙎': ':person_pouting:', '🙎🏿': ':person_pouting_dark_skin_tone:', '🙎🏻': ':person_pouting_light_skin_tone:', '🙎🏾': ':person_pouting_medium-dark_skin_tone:', '🙎🏼': ':person_pouting_medium-light_skin_tone:', '🙎🏽': ':person_pouting_medium_skin_tone:', '🙋': ':person_raising_hand:', '🙋🏿': ':person_raising_hand_dark_skin_tone:', '🙋🏻': ':person_raising_hand_light_skin_tone:', '🙋🏾': ':person_raising_hand_medium-dark_skin_tone:', '🙋🏼': ':person_raising_hand_medium-light_skin_tone:', '🙋🏽': ':person_raising_hand_medium_skin_tone:', '🧑\\u200d🦰': ':person_red_hair:', '🚣': ':person_rowing_boat:', '🚣🏿': ':person_rowing_boat_dark_skin_tone:', '🚣🏻': ':person_rowing_boat_light_skin_tone:', '🚣🏾': ':person_rowing_boat_medium-dark_skin_tone:', '🚣🏼': ':person_rowing_boat_medium-light_skin_tone:', '🚣🏽': ':person_rowing_boat_medium_skin_tone:', '🏃': ':person_running:', '🏃🏿': ':person_running_dark_skin_tone:', '🏃🏻': ':person_running_light_skin_tone:', '🏃🏾': ':person_running_medium-dark_skin_tone:', '🏃🏼': ':person_running_medium-light_skin_tone:', '🏃🏽': ':person_running_medium_skin_tone:', '🤷': ':person_shrugging:', '🤷🏿': ':person_shrugging_dark_skin_tone:', '🤷🏻': ':person_shrugging_light_skin_tone:', '🤷🏾': ':person_shrugging_medium-dark_skin_tone:', '🤷🏼': ':person_shrugging_medium-light_skin_tone:', '🤷🏽': ':person_shrugging_medium_skin_tone:', '🧍': ':person_standing:', '🧍🏿': ':person_standing_dark_skin_tone:', '🧍🏻': ':person_standing_light_skin_tone:', '🧍🏾': ':person_standing_medium-dark_skin_tone:', '🧍🏼': ':person_standing_medium-light_skin_tone:', '🧍🏽': ':person_standing_medium_skin_tone:', '🏄': ':person_surfing:', '🏄🏿': ':person_surfing_dark_skin_tone:', '🏄🏻': ':person_surfing_light_skin_tone:', '🏄🏾': ':person_surfing_medium-dark_skin_tone:', '🏄🏼': ':person_surfing_medium-light_skin_tone:', '🏄🏽': ':person_surfing_medium_skin_tone:', '🏊': ':person_swimming:', '🏊🏿': ':person_swimming_dark_skin_tone:', '🏊🏻': ':person_swimming_light_skin_tone:', '🏊🏾': ':person_swimming_medium-dark_skin_tone:', '🏊🏼': ':person_swimming_medium-light_skin_tone:', '🏊🏽': ':person_swimming_medium_skin_tone:', '🛀': ':person_taking_bath:', '🛀🏿': ':person_taking_bath_dark_skin_tone:', '🛀🏻': ':person_taking_bath_light_skin_tone:', '🛀🏾': ':person_taking_bath_medium-dark_skin_tone:', '🛀🏼': ':person_taking_bath_medium-light_skin_tone:', '🛀🏽': ':person_taking_bath_medium_skin_tone:', '💁': ':person_tipping_hand:', '💁🏿': ':person_tipping_hand_dark_skin_tone:', '💁🏻': ':person_tipping_hand_light_skin_tone:', '💁🏾': ':person_tipping_hand_medium-dark_skin_tone:', '💁🏼': ':person_tipping_hand_medium-light_skin_tone:', '💁🏽': ':person_tipping_hand_medium_skin_tone:', '🚶': ':person_walking:', '🚶🏿': ':person_walking_dark_skin_tone:', '🚶🏻': ':person_walking_light_skin_tone:', '🚶🏾': ':person_walking_medium-dark_skin_tone:', '🚶🏼': ':person_walking_medium-light_skin_tone:', '🚶🏽': ':person_walking_medium_skin_tone:', '👳': ':person_wearing_turban:', '👳🏿': ':person_wearing_turban_dark_skin_tone:', '👳🏻': ':person_wearing_turban_light_skin_tone:', '👳🏾': ':person_wearing_turban_medium-dark_skin_tone:', '👳🏼': ':person_wearing_turban_medium-light_skin_tone:', '👳🏽': ':person_wearing_turban_medium_skin_tone:', '🧑\\u200d🦳': ':person_white_hair:', '👲': ':person_with_skullcap:', '👲🏿': ':person_with_skullcap_dark_skin_tone:', '👲🏻': ':person_with_skullcap_light_skin_tone:', '👲🏾': ':person_with_skullcap_medium-dark_skin_tone:', '👲🏼': ':person_with_skullcap_medium-light_skin_tone:', '👲🏽': ':person_with_skullcap_medium_skin_tone:', '👰': ':person_with_veil:', '👰🏿': ':person_with_veil_dark_skin_tone:', '👰🏻': ':person_with_veil_light_skin_tone:', '👰🏾': ':person_with_veil_medium-dark_skin_tone:', '👰🏼': ':person_with_veil_medium-light_skin_tone:', '👰🏽': ':person_with_veil_medium_skin_tone:', '🧑\\u200d🦯': ':person_with_white_cane:', '🧑🏿\\u200d🦯': ':person_with_white_cane_dark_skin_tone:', '🧑🏻\\u200d🦯': ':person_with_white_cane_light_skin_tone:', '🧑🏾\\u200d🦯': ':person_with_white_cane_medium-dark_skin_tone:', '🧑🏼\\u200d🦯': ':person_with_white_cane_medium-light_skin_tone:', '🧑🏽\\u200d🦯': ':person_with_white_cane_medium_skin_tone:', '🧫': ':petri_dish:', '⛏': ':pick:', '🛻': ':pickup_truck:', '🥧': ':pie:', '🐖': ':pig:', '🐷': ':pig_face:', '🐽': ':pig_nose:', '💩': ':pile_of_poo:', '💊': ':pill:', '🧑\\u200d✈️': ':pilot:', '🧑🏿\\u200d✈️': ':pilot_dark_skin_tone:', '🧑🏻\\u200d✈️': ':pilot_light_skin_tone:', '🧑🏾\\u200d✈️': ':pilot_medium-dark_skin_tone:', '🧑🏼\\u200d✈️': ':pilot_medium-light_skin_tone:', '🧑🏽\\u200d✈️': ':pilot_medium_skin_tone:', '🤌': ':pinched_fingers:', '🤌🏿': ':pinched_fingers_dark_skin_tone:', '🤌🏻': ':pinched_fingers_light_skin_tone:', '🤌🏾': ':pinched_fingers_medium-dark_skin_tone:', '🤌🏼': ':pinched_fingers_medium-light_skin_tone:', '🤌🏽': ':pinched_fingers_medium_skin_tone:', '🤏': ':pinching_hand:', '🤏🏿': ':pinching_hand_dark_skin_tone:', '🤏🏻': ':pinching_hand_light_skin_tone:', '🤏🏾': ':pinching_hand_medium-dark_skin_tone:', '🤏🏼': ':pinching_hand_medium-light_skin_tone:', '🤏🏽': ':pinching_hand_medium_skin_tone:', '🎍': ':pine_decoration:', '🍍': ':pineapple:', '🏓': ':ping_pong:', '🏴\\u200d☠️': ':pirate_flag:', '🍕': ':pizza:', '🪅': ':piñata:', '🪧': ':placard:', '🛐': ':place_of_worship:', '▶': ':play_button:', '⏯': ':play_or_pause_button:', '🥺': ':pleading_face:', '🪠': ':plunger:', '➕': ':plus:', '🐻\\u200d❄️': ':polar_bear:', '🚓': ':police_car:', '🚨': ':police_car_light:', '👮': ':police_officer:', '👮🏿': ':police_officer_dark_skin_tone:', '👮🏻': ':police_officer_light_skin_tone:', '👮🏾': ':police_officer_medium-dark_skin_tone:', '👮🏼': ':police_officer_medium-light_skin_tone:', '👮🏽': ':police_officer_medium_skin_tone:', '🐩': ':poodle:', '🎱': ':pool_8_ball:', '🍿': ':popcorn:', '🏤': ':post_office:', '📯': ':postal_horn:', '📮': ':postbox:', '🍲': ':pot_of_food:', '🚰': ':potable_water:', '🥔': ':potato:', '🪴': ':potted_plant:', '🍗': ':poultry_leg:', '💷': ':pound_banknote:', '😾': ':pouting_cat:', '😡': ':pouting_face:', '📿': ':prayer_beads:', '🤰': ':pregnant_woman:', '🤰🏿': ':pregnant_woman_dark_skin_tone:', '🤰🏻': ':pregnant_woman_light_skin_tone:', '🤰🏾': ':pregnant_woman_medium-dark_skin_tone:', '🤰🏼': ':pregnant_woman_medium-light_skin_tone:', '🤰🏽': ':pregnant_woman_medium_skin_tone:', '🥨': ':pretzel:', '🤴': ':prince:', '🤴🏿': ':prince_dark_skin_tone:', '🤴🏻': ':prince_light_skin_tone:', '🤴🏾': ':prince_medium-dark_skin_tone:', '🤴🏼': ':prince_medium-light_skin_tone:', '🤴🏽': ':prince_medium_skin_tone:', '👸': ':princess:', '👸🏿': ':princess_dark_skin_tone:', '👸🏻': ':princess_light_skin_tone:', '👸🏾': ':princess_medium-dark_skin_tone:', '👸🏼': ':princess_medium-light_skin_tone:', '👸🏽': ':princess_medium_skin_tone:', '🖨': ':printer:', '🚫': ':prohibited:', '🟣': ':purple_circle:', '💜': ':purple_heart:', '🟪': ':purple_square:', '👛': ':purse:', '📌': ':pushpin:', '🧩': ':puzzle_piece:', '🐇': ':rabbit:', '🐰': ':rabbit_face:', '🦝': ':raccoon:', '🏎': ':racing_car:', '📻': ':radio:', '🔘': ':radio_button:', '☢': ':radioactive:', '🚃': ':railway_car:', '🛤': ':railway_track:', '🌈': ':rainbow:', '🏳️\\u200d🌈': ':rainbow_flag:', '🤚': ':raised_back_of_hand:', '🤚🏿': ':raised_back_of_hand_dark_skin_tone:', '🤚🏻': ':raised_back_of_hand_light_skin_tone:', '🤚🏾': ':raised_back_of_hand_medium-dark_skin_tone:', '🤚🏼': ':raised_back_of_hand_medium-light_skin_tone:', '🤚🏽': ':raised_back_of_hand_medium_skin_tone:', '✊': ':raised_fist:', '✊🏿': ':raised_fist_dark_skin_tone:', '✊🏻': ':raised_fist_light_skin_tone:', '✊🏾': ':raised_fist_medium-dark_skin_tone:', '✊🏼': ':raised_fist_medium-light_skin_tone:', '✊🏽': ':raised_fist_medium_skin_tone:', '✋': ':raised_hand:', '✋🏿': ':raised_hand_dark_skin_tone:', '✋🏻': ':raised_hand_light_skin_tone:', '✋🏾': ':raised_hand_medium-dark_skin_tone:', '✋🏼': ':raised_hand_medium-light_skin_tone:', '✋🏽': ':raised_hand_medium_skin_tone:', '🙌': ':raising_hands:', '🙌🏿': ':raising_hands_dark_skin_tone:', '🙌🏻': ':raising_hands_light_skin_tone:', '🙌🏾': ':raising_hands_medium-dark_skin_tone:', '🙌🏼': ':raising_hands_medium-light_skin_tone:', '🙌🏽': ':raising_hands_medium_skin_tone:', '🐏': ':ram:', '🐀': ':rat:', '🪒': ':razor:', '🧾': ':receipt:', '⏺': ':record_button:', '♻': ':recycling_symbol:', '🍎': ':red_apple:', '🔴': ':red_circle:', '🧧': ':red_envelope:', '❗': ':red_exclamation_mark:', '🦰': ':red_hair:', '❤': ':red_heart:', '🏮': ':red_paper_lantern:', '❓': ':red_question_mark:', '🟥': ':red_square:', '🔻': ':red_triangle_pointed_down:', '🔺': ':red_triangle_pointed_up:', '®': ':registered:', '😌': ':relieved_face:', '🎗': ':reminder_ribbon:', '🔁': ':repeat_button:', '🔂': ':repeat_single_button:', '⛑': ':rescue_worker’s_helmet:', '🚻': ':restroom:', '◀': ':reverse_button:', '💞': ':revolving_hearts:', '🦏': ':rhinoceros:', '🎀': ':ribbon:', '🍙': ':rice_ball:', '🍘': ':rice_cracker:', '🤜': ':right-facing_fist:', '🤜🏿': ':right-facing_fist_dark_skin_tone:', '🤜🏻': ':right-facing_fist_light_skin_tone:', '🤜🏾': ':right-facing_fist_medium-dark_skin_tone:', '🤜🏼': ':right-facing_fist_medium-light_skin_tone:', '🤜🏽': ':right-facing_fist_medium_skin_tone:', '🗯': ':right_anger_bubble:', '➡': ':right_arrow:', '⤵': ':right_arrow_curving_down:', '↩': ':right_arrow_curving_left:', '⤴': ':right_arrow_curving_up:', '💍': ':ring:', '🪐': ':ringed_planet:', '🍠': ':roasted_sweet_potato:', '🤖': ':robot:', '🪨': ':rock:', '🚀': ':rocket:', '🧻': ':roll_of_paper:', '🗞': ':rolled-up_newspaper:', '🎢': ':roller_coaster:', '🛼': ':roller_skate:', '🤣': ':rolling_on_the_floor_laughing:', '🐓': ':rooster:', '🌹': ':rose:', '🏵': ':rosette:', '📍': ':round_pushpin:', '🏉': ':rugby_football:', '🎽': ':running_shirt:', '👟': ':running_shoe:', '😥': ':sad_but_relieved_face:', '🧷': ':safety_pin:', '🦺': ':safety_vest:', '⛵': ':sailboat:', '🍶': ':sake:', '🧂': ':salt:', '🥪': ':sandwich:', '🥻': ':sari:', '🛰': ':satellite:', '📡': ':satellite_antenna:', '🦕': ':sauropod:', '🎷': ':saxophone:', '🧣': ':scarf:', '🏫': ':school:', '🧑\\u200d🔬': ':scientist:', '🧑🏿\\u200d🔬': ':scientist_dark_skin_tone:', '🧑🏻\\u200d🔬': ':scientist_light_skin_tone:', '🧑🏾\\u200d🔬': ':scientist_medium-dark_skin_tone:', '🧑🏼\\u200d🔬': ':scientist_medium-light_skin_tone:', '🧑🏽\\u200d🔬': ':scientist_medium_skin_tone:', '✂': ':scissors:', '🦂': ':scorpion:', '🪛': ':screwdriver:', '📜': ':scroll:', '🦭': ':seal:', '💺': ':seat:', '🙈': ':see-no-evil_monkey:', '🌱': ':seedling:', '🤳': ':selfie:', '🤳🏿': ':selfie_dark_skin_tone:', '🤳🏻': ':selfie_light_skin_tone:', '🤳🏾': ':selfie_medium-dark_skin_tone:', '🤳🏼': ':selfie_medium-light_skin_tone:', '🤳🏽': ':selfie_medium_skin_tone:', '🐕\\u200d🦺': ':service_dog:', '🕢': ':seven-thirty:', '🕖': ':seven_o’clock:', '🪡': ':sewing_needle:', '🥘': ':shallow_pan_of_food:', '☘': ':shamrock:', '🦈': ':shark:', '🍧': ':shaved_ice:', '🌾': ':sheaf_of_rice:', '🛡': ':shield:', '⛩': ':shinto_shrine:', '🚢': ':ship:', '🌠': ':shooting_star:', '🛍': ':shopping_bags:', '🛒': ':shopping_cart:', '🍰': ':shortcake:', '🩳': ':shorts:', '🚿': ':shower:', '🦐': ':shrimp:', '🔀': ':shuffle_tracks_button:', '🤫': ':shushing_face:', '🤘': ':sign_of_the_horns:', '🤘🏿': ':sign_of_the_horns_dark_skin_tone:', '🤘🏻': ':sign_of_the_horns_light_skin_tone:', '🤘🏾': ':sign_of_the_horns_medium-dark_skin_tone:', '🤘🏼': ':sign_of_the_horns_medium-light_skin_tone:', '🤘🏽': ':sign_of_the_horns_medium_skin_tone:', '🧑\\u200d🎤': ':singer:', '🧑🏿\\u200d🎤': ':singer_dark_skin_tone:', '🧑🏻\\u200d🎤': ':singer_light_skin_tone:', '🧑🏾\\u200d🎤': ':singer_medium-dark_skin_tone:', '🧑🏼\\u200d🎤': ':singer_medium-light_skin_tone:', '🧑🏽\\u200d🎤': ':singer_medium_skin_tone:', '🕡': ':six-thirty:', '🕕': ':six_o’clock:', '🛹': ':skateboard:', '⛷': ':skier:', '🎿': ':skis:', '💀': ':skull:', '☠': ':skull_and_crossbones:', '🦨': ':skunk:', '🛷': ':sled:', '😴': ':sleeping_face:', '😪': ':sleepy_face:', '🙁': ':slightly_frowning_face:', '🙂': ':slightly_smiling_face:', '🎰': ':slot_machine:', '🦥': ':sloth:', '🛩': ':small_airplane:', '🔹': ':small_blue_diamond:', '🔸': ':small_orange_diamond:', '😻': ':smiling_cat_with_heart-eyes:', '☺': ':smiling_face:', '😇': ':smiling_face_with_halo:', '😍': ':smiling_face_with_heart-eyes:', '🥰': ':smiling_face_with_hearts:', '😈': ':smiling_face_with_horns:', '😊': ':smiling_face_with_smiling_eyes:', '😎': ':smiling_face_with_sunglasses:', '🥲': ':smiling_face_with_tear:', '😏': ':smirking_face:', '🐌': ':snail:', '🐍': ':snake:', '🤧': ':sneezing_face:', '🏔': ':snow-capped_mountain:', '🏂': ':snowboarder:', '🏂🏿': ':snowboarder_dark_skin_tone:', '🏂🏻': ':snowboarder_light_skin_tone:', '🏂🏾': ':snowboarder_medium-dark_skin_tone:', '🏂🏼': ':snowboarder_medium-light_skin_tone:', '🏂🏽': ':snowboarder_medium_skin_tone:', '❄': ':snowflake:', '☃': ':snowman:', '⛄': ':snowman_without_snow:', '🧼': ':soap:', '⚽': ':soccer_ball:', '🧦': ':socks:', '🍦': ':soft_ice_cream:', '🥎': ':softball:', '♠': ':spade_suit:', '🍝': ':spaghetti:', '❇': ':sparkle:', '🎇': ':sparkler:', '✨': ':sparkles:', '💖': ':sparkling_heart:', '🙊': ':speak-no-evil_monkey:', '🔊': ':speaker_high_volume:', '🔈': ':speaker_low_volume:', '🔉': ':speaker_medium_volume:', '🗣': ':speaking_head:', '💬': ':speech_balloon:', '🚤': ':speedboat:', '🕷': ':spider:', '🕸': ':spider_web:', '🗓': ':spiral_calendar:', '🗒': ':spiral_notepad:', '🐚': ':spiral_shell:', '🧽': ':sponge:', '🥄': ':spoon:', '🚙': ':sport_utility_vehicle:', '🏅': ':sports_medal:', '🐳': ':spouting_whale:', '🦑': ':squid:', '😝': ':squinting_face_with_tongue:', '🏟': ':stadium:', '⭐': ':star:', '🤩': ':star-struck:', '☪': ':star_and_crescent:', '✡': ':star_of_David:', '🚉': ':station:', '🍜': ':steaming_bowl:', '🩺': ':stethoscope:', '⏹': ':stop_button:', '🛑': ':stop_sign:', '⏱': ':stopwatch:', '📏': ':straight_ruler:', '🍓': ':strawberry:', '🧑\\u200d🎓': ':student:', '🧑🏿\\u200d🎓': ':student_dark_skin_tone:', '🧑🏻\\u200d🎓': ':student_light_skin_tone:', '🧑🏾\\u200d🎓': ':student_medium-dark_skin_tone:', '🧑🏼\\u200d🎓': ':student_medium-light_skin_tone:', '🧑🏽\\u200d🎓': ':student_medium_skin_tone:', '🎙': ':studio_microphone:', '🥙': ':stuffed_flatbread:', '☀': ':sun:', '⛅': ':sun_behind_cloud:', '🌥': ':sun_behind_large_cloud:', '🌦': ':sun_behind_rain_cloud:', '🌤': ':sun_behind_small_cloud:', '🌞': ':sun_with_face:', '🌻': ':sunflower:', '🕶': ':sunglasses:', '🌅': ':sunrise:', '🌄': ':sunrise_over_mountains:', '🌇': ':sunset:', '🦸': ':superhero:', '🦸🏿': ':superhero_dark_skin_tone:', '🦸🏻': ':superhero_light_skin_tone:', '🦸🏾': ':superhero_medium-dark_skin_tone:', '🦸🏼': ':superhero_medium-light_skin_tone:', '🦸🏽': ':superhero_medium_skin_tone:', '🦹': ':supervillain:', '🦹🏿': ':supervillain_dark_skin_tone:', '🦹🏻': ':supervillain_light_skin_tone:', '🦹🏾': ':supervillain_medium-dark_skin_tone:', '🦹🏼': ':supervillain_medium-light_skin_tone:', '🦹🏽': ':supervillain_medium_skin_tone:', '🍣': ':sushi:', '🚟': ':suspension_railway:', '🦢': ':swan:', '💦': ':sweat_droplets:', '🕍': ':synagogue:', '💉': ':syringe:', '👕': ':t-shirt:', '🌮': ':taco:', '🥡': ':takeout_box:', '🫔': ':tamale:', '🎋': ':tanabata_tree:', '🍊': ':tangerine:', '🚕': ':taxi:', '🧑\\u200d🏫': ':teacher:', '🧑🏿\\u200d🏫': ':teacher_dark_skin_tone:', '🧑🏻\\u200d🏫': ':teacher_light_skin_tone:', '🧑🏾\\u200d🏫': ':teacher_medium-dark_skin_tone:', '🧑🏼\\u200d🏫': ':teacher_medium-light_skin_tone:', '🧑🏽\\u200d🏫': ':teacher_medium_skin_tone:', '🍵': ':teacup_without_handle:', '🫖': ':teapot:', '📆': ':tear-off_calendar:', '🧑\\u200d💻': ':technologist:', '🧑🏿\\u200d💻': ':technologist_dark_skin_tone:', '🧑🏻\\u200d💻': ':technologist_light_skin_tone:', '🧑🏾\\u200d💻': ':technologist_medium-dark_skin_tone:', '🧑🏼\\u200d💻': ':technologist_medium-light_skin_tone:', '🧑🏽\\u200d💻': ':technologist_medium_skin_tone:', '🧸': ':teddy_bear:', '☎': ':telephone:', '📞': ':telephone_receiver:', '🔭': ':telescope:', '📺': ':television:', '🕥': ':ten-thirty:', '🕙': ':ten_o’clock:', '🎾': ':tennis:', '⛺': ':tent:', '🧪': ':test_tube:', '🌡': ':thermometer:', '🤔': ':thinking_face:', '🩴': ':thong_sandal:', '💭': ':thought_balloon:', '🧵': ':thread:', '🕞': ':three-thirty:', '🕒': ':three_o’clock:', '👎': ':thumbs_down:', '👎🏿': ':thumbs_down_dark_skin_tone:', '👎🏻': ':thumbs_down_light_skin_tone:', '👎🏾': ':thumbs_down_medium-dark_skin_tone:', '👎🏼': ':thumbs_down_medium-light_skin_tone:', '👎🏽': ':thumbs_down_medium_skin_tone:', '👍': ':thumbs_up:', '👍🏿': ':thumbs_up_dark_skin_tone:', '👍🏻': ':thumbs_up_light_skin_tone:', '👍🏾': ':thumbs_up_medium-dark_skin_tone:', '👍🏼': ':thumbs_up_medium-light_skin_tone:', '👍🏽': ':thumbs_up_medium_skin_tone:', '🎫': ':ticket:', '🐅': ':tiger:', '🐯': ':tiger_face:', '⏲': ':timer_clock:', '😫': ':tired_face:', '🚽': ':toilet:', '🍅': ':tomato:', '👅': ':tongue:', '🧰': ':toolbox:', '🦷': ':tooth:', '🪥': ':toothbrush:', '🎩': ':top_hat:', '🌪': ':tornado:', '🖲': ':trackball:', '🚜': ':tractor:', '™': ':trade_mark:', '🚆': ':train:', '🚊': ':tram:', '🚋': ':tram_car:', '🏳️\\u200d⚧️': ':transgender_flag:', '⚧': ':transgender_symbol:', '🚩': ':triangular_flag:', '📐': ':triangular_ruler:', '🔱': ':trident_emblem:', '🚎': ':trolleybus:', '🏆': ':trophy:', '🍹': ':tropical_drink:', '🐠': ':tropical_fish:', '🎺': ':trumpet:', '🌷': ':tulip:', '🥃': ':tumbler_glass:', '🦃': ':turkey:', '🐢': ':turtle:', '🕧': ':twelve-thirty:', '🕛': ':twelve_o’clock:', '🐫': ':two-hump_camel:', '🕝': ':two-thirty:', '💕': ':two_hearts:', '🕑': ':two_o’clock:', '☂': ':umbrella:', '⛱': ':umbrella_on_ground:', '☔': ':umbrella_with_rain_drops:', '😒': ':unamused_face:', '🦄': ':unicorn:', '🔓': ':unlocked:', '↕': ':up-down_arrow:', '↖': ':up-left_arrow:', '↗': ':up-right_arrow:', '⬆': ':up_arrow:', '🙃': ':upside-down_face:', '🔼': ':upwards_button:', '🧛': ':vampire:', '🧛🏿': ':vampire_dark_skin_tone:', '🧛🏻': ':vampire_light_skin_tone:', '🧛🏾': ':vampire_medium-dark_skin_tone:', '🧛🏼': ':vampire_medium-light_skin_tone:', '🧛🏽': ':vampire_medium_skin_tone:', '🚦': ':vertical_traffic_light:', '📳': ':vibration_mode:', '✌': ':victory_hand:', '✌🏿': ':victory_hand_dark_skin_tone:', '✌🏻': ':victory_hand_light_skin_tone:', '✌🏾': ':victory_hand_medium-dark_skin_tone:', '✌🏼': ':victory_hand_medium-light_skin_tone:', '✌🏽': ':victory_hand_medium_skin_tone:', '📹': ':video_camera:', '🎮': ':video_game:', '📼': ':videocassette:', '🎻': ':violin:', '🌋': ':volcano:', '🏐': ':volleyball:', '🖖': ':vulcan_salute:', '🖖🏿': ':vulcan_salute_dark_skin_tone:', '🖖🏻': ':vulcan_salute_light_skin_tone:', '🖖🏾': ':vulcan_salute_medium-dark_skin_tone:', '🖖🏼': ':vulcan_salute_medium-light_skin_tone:', '🖖🏽': ':vulcan_salute_medium_skin_tone:', '🧇': ':waffle:', '🌘': ':waning_crescent_moon:', '🌖': ':waning_gibbous_moon:', '⚠': ':warning:', '🗑': ':wastebasket:', '⌚': ':watch:', '🐃': ':water_buffalo:', '🚾': ':water_closet:', '🔫': ':water_pistol:', '🌊': ':water_wave:', '🍉': ':watermelon:', '👋': ':waving_hand:', '👋🏿': ':waving_hand_dark_skin_tone:', '👋🏻': ':waving_hand_light_skin_tone:', '👋🏾': ':waving_hand_medium-dark_skin_tone:', '👋🏼': ':waving_hand_medium-light_skin_tone:', '👋🏽': ':waving_hand_medium_skin_tone:', '〰': ':wavy_dash:', '🌒': ':waxing_crescent_moon:', '🌔': ':waxing_gibbous_moon:', '🙀': ':weary_cat:', '😩': ':weary_face:', '💒': ':wedding:', '🐋': ':whale:', '☸': ':wheel_of_dharma:', '♿': ':wheelchair_symbol:', '🦯': ':white_cane:', '⚪': ':white_circle:', '❕': ':white_exclamation_mark:', '🏳': ':white_flag:', '💮': ':white_flower:', '🦳': ':white_hair:', '🤍': ':white_heart:', '⬜': ':white_large_square:', '◽': ':white_medium-small_square:', '◻': ':white_medium_square:', '❔': ':white_question_mark:', '▫': ':white_small_square:', '🔳': ':white_square_button:', '🥀': ':wilted_flower:', '🎐': ':wind_chime:', '🌬': ':wind_face:', '🪟': ':window:', '🍷': ':wine_glass:', '😉': ':winking_face:', '😜': ':winking_face_with_tongue:', '🐺': ':wolf:', '👩': ':woman:', '👫': ':woman_and_man_holding_hands:', '👫🏿': ':woman_and_man_holding_hands_dark_skin_tone:', '👩🏿\\u200d🤝\\u200d👨🏻': ':woman_and_man_holding_hands_dark_skin_tone_light_skin_tone:', '👩🏿\\u200d🤝\\u200d👨🏾': ':woman_and_man_holding_hands_dark_skin_tone_medium-dark_skin_tone:', '👩🏿\\u200d🤝\\u200d👨🏼': ':woman_and_man_holding_hands_dark_skin_tone_medium-light_skin_tone:', '👩🏿\\u200d🤝\\u200d👨🏽': ':woman_and_man_holding_hands_dark_skin_tone_medium_skin_tone:', '👫🏻': ':woman_and_man_holding_hands_light_skin_tone:', '👩🏻\\u200d🤝\\u200d👨🏿': ':woman_and_man_holding_hands_light_skin_tone_dark_skin_tone:', '👩🏻\\u200d🤝\\u200d👨🏾': ':woman_and_man_holding_hands_light_skin_tone_medium-dark_skin_tone:', '👩🏻\\u200d🤝\\u200d👨🏼': ':woman_and_man_holding_hands_light_skin_tone_medium-light_skin_tone:', '👩🏻\\u200d🤝\\u200d👨🏽': ':woman_and_man_holding_hands_light_skin_tone_medium_skin_tone:', '👫🏾': ':woman_and_man_holding_hands_medium-dark_skin_tone:', '👩🏾\\u200d🤝\\u200d👨🏿': ':woman_and_man_holding_hands_medium-dark_skin_tone_dark_skin_tone:', '👩🏾\\u200d🤝\\u200d👨🏻': ':woman_and_man_holding_hands_medium-dark_skin_tone_light_skin_tone:', '👩🏾\\u200d🤝\\u200d👨🏼': ':woman_and_man_holding_hands_medium-dark_skin_tone_medium-light_skin_tone:', '👩🏾\\u200d🤝\\u200d👨🏽': ':woman_and_man_holding_hands_medium-dark_skin_tone_medium_skin_tone:', '👫🏼': ':woman_and_man_holding_hands_medium-light_skin_tone:', '👩🏼\\u200d🤝\\u200d👨🏿': ':woman_and_man_holding_hands_medium-light_skin_tone_dark_skin_tone:', '👩🏼\\u200d🤝\\u200d👨🏻': ':woman_and_man_holding_hands_medium-light_skin_tone_light_skin_tone:', '👩🏼\\u200d🤝\\u200d👨🏾': ':woman_and_man_holding_hands_medium-light_skin_tone_medium-dark_skin_tone:', '👩🏼\\u200d🤝\\u200d👨🏽': ':woman_and_man_holding_hands_medium-light_skin_tone_medium_skin_tone:', '👫🏽': ':woman_and_man_holding_hands_medium_skin_tone:', '👩🏽\\u200d🤝\\u200d👨🏿': ':woman_and_man_holding_hands_medium_skin_tone_dark_skin_tone:', '👩🏽\\u200d🤝\\u200d👨🏻': ':woman_and_man_holding_hands_medium_skin_tone_light_skin_tone:', '👩🏽\\u200d🤝\\u200d👨🏾': ':woman_and_man_holding_hands_medium_skin_tone_medium-dark_skin_tone:', '👩🏽\\u200d🤝\\u200d👨🏼': ':woman_and_man_holding_hands_medium_skin_tone_medium-light_skin_tone:', '👩\\u200d🎨': ':woman_artist:', '👩🏿\\u200d🎨': ':woman_artist_dark_skin_tone:', '👩🏻\\u200d🎨': ':woman_artist_light_skin_tone:', '👩🏾\\u200d🎨': ':woman_artist_medium-dark_skin_tone:', '👩🏼\\u200d🎨': ':woman_artist_medium-light_skin_tone:', '👩🏽\\u200d🎨': ':woman_artist_medium_skin_tone:', '👩\\u200d🚀': ':woman_astronaut:', '👩🏿\\u200d🚀': ':woman_astronaut_dark_skin_tone:', '👩🏻\\u200d🚀': ':woman_astronaut_light_skin_tone:', '👩🏾\\u200d🚀': ':woman_astronaut_medium-dark_skin_tone:', '👩🏼\\u200d🚀': ':woman_astronaut_medium-light_skin_tone:', '👩🏽\\u200d🚀': ':woman_astronaut_medium_skin_tone:', '👩\\u200d🦲': ':woman_bald:', '🧔\\u200d♀️': ':woman_beard:', '🚴\\u200d♀️': ':woman_biking:', '🚴🏿\\u200d♀️': ':woman_biking_dark_skin_tone:', '🚴🏻\\u200d♀️': ':woman_biking_light_skin_tone:', '🚴🏾\\u200d♀️': ':woman_biking_medium-dark_skin_tone:', '🚴🏼\\u200d♀️': ':woman_biking_medium-light_skin_tone:', '🚴🏽\\u200d♀️': ':woman_biking_medium_skin_tone:', '👱\\u200d♀️': ':woman_blond_hair:', '⛹️\\u200d♀️': ':woman_bouncing_ball:', '⛹🏿\\u200d♀️': ':woman_bouncing_ball_dark_skin_tone:', '⛹🏻\\u200d♀️': ':woman_bouncing_ball_light_skin_tone:', '⛹🏾\\u200d♀️': ':woman_bouncing_ball_medium-dark_skin_tone:', '⛹🏼\\u200d♀️': ':woman_bouncing_ball_medium-light_skin_tone:', '⛹🏽\\u200d♀️': ':woman_bouncing_ball_medium_skin_tone:', '🙇\\u200d♀️': ':woman_bowing:', '🙇🏿\\u200d♀️': ':woman_bowing_dark_skin_tone:', '🙇🏻\\u200d♀️': ':woman_bowing_light_skin_tone:', '🙇🏾\\u200d♀️': ':woman_bowing_medium-dark_skin_tone:', '🙇🏼\\u200d♀️': ':woman_bowing_medium-light_skin_tone:', '🙇🏽\\u200d♀️': ':woman_bowing_medium_skin_tone:', '🤸\\u200d♀️': ':woman_cartwheeling:', '🤸🏿\\u200d♀️': ':woman_cartwheeling_dark_skin_tone:', '🤸🏻\\u200d♀️': ':woman_cartwheeling_light_skin_tone:', '🤸🏾\\u200d♀️': ':woman_cartwheeling_medium-dark_skin_tone:', '🤸🏼\\u200d♀️': ':woman_cartwheeling_medium-light_skin_tone:', '🤸🏽\\u200d♀️': ':woman_cartwheeling_medium_skin_tone:', '🧗\\u200d♀️': ':woman_climbing:', '🧗🏿\\u200d♀️': ':woman_climbing_dark_skin_tone:', '🧗🏻\\u200d♀️': ':woman_climbing_light_skin_tone:', '🧗🏾\\u200d♀️': ':woman_climbing_medium-dark_skin_tone:', '🧗🏼\\u200d♀️': ':woman_climbing_medium-light_skin_tone:', '🧗🏽\\u200d♀️': ':woman_climbing_medium_skin_tone:', '👷\\u200d♀️': ':woman_construction_worker:', '👷🏿\\u200d♀️': ':woman_construction_worker_dark_skin_tone:', '👷🏻\\u200d♀️': ':woman_construction_worker_light_skin_tone:', '👷🏾\\u200d♀️': ':woman_construction_worker_medium-dark_skin_tone:', '👷🏼\\u200d♀️': ':woman_construction_worker_medium-light_skin_tone:', '👷🏽\\u200d♀️': ':woman_construction_worker_medium_skin_tone:', '👩\\u200d🍳': ':woman_cook:', '👩🏿\\u200d🍳': ':woman_cook_dark_skin_tone:', '👩🏻\\u200d🍳': ':woman_cook_light_skin_tone:', '👩🏾\\u200d🍳': ':woman_cook_medium-dark_skin_tone:', '👩🏼\\u200d🍳': ':woman_cook_medium-light_skin_tone:', '👩🏽\\u200d🍳': ':woman_cook_medium_skin_tone:', '👩\\u200d🦱': ':woman_curly_hair:', '💃': ':woman_dancing:', '💃🏿': ':woman_dancing_dark_skin_tone:', '💃🏻': ':woman_dancing_light_skin_tone:', '💃🏾': ':woman_dancing_medium-dark_skin_tone:', '💃🏼': ':woman_dancing_medium-light_skin_tone:', '💃🏽': ':woman_dancing_medium_skin_tone:', '👩🏿': ':woman_dark_skin_tone:', '👩🏿\\u200d🦲': ':woman_dark_skin_tone_bald:', '🧔🏿\\u200d♀️': ':woman_dark_skin_tone_beard:', '👱🏿\\u200d♀️': ':woman_dark_skin_tone_blond_hair:', '👩🏿\\u200d🦱': ':woman_dark_skin_tone_curly_hair:', '👩🏿\\u200d🦰': ':woman_dark_skin_tone_red_hair:', '👩🏿\\u200d🦳': ':woman_dark_skin_tone_white_hair:', '🕵️\\u200d♀️': ':woman_detective:', '🕵🏿\\u200d♀️': ':woman_detective_dark_skin_tone:', '🕵🏻\\u200d♀️': ':woman_detective_light_skin_tone:', '🕵🏾\\u200d♀️': ':woman_detective_medium-dark_skin_tone:', '🕵🏼\\u200d♀️': ':woman_detective_medium-light_skin_tone:', '🕵🏽\\u200d♀️': ':woman_detective_medium_skin_tone:', '🧝\\u200d♀️': ':woman_elf:', '🧝🏿\\u200d♀️': ':woman_elf_dark_skin_tone:', '🧝🏻\\u200d♀️': ':woman_elf_light_skin_tone:', '🧝🏾\\u200d♀️': ':woman_elf_medium-dark_skin_tone:', '🧝🏼\\u200d♀️': ':woman_elf_medium-light_skin_tone:', '🧝🏽\\u200d♀️': ':woman_elf_medium_skin_tone:', '🤦\\u200d♀️': ':woman_facepalming:', '🤦🏿\\u200d♀️': ':woman_facepalming_dark_skin_tone:', '🤦🏻\\u200d♀️': ':woman_facepalming_light_skin_tone:', '🤦🏾\\u200d♀️': ':woman_facepalming_medium-dark_skin_tone:', '🤦🏼\\u200d♀️': ':woman_facepalming_medium-light_skin_tone:', '🤦🏽\\u200d♀️': ':woman_facepalming_medium_skin_tone:', '👩\\u200d🏭': ':woman_factory_worker:', '👩🏿\\u200d🏭': ':woman_factory_worker_dark_skin_tone:', '👩🏻\\u200d🏭': ':woman_factory_worker_light_skin_tone:', '👩🏾\\u200d🏭': ':woman_factory_worker_medium-dark_skin_tone:', '👩🏼\\u200d🏭': ':woman_factory_worker_medium-light_skin_tone:', '👩🏽\\u200d🏭': ':woman_factory_worker_medium_skin_tone:', '🧚\\u200d♀️': ':woman_fairy:', '🧚🏿\\u200d♀️': ':woman_fairy_dark_skin_tone:', '🧚🏻\\u200d♀️': ':woman_fairy_light_skin_tone:', '🧚🏾\\u200d♀️': ':woman_fairy_medium-dark_skin_tone:', '🧚🏼\\u200d♀️': ':woman_fairy_medium-light_skin_tone:', '🧚🏽\\u200d♀️': ':woman_fairy_medium_skin_tone:', '👩\\u200d🌾': ':woman_farmer:', '👩🏿\\u200d🌾': ':woman_farmer_dark_skin_tone:', '👩🏻\\u200d🌾': ':woman_farmer_light_skin_tone:', '👩🏾\\u200d🌾': ':woman_farmer_medium-dark_skin_tone:', '👩🏼\\u200d🌾': ':woman_farmer_medium-light_skin_tone:', '👩🏽\\u200d🌾': ':woman_farmer_medium_skin_tone:', '👩\\u200d🍼': ':woman_feeding_baby:', '👩🏿\\u200d🍼': ':woman_feeding_baby_dark_skin_tone:', '👩🏻\\u200d🍼': ':woman_feeding_baby_light_skin_tone:', '👩🏾\\u200d🍼': ':woman_feeding_baby_medium-dark_skin_tone:', '👩🏼\\u200d🍼': ':woman_feeding_baby_medium-light_skin_tone:', '👩🏽\\u200d🍼': ':woman_feeding_baby_medium_skin_tone:', '👩\\u200d🚒': ':woman_firefighter:', '👩🏿\\u200d🚒': ':woman_firefighter_dark_skin_tone:', '👩🏻\\u200d🚒': ':woman_firefighter_light_skin_tone:', '👩🏾\\u200d🚒': ':woman_firefighter_medium-dark_skin_tone:', '👩🏼\\u200d🚒': ':woman_firefighter_medium-light_skin_tone:', '👩🏽\\u200d🚒': ':woman_firefighter_medium_skin_tone:', '🙍\\u200d♀️': ':woman_frowning:', '🙍🏿\\u200d♀️': ':woman_frowning_dark_skin_tone:', '🙍🏻\\u200d♀️': ':woman_frowning_light_skin_tone:', '🙍🏾\\u200d♀️': ':woman_frowning_medium-dark_skin_tone:', '🙍🏼\\u200d♀️': ':woman_frowning_medium-light_skin_tone:', '🙍🏽\\u200d♀️': ':woman_frowning_medium_skin_tone:', '🧞\\u200d♀️': ':woman_genie:', '🙅\\u200d♀️': ':woman_gesturing_NO:', '🙅🏿\\u200d♀️': ':woman_gesturing_NO_dark_skin_tone:', '🙅🏻\\u200d♀️': ':woman_gesturing_NO_light_skin_tone:', '🙅🏾\\u200d♀️': ':woman_gesturing_NO_medium-dark_skin_tone:', '🙅🏼\\u200d♀️': ':woman_gesturing_NO_medium-light_skin_tone:', '🙅🏽\\u200d♀️': ':woman_gesturing_NO_medium_skin_tone:', '🙆\\u200d♀️': ':woman_gesturing_OK:', '🙆🏿\\u200d♀️': ':woman_gesturing_OK_dark_skin_tone:', '🙆🏻\\u200d♀️': ':woman_gesturing_OK_light_skin_tone:', '🙆🏾\\u200d♀️': ':woman_gesturing_OK_medium-dark_skin_tone:', '🙆🏼\\u200d♀️': ':woman_gesturing_OK_medium-light_skin_tone:', '🙆🏽\\u200d♀️': ':woman_gesturing_OK_medium_skin_tone:', '💇\\u200d♀️': ':woman_getting_haircut:', '💇🏿\\u200d♀️': ':woman_getting_haircut_dark_skin_tone:', '💇🏻\\u200d♀️': ':woman_getting_haircut_light_skin_tone:', '💇🏾\\u200d♀️': ':woman_getting_haircut_medium-dark_skin_tone:', '💇🏼\\u200d♀️': ':woman_getting_haircut_medium-light_skin_tone:', '💇🏽\\u200d♀️': ':woman_getting_haircut_medium_skin_tone:', '💆\\u200d♀️': ':woman_getting_massage:', '💆🏿\\u200d♀️': ':woman_getting_massage_dark_skin_tone:', '💆🏻\\u200d♀️': ':woman_getting_massage_light_skin_tone:', '💆🏾\\u200d♀️': ':woman_getting_massage_medium-dark_skin_tone:', '💆🏼\\u200d♀️': ':woman_getting_massage_medium-light_skin_tone:', '💆🏽\\u200d♀️': ':woman_getting_massage_medium_skin_tone:', '🏌️\\u200d♀️': ':woman_golfing:', '🏌🏿\\u200d♀️': ':woman_golfing_dark_skin_tone:', '🏌🏻\\u200d♀️': ':woman_golfing_light_skin_tone:', '🏌🏾\\u200d♀️': ':woman_golfing_medium-dark_skin_tone:', '🏌🏼\\u200d♀️': ':woman_golfing_medium-light_skin_tone:', '🏌🏽\\u200d♀️': ':woman_golfing_medium_skin_tone:', '💂\\u200d♀️': ':woman_guard:', '💂🏿\\u200d♀️': ':woman_guard_dark_skin_tone:', '💂🏻\\u200d♀️': ':woman_guard_light_skin_tone:', '💂🏾\\u200d♀️': ':woman_guard_medium-dark_skin_tone:', '💂🏼\\u200d♀️': ':woman_guard_medium-light_skin_tone:', '💂🏽\\u200d♀️': ':woman_guard_medium_skin_tone:', '👩\\u200d⚕️': ':woman_health_worker:', '👩🏿\\u200d⚕️': ':woman_health_worker_dark_skin_tone:', '👩🏻\\u200d⚕️': ':woman_health_worker_light_skin_tone:', '👩🏾\\u200d⚕️': ':woman_health_worker_medium-dark_skin_tone:', '👩🏼\\u200d⚕️': ':woman_health_worker_medium-light_skin_tone:', '👩🏽\\u200d⚕️': ':woman_health_worker_medium_skin_tone:', '🧘\\u200d♀️': ':woman_in_lotus_position:', '🧘🏿\\u200d♀️': ':woman_in_lotus_position_dark_skin_tone:', '🧘🏻\\u200d♀️': ':woman_in_lotus_position_light_skin_tone:', '🧘🏾\\u200d♀️': ':woman_in_lotus_position_medium-dark_skin_tone:', '🧘🏼\\u200d♀️': ':woman_in_lotus_position_medium-light_skin_tone:', '🧘🏽\\u200d♀️': ':woman_in_lotus_position_medium_skin_tone:', '👩\\u200d🦽': ':woman_in_manual_wheelchair:', '👩🏿\\u200d🦽': ':woman_in_manual_wheelchair_dark_skin_tone:', '👩🏻\\u200d🦽': ':woman_in_manual_wheelchair_light_skin_tone:', '👩🏾\\u200d🦽': ':woman_in_manual_wheelchair_medium-dark_skin_tone:', '👩🏼\\u200d🦽': ':woman_in_manual_wheelchair_medium-light_skin_tone:', '👩🏽\\u200d🦽': ':woman_in_manual_wheelchair_medium_skin_tone:', '👩\\u200d🦼': ':woman_in_motorized_wheelchair:', '👩🏿\\u200d🦼': ':woman_in_motorized_wheelchair_dark_skin_tone:', '👩🏻\\u200d🦼': ':woman_in_motorized_wheelchair_light_skin_tone:', '👩🏾\\u200d🦼': ':woman_in_motorized_wheelchair_medium-dark_skin_tone:', '👩🏼\\u200d🦼': ':woman_in_motorized_wheelchair_medium-light_skin_tone:', '👩🏽\\u200d🦼': ':woman_in_motorized_wheelchair_medium_skin_tone:', '🧖\\u200d♀️': ':woman_in_steamy_room:', '🧖🏿\\u200d♀️': ':woman_in_steamy_room_dark_skin_tone:', '🧖🏻\\u200d♀️': ':woman_in_steamy_room_light_skin_tone:', '🧖🏾\\u200d♀️': ':woman_in_steamy_room_medium-dark_skin_tone:', '🧖🏼\\u200d♀️': ':woman_in_steamy_room_medium-light_skin_tone:', '🧖🏽\\u200d♀️': ':woman_in_steamy_room_medium_skin_tone:', '🤵\\u200d♀️': ':woman_in_tuxedo:', '🤵🏿\\u200d♀️': ':woman_in_tuxedo_dark_skin_tone:', '🤵🏻\\u200d♀️': ':woman_in_tuxedo_light_skin_tone:', '🤵🏾\\u200d♀️': ':woman_in_tuxedo_medium-dark_skin_tone:', '🤵🏼\\u200d♀️': ':woman_in_tuxedo_medium-light_skin_tone:', '🤵🏽\\u200d♀️': ':woman_in_tuxedo_medium_skin_tone:', '👩\\u200d⚖️': ':woman_judge:', '👩🏿\\u200d⚖️': ':woman_judge_dark_skin_tone:', '👩🏻\\u200d⚖️': ':woman_judge_light_skin_tone:', '👩🏾\\u200d⚖️': ':woman_judge_medium-dark_skin_tone:', '👩🏼\\u200d⚖️': ':woman_judge_medium-light_skin_tone:', '👩🏽\\u200d⚖️': ':woman_judge_medium_skin_tone:', '🤹\\u200d♀️': ':woman_juggling:', '🤹🏿\\u200d♀️': ':woman_juggling_dark_skin_tone:', '🤹🏻\\u200d♀️': ':woman_juggling_light_skin_tone:', '🤹🏾\\u200d♀️': ':woman_juggling_medium-dark_skin_tone:', '🤹🏼\\u200d♀️': ':woman_juggling_medium-light_skin_tone:', '🤹🏽\\u200d♀️': ':woman_juggling_medium_skin_tone:', '🧎\\u200d♀️': ':woman_kneeling:', '🧎🏿\\u200d♀️': ':woman_kneeling_dark_skin_tone:', '🧎🏻\\u200d♀️': ':woman_kneeling_light_skin_tone:', '🧎🏾\\u200d♀️': ':woman_kneeling_medium-dark_skin_tone:', '🧎🏼\\u200d♀️': ':woman_kneeling_medium-light_skin_tone:', '🧎🏽\\u200d♀️': ':woman_kneeling_medium_skin_tone:', '🏋️\\u200d♀️': ':woman_lifting_weights:', '🏋🏿\\u200d♀️': ':woman_lifting_weights_dark_skin_tone:', '🏋🏻\\u200d♀️': ':woman_lifting_weights_light_skin_tone:', '🏋🏾\\u200d♀️': ':woman_lifting_weights_medium-dark_skin_tone:', '🏋🏼\\u200d♀️': ':woman_lifting_weights_medium-light_skin_tone:', '🏋🏽\\u200d♀️': ':woman_lifting_weights_medium_skin_tone:', '👩🏻': ':woman_light_skin_tone:', '👩🏻\\u200d🦲': ':woman_light_skin_tone_bald:', '🧔🏻\\u200d♀️': ':woman_light_skin_tone_beard:', '👱🏻\\u200d♀️': ':woman_light_skin_tone_blond_hair:', '👩🏻\\u200d🦱': ':woman_light_skin_tone_curly_hair:', '👩🏻\\u200d🦰': ':woman_light_skin_tone_red_hair:', '👩🏻\\u200d🦳': ':woman_light_skin_tone_white_hair:', '🧙\\u200d♀️': ':woman_mage:', '🧙🏿\\u200d♀️': ':woman_mage_dark_skin_tone:', '🧙🏻\\u200d♀️': ':woman_mage_light_skin_tone:', '🧙🏾\\u200d♀️': ':woman_mage_medium-dark_skin_tone:', '🧙🏼\\u200d♀️': ':woman_mage_medium-light_skin_tone:', '🧙🏽\\u200d♀️': ':woman_mage_medium_skin_tone:', '👩\\u200d🔧': ':woman_mechanic:', '👩🏿\\u200d🔧': ':woman_mechanic_dark_skin_tone:', '👩🏻\\u200d🔧': ':woman_mechanic_light_skin_tone:', '👩🏾\\u200d🔧': ':woman_mechanic_medium-dark_skin_tone:', '👩🏼\\u200d🔧': ':woman_mechanic_medium-light_skin_tone:', '👩🏽\\u200d🔧': ':woman_mechanic_medium_skin_tone:', '👩🏾': ':woman_medium-dark_skin_tone:', '👩🏾\\u200d🦲': ':woman_medium-dark_skin_tone_bald:', '🧔🏾\\u200d♀️': ':woman_medium-dark_skin_tone_beard:', '👱🏾\\u200d♀️': ':woman_medium-dark_skin_tone_blond_hair:', '👩🏾\\u200d🦱': ':woman_medium-dark_skin_tone_curly_hair:', '👩🏾\\u200d🦰': ':woman_medium-dark_skin_tone_red_hair:', '👩🏾\\u200d🦳': ':woman_medium-dark_skin_tone_white_hair:', '👩🏼': ':woman_medium-light_skin_tone:', '👩🏼\\u200d🦲': ':woman_medium-light_skin_tone_bald:', '🧔🏼\\u200d♀️': ':woman_medium-light_skin_tone_beard:', '👱🏼\\u200d♀️': ':woman_medium-light_skin_tone_blond_hair:', '👩🏼\\u200d🦱': ':woman_medium-light_skin_tone_curly_hair:', '👩🏼\\u200d🦰': ':woman_medium-light_skin_tone_red_hair:', '👩🏼\\u200d🦳': ':woman_medium-light_skin_tone_white_hair:', '👩🏽': ':woman_medium_skin_tone:', '👩🏽\\u200d🦲': ':woman_medium_skin_tone_bald:', '🧔🏽\\u200d♀️': ':woman_medium_skin_tone_beard:', '👱🏽\\u200d♀️': ':woman_medium_skin_tone_blond_hair:', '👩🏽\\u200d🦱': ':woman_medium_skin_tone_curly_hair:', '👩🏽\\u200d🦰': ':woman_medium_skin_tone_red_hair:', '👩🏽\\u200d🦳': ':woman_medium_skin_tone_white_hair:', '🚵\\u200d♀️': ':woman_mountain_biking:', '🚵🏿\\u200d♀️': ':woman_mountain_biking_dark_skin_tone:', '🚵🏻\\u200d♀️': ':woman_mountain_biking_light_skin_tone:', '🚵🏾\\u200d♀️': ':woman_mountain_biking_medium-dark_skin_tone:', '🚵🏼\\u200d♀️': ':woman_mountain_biking_medium-light_skin_tone:', '🚵🏽\\u200d♀️': ':woman_mountain_biking_medium_skin_tone:', '👩\\u200d💼': ':woman_office_worker:', '👩🏿\\u200d💼': ':woman_office_worker_dark_skin_tone:', '👩🏻\\u200d💼': ':woman_office_worker_light_skin_tone:', '👩🏾\\u200d💼': ':woman_office_worker_medium-dark_skin_tone:', '👩🏼\\u200d💼': ':woman_office_worker_medium-light_skin_tone:', '👩🏽\\u200d💼': ':woman_office_worker_medium_skin_tone:', '👩\\u200d✈️': ':woman_pilot:', '👩🏿\\u200d✈️': ':woman_pilot_dark_skin_tone:', '👩🏻\\u200d✈️': ':woman_pilot_light_skin_tone:', '👩🏾\\u200d✈️': ':woman_pilot_medium-dark_skin_tone:', '👩🏼\\u200d✈️': ':woman_pilot_medium-light_skin_tone:', '👩🏽\\u200d✈️': ':woman_pilot_medium_skin_tone:', '🤾\\u200d♀️': ':woman_playing_handball:', '🤾🏿\\u200d♀️': ':woman_playing_handball_dark_skin_tone:', '🤾🏻\\u200d♀️': ':woman_playing_handball_light_skin_tone:', '🤾🏾\\u200d♀️': ':woman_playing_handball_medium-dark_skin_tone:', '🤾🏼\\u200d♀️': ':woman_playing_handball_medium-light_skin_tone:', '🤾🏽\\u200d♀️': ':woman_playing_handball_medium_skin_tone:', '🤽\\u200d♀️': ':woman_playing_water_polo:', '🤽🏿\\u200d♀️': ':woman_playing_water_polo_dark_skin_tone:', '🤽🏻\\u200d♀️': ':woman_playing_water_polo_light_skin_tone:', '🤽🏾\\u200d♀️': ':woman_playing_water_polo_medium-dark_skin_tone:', '🤽🏼\\u200d♀️': ':woman_playing_water_polo_medium-light_skin_tone:', '🤽🏽\\u200d♀️': ':woman_playing_water_polo_medium_skin_tone:', '👮\\u200d♀️': ':woman_police_officer:', '👮🏿\\u200d♀️': ':woman_police_officer_dark_skin_tone:', '👮🏻\\u200d♀️': ':woman_police_officer_light_skin_tone:', '👮🏾\\u200d♀️': ':woman_police_officer_medium-dark_skin_tone:', '👮🏼\\u200d♀️': ':woman_police_officer_medium-light_skin_tone:', '👮🏽\\u200d♀️': ':woman_police_officer_medium_skin_tone:', '🙎\\u200d♀️': ':woman_pouting:', '🙎🏿\\u200d♀️': ':woman_pouting_dark_skin_tone:', '🙎🏻\\u200d♀️': ':woman_pouting_light_skin_tone:', '🙎🏾\\u200d♀️': ':woman_pouting_medium-dark_skin_tone:', '🙎🏼\\u200d♀️': ':woman_pouting_medium-light_skin_tone:', '🙎🏽\\u200d♀️': ':woman_pouting_medium_skin_tone:', '🙋\\u200d♀️': ':woman_raising_hand:', '🙋🏿\\u200d♀️': ':woman_raising_hand_dark_skin_tone:', '🙋🏻\\u200d♀️': ':woman_raising_hand_light_skin_tone:', '🙋🏾\\u200d♀️': ':woman_raising_hand_medium-dark_skin_tone:', '🙋🏼\\u200d♀️': ':woman_raising_hand_medium-light_skin_tone:', '🙋🏽\\u200d♀️': ':woman_raising_hand_medium_skin_tone:', '👩\\u200d🦰': ':woman_red_hair:', '🚣\\u200d♀️': ':woman_rowing_boat:', '🚣🏿\\u200d♀️': ':woman_rowing_boat_dark_skin_tone:', '🚣🏻\\u200d♀️': ':woman_rowing_boat_light_skin_tone:', '🚣🏾\\u200d♀️': ':woman_rowing_boat_medium-dark_skin_tone:', '🚣🏼\\u200d♀️': ':woman_rowing_boat_medium-light_skin_tone:', '🚣🏽\\u200d♀️': ':woman_rowing_boat_medium_skin_tone:', '🏃\\u200d♀️': ':woman_running:', '🏃🏿\\u200d♀️': ':woman_running_dark_skin_tone:', '🏃🏻\\u200d♀️': ':woman_running_light_skin_tone:', '🏃🏾\\u200d♀️': ':woman_running_medium-dark_skin_tone:', '🏃🏼\\u200d♀️': ':woman_running_medium-light_skin_tone:', '🏃🏽\\u200d♀️': ':woman_running_medium_skin_tone:', '👩\\u200d🔬': ':woman_scientist:', '👩🏿\\u200d🔬': ':woman_scientist_dark_skin_tone:', '👩🏻\\u200d🔬': ':woman_scientist_light_skin_tone:', '👩🏾\\u200d🔬': ':woman_scientist_medium-dark_skin_tone:', '👩🏼\\u200d🔬': ':woman_scientist_medium-light_skin_tone:', '👩🏽\\u200d🔬': ':woman_scientist_medium_skin_tone:', '🤷\\u200d♀️': ':woman_shrugging:', '🤷🏿\\u200d♀️': ':woman_shrugging_dark_skin_tone:', '🤷🏻\\u200d♀️': ':woman_shrugging_light_skin_tone:', '🤷🏾\\u200d♀️': ':woman_shrugging_medium-dark_skin_tone:', '🤷🏼\\u200d♀️': ':woman_shrugging_medium-light_skin_tone:', '🤷🏽\\u200d♀️': ':woman_shrugging_medium_skin_tone:', '👩\\u200d🎤': ':woman_singer:', '👩🏿\\u200d🎤': ':woman_singer_dark_skin_tone:', '👩🏻\\u200d🎤': ':woman_singer_light_skin_tone:', '👩🏾\\u200d🎤': ':woman_singer_medium-dark_skin_tone:', '👩🏼\\u200d🎤': ':woman_singer_medium-light_skin_tone:', '👩🏽\\u200d🎤': ':woman_singer_medium_skin_tone:', '🧍\\u200d♀️': ':woman_standing:', '🧍🏿\\u200d♀️': ':woman_standing_dark_skin_tone:', '🧍🏻\\u200d♀️': ':woman_standing_light_skin_tone:', '🧍🏾\\u200d♀️': ':woman_standing_medium-dark_skin_tone:', '🧍🏼\\u200d♀️': ':woman_standing_medium-light_skin_tone:', '🧍🏽\\u200d♀️': ':woman_standing_medium_skin_tone:', '👩\\u200d🎓': ':woman_student:', '👩🏿\\u200d🎓': ':woman_student_dark_skin_tone:', '👩🏻\\u200d🎓': ':woman_student_light_skin_tone:', '👩🏾\\u200d🎓': ':woman_student_medium-dark_skin_tone:', '👩🏼\\u200d🎓': ':woman_student_medium-light_skin_tone:', '👩🏽\\u200d🎓': ':woman_student_medium_skin_tone:', '🦸\\u200d♀️': ':woman_superhero:', '🦸🏿\\u200d♀️': ':woman_superhero_dark_skin_tone:', '🦸🏻\\u200d♀️': ':woman_superhero_light_skin_tone:', '🦸🏾\\u200d♀️': ':woman_superhero_medium-dark_skin_tone:', '🦸🏼\\u200d♀️': ':woman_superhero_medium-light_skin_tone:', '🦸🏽\\u200d♀️': ':woman_superhero_medium_skin_tone:', '🦹\\u200d♀️': ':woman_supervillain:', '🦹🏿\\u200d♀️': ':woman_supervillain_dark_skin_tone:', '🦹🏻\\u200d♀️': ':woman_supervillain_light_skin_tone:', '🦹🏾\\u200d♀️': ':woman_supervillain_medium-dark_skin_tone:', '🦹🏼\\u200d♀️': ':woman_supervillain_medium-light_skin_tone:', '🦹🏽\\u200d♀️': ':woman_supervillain_medium_skin_tone:', '🏄\\u200d♀️': ':woman_surfing:', '🏄🏿\\u200d♀️': ':woman_surfing_dark_skin_tone:', '🏄🏻\\u200d♀️': ':woman_surfing_light_skin_tone:', '🏄🏾\\u200d♀️': ':woman_surfing_medium-dark_skin_tone:', '🏄🏼\\u200d♀️': ':woman_surfing_medium-light_skin_tone:', '🏄🏽\\u200d♀️': ':woman_surfing_medium_skin_tone:', '🏊\\u200d♀️': ':woman_swimming:', '🏊🏿\\u200d♀️': ':woman_swimming_dark_skin_tone:', '🏊🏻\\u200d♀️': ':woman_swimming_light_skin_tone:', '🏊🏾\\u200d♀️': ':woman_swimming_medium-dark_skin_tone:', '🏊🏼\\u200d♀️': ':woman_swimming_medium-light_skin_tone:', '🏊🏽\\u200d♀️': ':woman_swimming_medium_skin_tone:', '👩\\u200d🏫': ':woman_teacher:', '👩🏿\\u200d🏫': ':woman_teacher_dark_skin_tone:', '👩🏻\\u200d🏫': ':woman_teacher_light_skin_tone:', '👩🏾\\u200d🏫': ':woman_teacher_medium-dark_skin_tone:', '👩🏼\\u200d🏫': ':woman_teacher_medium-light_skin_tone:', '👩🏽\\u200d🏫': ':woman_teacher_medium_skin_tone:', '👩\\u200d💻': ':woman_technologist:', '👩🏿\\u200d💻': ':woman_technologist_dark_skin_tone:', '👩🏻\\u200d💻': ':woman_technologist_light_skin_tone:', '👩🏾\\u200d💻': ':woman_technologist_medium-dark_skin_tone:', '👩🏼\\u200d💻': ':woman_technologist_medium-light_skin_tone:', '👩🏽\\u200d💻': ':woman_technologist_medium_skin_tone:', '💁\\u200d♀️': ':woman_tipping_hand:', '💁🏿\\u200d♀️': ':woman_tipping_hand_dark_skin_tone:', '💁🏻\\u200d♀️': ':woman_tipping_hand_light_skin_tone:', '💁🏾\\u200d♀️': ':woman_tipping_hand_medium-dark_skin_tone:', '💁🏼\\u200d♀️': ':woman_tipping_hand_medium-light_skin_tone:', '💁🏽\\u200d♀️': ':woman_tipping_hand_medium_skin_tone:', '🧛\\u200d♀️': ':woman_vampire:', '🧛🏿\\u200d♀️': ':woman_vampire_dark_skin_tone:', '🧛🏻\\u200d♀️': ':woman_vampire_light_skin_tone:', '🧛🏾\\u200d♀️': ':woman_vampire_medium-dark_skin_tone:', '🧛🏼\\u200d♀️': ':woman_vampire_medium-light_skin_tone:', '🧛🏽\\u200d♀️': ':woman_vampire_medium_skin_tone:', '🚶\\u200d♀️': ':woman_walking:', '🚶🏿\\u200d♀️': ':woman_walking_dark_skin_tone:', '🚶🏻\\u200d♀️': ':woman_walking_light_skin_tone:', '🚶🏾\\u200d♀️': ':woman_walking_medium-dark_skin_tone:', '🚶🏼\\u200d♀️': ':woman_walking_medium-light_skin_tone:', '🚶🏽\\u200d♀️': ':woman_walking_medium_skin_tone:', '👳\\u200d♀️': ':woman_wearing_turban:', '👳🏿\\u200d♀️': ':woman_wearing_turban_dark_skin_tone:', '👳🏻\\u200d♀️': ':woman_wearing_turban_light_skin_tone:', '👳🏾\\u200d♀️': ':woman_wearing_turban_medium-dark_skin_tone:', '👳🏼\\u200d♀️': ':woman_wearing_turban_medium-light_skin_tone:', '👳🏽\\u200d♀️': ':woman_wearing_turban_medium_skin_tone:', '👩\\u200d🦳': ':woman_white_hair:', '🧕': ':woman_with_headscarf:', '🧕🏿': ':woman_with_headscarf_dark_skin_tone:', '🧕🏻': ':woman_with_headscarf_light_skin_tone:', '🧕🏾': ':woman_with_headscarf_medium-dark_skin_tone:', '🧕🏼': ':woman_with_headscarf_medium-light_skin_tone:', '🧕🏽': ':woman_with_headscarf_medium_skin_tone:', '👰\\u200d♀️': ':woman_with_veil:', '👰🏿\\u200d♀️': ':woman_with_veil_dark_skin_tone:', '👰🏻\\u200d♀️': ':woman_with_veil_light_skin_tone:', '👰🏾\\u200d♀️': ':woman_with_veil_medium-dark_skin_tone:', '👰🏼\\u200d♀️': ':woman_with_veil_medium-light_skin_tone:', '👰🏽\\u200d♀️': ':woman_with_veil_medium_skin_tone:', '👩\\u200d🦯': ':woman_with_white_cane:', '👩🏿\\u200d🦯': ':woman_with_white_cane_dark_skin_tone:', '👩🏻\\u200d🦯': ':woman_with_white_cane_light_skin_tone:', '👩🏾\\u200d🦯': ':woman_with_white_cane_medium-dark_skin_tone:', '👩🏼\\u200d🦯': ':woman_with_white_cane_medium-light_skin_tone:', '👩🏽\\u200d🦯': ':woman_with_white_cane_medium_skin_tone:', '🧟\\u200d♀️': ':woman_zombie:', '👢': ':woman’s_boot:', '👚': ':woman’s_clothes:', '👒': ':woman’s_hat:', '👡': ':woman’s_sandal:', '👭': ':women_holding_hands:', '👭🏿': ':women_holding_hands_dark_skin_tone:', '👩🏿\\u200d🤝\\u200d👩🏻': ':women_holding_hands_dark_skin_tone_light_skin_tone:', '👩🏿\\u200d🤝\\u200d👩🏾': ':women_holding_hands_dark_skin_tone_medium-dark_skin_tone:', '👩🏿\\u200d🤝\\u200d👩🏼': ':women_holding_hands_dark_skin_tone_medium-light_skin_tone:', '👩🏿\\u200d🤝\\u200d👩🏽': ':women_holding_hands_dark_skin_tone_medium_skin_tone:', '👭🏻': ':women_holding_hands_light_skin_tone:', '👩🏻\\u200d🤝\\u200d👩🏿': ':women_holding_hands_light_skin_tone_dark_skin_tone:', '👩🏻\\u200d🤝\\u200d👩🏾': ':women_holding_hands_light_skin_tone_medium-dark_skin_tone:', '👩🏻\\u200d🤝\\u200d👩🏼': ':women_holding_hands_light_skin_tone_medium-light_skin_tone:', '👩🏻\\u200d🤝\\u200d👩🏽': ':women_holding_hands_light_skin_tone_medium_skin_tone:', '👭🏾': ':women_holding_hands_medium-dark_skin_tone:', '👩🏾\\u200d🤝\\u200d👩🏿': ':women_holding_hands_medium-dark_skin_tone_dark_skin_tone:', '👩🏾\\u200d🤝\\u200d👩🏻': ':women_holding_hands_medium-dark_skin_tone_light_skin_tone:', '👩🏾\\u200d🤝\\u200d👩🏼': ':women_holding_hands_medium-dark_skin_tone_medium-light_skin_tone:', '👩🏾\\u200d🤝\\u200d👩🏽': ':women_holding_hands_medium-dark_skin_tone_medium_skin_tone:', '👭🏼': ':women_holding_hands_medium-light_skin_tone:', '👩🏼\\u200d🤝\\u200d👩🏿': ':women_holding_hands_medium-light_skin_tone_dark_skin_tone:', '👩🏼\\u200d🤝\\u200d👩🏻': ':women_holding_hands_medium-light_skin_tone_light_skin_tone:', '👩🏼\\u200d🤝\\u200d👩🏾': ':women_holding_hands_medium-light_skin_tone_medium-dark_skin_tone:', '👩🏼\\u200d🤝\\u200d👩🏽': ':women_holding_hands_medium-light_skin_tone_medium_skin_tone:', '👭🏽': ':women_holding_hands_medium_skin_tone:', '👩🏽\\u200d🤝\\u200d👩🏿': ':women_holding_hands_medium_skin_tone_dark_skin_tone:', '👩🏽\\u200d🤝\\u200d👩🏻': ':women_holding_hands_medium_skin_tone_light_skin_tone:', '👩🏽\\u200d🤝\\u200d👩🏾': ':women_holding_hands_medium_skin_tone_medium-dark_skin_tone:', '👩🏽\\u200d🤝\\u200d👩🏼': ':women_holding_hands_medium_skin_tone_medium-light_skin_tone:', '👯\\u200d♀️': ':women_with_bunny_ears:', '🤼\\u200d♀️': ':women_wrestling:', '🚺': ':women’s_room:', '🪵': ':wood:', '🥴': ':woozy_face:', '🗺': ':world_map:', '🪱': ':worm:', '😟': ':worried_face:', '🎁': ':wrapped_gift:', '🔧': ':wrench:', '✍': ':writing_hand:', '✍🏿': ':writing_hand_dark_skin_tone:', '✍🏻': ':writing_hand_light_skin_tone:', '✍🏾': ':writing_hand_medium-dark_skin_tone:', '✍🏼': ':writing_hand_medium-light_skin_tone:', '✍🏽': ':writing_hand_medium_skin_tone:', '🧶': ':yarn:', '🥱': ':yawning_face:', '🟡': ':yellow_circle:', '💛': ':yellow_heart:', '🟨': ':yellow_square:', '💴': ':yen_banknote:', '☯': ':yin_yang:', '🪀': ':yo-yo:', '🤪': ':zany_face:', '🦓': ':zebra:', '🤐': ':zipper-mouth_face:', '🧟': ':zombie:', '💤': ':zzz:', '🇦🇽': ':Åland_Islands:'}\n",
            "{':‑)': 'Happy face or smiley', ':-))': 'Very happy', ':-)))': 'Very very Happy face or smiley', ':)': 'Happy face or smiley', ':))': 'Very Happy face or smiley', ':)))': 'Very very Happy face or smiley', ':-]': 'Happy face or smiley', ':]': 'Happy face or smiley', ':-3': 'Happy face smiley', ':3': 'Happy face smiley', ':->': 'Happy face smiley', ':>': 'Happy face smiley', '8-)': 'Happy face smiley', ':o)': 'Happy face smiley', ':-}': 'Happy face smiley', ':}': 'Happy face smiley', ':-)': 'Happy face smiley', ':c)': 'Happy face smiley', ':^)': 'Happy face smiley', '=]': 'Happy face smiley', '=)': 'Happy face smiley', ':‑D': 'Laughing, big grin or laugh with glasses', ':D': 'Laughing, big grin or laugh with glasses', '8‑D': 'Laughing, big grin or laugh with glasses', '8D': 'Laughing, big grin or laugh with glasses', 'X‑D': 'Laughing, big grin or laugh with glasses', 'XD': 'Laughing, big grin or laugh with glasses', '=D': 'Laughing, big grin or laugh with glasses', '=3': 'Laughing, big grin or laugh with glasses', 'B^D': 'Laughing, big grin or laugh with glasses', ':-(': 'Frown, sad, andry or pouting', ':‑(': 'Frown, sad, andry or pouting', ':(': 'Frown, sad, andry or pouting', ':‑c': 'Frown, sad, andry or pouting', ':c': 'Frown, sad, andry or pouting', ':‑<': 'Frown, sad, andry or pouting', ':<': 'Frown, sad, andry or pouting', ':‑[': 'Frown, sad, andry or pouting', ':[': 'Frown, sad, andry or pouting', ':-||': 'Frown, sad, andry or pouting', '>:[': 'Frown, sad, andry or pouting', ':{': 'Frown, sad, andry or pouting', ':@': 'Frown, sad, andry or pouting', '>:(': 'Frown, sad, andry or pouting', \":'‑(\": 'Crying', \":'(\": 'Crying', \":'‑)\": 'Tears of happiness', \":')\": 'Tears of happiness', \"D‑':\": 'Horror', 'D:<': 'Disgust', 'D:': 'Sadness', 'D8': 'Great dismay', 'D;': 'Great dismay', 'D=': 'Great dismay', 'DX': 'Great dismay', ':‑O': 'Surprise', ':O': 'Surprise', ':‑o': 'Surprise', ':o': 'Surprise', ':-0': 'Shock', '8‑0': 'Yawn', '>:O': 'Yawn', ':-*': 'Kiss', ':*': 'Kiss', ':X': 'Kiss', ';‑)': 'Wink or smirk', ';)': 'Wink or smirk', '*-)': 'Wink or smirk', '*)': 'Wink or smirk', ';‑]': 'Wink or smirk', ';]': 'Wink or smirk', ';^)': 'Wink or smirk', ':‑,': 'Wink or smirk', ';D': 'Wink or smirk', ':‑P': 'Tongue sticking out, cheeky, playful or blowing a raspberry', ':P': 'Tongue sticking out, cheeky, playful or blowing a raspberry', 'X‑P': 'Tongue sticking out, cheeky, playful or blowing a raspberry', 'XP': 'Tongue sticking out, cheeky, playful or blowing a raspberry', ':‑Þ': 'Tongue sticking out, cheeky, playful or blowing a raspberry', ':Þ': 'Tongue sticking out, cheeky, playful or blowing a raspberry', ':b': 'Tongue sticking out, cheeky, playful or blowing a raspberry', 'd:': 'Tongue sticking out, cheeky, playful or blowing a raspberry', '=p': 'Tongue sticking out, cheeky, playful or blowing a raspberry', '>:P': 'Tongue sticking out, cheeky, playful or blowing a raspberry', ':‑/': 'Skeptical, annoyed, undecided, uneasy or hesitant', ':/': 'Skeptical, annoyed, undecided, uneasy or hesitant', ':-[.]': 'Skeptical, annoyed, undecided, uneasy or hesitant', '>:[(\\\\)]': 'Skeptical, annoyed, undecided, uneasy or hesitant', '>:/': 'Skeptical, annoyed, undecided, uneasy or hesitant', ':[(\\\\)]': 'Skeptical, annoyed, undecided, uneasy or hesitant', '=/': 'Skeptical, annoyed, undecided, uneasy or hesitant', '=[(\\\\)]': 'Skeptical, annoyed, undecided, uneasy or hesitant', ':L': 'Skeptical, annoyed, undecided, uneasy or hesitant', '=L': 'Skeptical, annoyed, undecided, uneasy or hesitant', ':S': 'Skeptical, annoyed, undecided, uneasy or hesitant', ':‑|': 'Straight face', ':|': 'Straight face', ':$': 'Embarrassed or blushing', ':‑x': 'Sealed lips or wearing braces or tongue-tied', ':x': 'Sealed lips or wearing braces or tongue-tied', ':‑#': 'Sealed lips or wearing braces or tongue-tied', ':#': 'Sealed lips or wearing braces or tongue-tied', ':‑&': 'Sealed lips or wearing braces or tongue-tied', ':&': 'Sealed lips or wearing braces or tongue-tied', 'O:‑)': 'Angel, saint or innocent', 'O:)': 'Angel, saint or innocent', '0:‑3': 'Angel, saint or innocent', '0:3': 'Angel, saint or innocent', '0:‑)': 'Angel, saint or innocent', '0:)': 'Angel, saint or innocent', ':‑b': 'Tongue sticking out, cheeky, playful or blowing a raspberry', '0;^)': 'Angel, saint or innocent', '>:‑)': 'Evil or devilish', '>:)': 'Evil or devilish', '}:‑)': 'Evil or devilish', '}:)': 'Evil or devilish', '3:‑)': 'Evil or devilish', '3:)': 'Evil or devilish', '>;)': 'Evil or devilish', '|;‑)': 'Cool', '|‑O': 'Bored', ':‑J': 'Tongue-in-cheek', '#‑)': 'Party all night', '%‑)': 'Drunk or confused', '%)': 'Drunk or confused', ':-###..': 'Being sick', ':###..': 'Being sick', '<:‑|': 'Dump', '(>_<)': 'Troubled', '(>_<)>': 'Troubled', \"(';')\": 'Baby', '(^^>``': 'Nervous or Embarrassed or Troubled or Shy or Sweat drop', '(^_^;)': 'Nervous or Embarrassed or Troubled or Shy or Sweat drop', '(-_-;)': 'Nervous or Embarrassed or Troubled or Shy or Sweat drop', '(~_~;) (・.・;)': 'Nervous or Embarrassed or Troubled or Shy or Sweat drop', '(-_-)zzz': 'Sleeping', '(^_-)': 'Wink', '((+_+))': 'Confused', '(+o+)': 'Confused', '(o|o)': 'Ultraman', '^_^': 'Joyful', '(^_^)/': 'Joyful', '(^O^)／': 'Joyful', '(^o^)／': 'Joyful', '(__)': 'Kowtow as a sign of respect, or dogeza for apology', '_(._.)_': 'Kowtow as a sign of respect, or dogeza for apology', '<(_ _)>': 'Kowtow as a sign of respect, or dogeza for apology', '<m(__)m>': 'Kowtow as a sign of respect, or dogeza for apology', 'm(__)m': 'Kowtow as a sign of respect, or dogeza for apology', 'm(_ _)m': 'Kowtow as a sign of respect, or dogeza for apology', \"('_')\": 'Sad or Crying', '(/_;)': 'Sad or Crying', '(T_T) (;_;)': 'Sad or Crying', '(;_;': 'Sad of Crying', '(;_:)': 'Sad or Crying', '(;O;)': 'Sad or Crying', '(:_;)': 'Sad or Crying', '(ToT)': 'Sad or Crying', ';_;': 'Sad or Crying', ';-;': 'Sad or Crying', ';n;': 'Sad or Crying', ';;': 'Sad or Crying', 'Q.Q': 'Sad or Crying', 'T.T': 'Sad or Crying', 'QQ': 'Sad or Crying', 'Q_Q': 'Sad or Crying', '(-.-)': 'Shame', '(-_-)': 'Shame', '(一一)': 'Shame', '(；一_一)': 'Shame', '(=_=)': 'Tired', '(=^·^=)': 'cat', '(=^··^=)': 'cat', '=_^= ': 'cat', '(..)': 'Looking down', '(._.)': 'Looking down', '^m^': 'Giggling with hand covering mouth', '(・・?': 'Confusion', '(?_?)': 'Confusion', '>^_^<': 'Normal Laugh', '<^!^>': 'Normal Laugh', '^/^': 'Normal Laugh', '（*^_^*）': 'Normal Laugh', '(^<^) (^.^)': 'Normal Laugh', '(^^)': 'Normal Laugh', '(^.^)': 'Normal Laugh', '(^_^.)': 'Normal Laugh', '(^_^)': 'Normal Laugh', '(^J^)': 'Normal Laugh', '(*^.^*)': 'Normal Laugh', '(^—^）': 'Normal Laugh', '(#^.^#)': 'Normal Laugh', '（^—^）': 'Waving', '(;_;)/~~~': 'Waving', '(^.^)/~~~': 'Waving', '(-_-)/~~~ ($··)/~~~': 'Waving', '(T_T)/~~~': 'Waving', '(ToT)/~~~': 'Waving', '(*^0^*)': 'Excited', '(*_*)': 'Amazed', '(*_*;': 'Amazed', '(+_+) (@_@)': 'Amazed', '(*^^)v': 'Laughing,Cheerful', '(^_^)v': 'Laughing,Cheerful', '((d[-_-]b))': 'Headphones,Listening to music', '(-\"-)': 'Worried', '(ーー;)': 'Worried', '(^0_0^)': 'Eyeglasses', '(＾ｖ＾)': 'Happy', '(＾ｕ＾)': 'Happy', '(^)o(^)': 'Happy', '(^O^)': 'Happy', '(^o^)': 'Happy', ')^o^(': 'Happy', ':O o_O': 'Surprised', 'o_0': 'Surprised', 'o.O': 'Surpised', '(o.o)': 'Surprised', 'oO': 'Surprised', '(*￣m￣)': 'Dissatisfied', '(‘A`)': 'Snubbed or Deflated'}\n"
          ]
        }
      ]
    },
    {
      "cell_type": "code",
      "source": [
        "uniChars = \"àáảãạâầấẩẫậăằắẳẵặèéẻẽẹêềếểễệđìíỉĩịòóỏõọôồốổỗộơờớởỡợùúủũụưừứửữựỳýỷỹỵÀÁẢÃẠÂẦẤẨẪẬĂẰẮẲẴẶÈÉẺẼẸÊỀẾỂỄỆĐÌÍỈĨỊÒÓỎÕỌÔỒỐỔỖỘƠỜỚỞỠỢÙÚỦŨỤƯỪỨỬỮỰỲÝỶỸỴÂĂĐÔƠƯ\"\n",
        "unsignChars = \"aaaaaaaaaaaaaaaaaeeeeeeeeeeediiiiiooooooooooooooooouuuuuuuuuuuyyyyyAAAAAAAAAAAAAAAAAEEEEEEEEEEEDIIIOOOOOOOOOOOOOOOOOOOUUUUUUUUUUUYYYYYAADOOU\""
      ],
      "metadata": {
        "id": "BW7ILW7iJYFp"
      },
      "execution_count": null,
      "outputs": []
    },
    {
      "cell_type": "code",
      "source": [
        "def loaddicchar():\n",
        "    dic = {}\n",
        "    char1252 = 'à|á|ả|ã|ạ|ầ|ấ|ẩ|ẫ|ậ|ằ|ắ|ẳ|ẵ|ặ|è|é|ẻ|ẽ|ẹ|ề|ế|ể|ễ|ệ|ì|í|ỉ|ĩ|ị|ò|ó|ỏ|õ|ọ|ồ|ố|ổ|ỗ|ộ|ờ|ớ|ở|ỡ|ợ|ù|ú|ủ|ũ|ụ|ừ|ứ|ử|ữ|ự|ỳ|ý|ỷ|ỹ|ỵ|À|Á|Ả|Ã|Ạ|Ầ|Ấ|Ẩ|Ẫ|Ậ|Ằ|Ắ|Ẳ|Ẵ|Ặ|È|É|Ẻ|Ẽ|Ẹ|Ề|Ế|Ể|Ễ|Ệ|Ì|Í|Ỉ|Ĩ|Ị|Ò|Ó|Ỏ|Õ|Ọ|Ồ|Ố|Ổ|Ỗ|Ộ|Ờ|Ớ|Ở|Ỡ|Ợ|Ù|Ú|Ủ|Ũ|Ụ|Ừ|Ứ|Ử|Ữ|Ự|Ỳ|Ý|Ỷ|Ỹ|Ỵ'.split('|')\n",
        "    charutf8 = \"à|á|ả|ã|ạ|ầ|ấ|ẩ|ẫ|ậ|ằ|ắ|ẳ|ẵ|ặ|è|é|ẻ|ẽ|ẹ|ề|ế|ể|ễ|ệ|ì|í|ỉ|ĩ|ị|ò|ó|ỏ|õ|ọ|ồ|ố|ổ|ỗ|ộ|ờ|ớ|ở|ỡ|ợ|ù|ú|ủ|ũ|ụ|ừ|ứ|ử|ữ|ự|ỳ|ý|ỷ|ỹ|ỵ|À|Á|Ả|Ã|Ạ|Ầ|Ấ|Ẩ|Ẫ|Ậ|Ằ|Ắ|Ẳ|Ẵ|Ặ|È|É|Ẻ|Ẽ|Ẹ|Ề|Ế|Ể|Ễ|Ệ|Ì|Í|Ỉ|Ĩ|Ị|Ò|Ó|Ỏ|Õ|Ọ|Ồ|Ố|Ổ|Ỗ|Ộ|Ờ|Ớ|Ở|Ỡ|Ợ|Ù|Ú|Ủ|Ũ|Ụ|Ừ|Ứ|Ử|Ữ|Ự|Ỳ|Ý|Ỷ|Ỹ|Ỵ\".split('|')\n",
        "    for i in range(len(char1252)):\n",
        "        dic[char1252[i]] = charutf8[i]\n",
        "    return dic\n",
        "dicchar = loaddicchar()"
      ],
      "metadata": {
        "id": "MJ_bRPblJaSC"
      },
      "execution_count": null,
      "outputs": []
    },
    {
      "cell_type": "code",
      "source": [
        "def covert_unicode(txt):\n",
        "    return re.sub(\n",
        "        r'à|á|ả|ã|ạ|ầ|ấ|ẩ|ẫ|ậ|ằ|ắ|ẳ|ẵ|ặ|è|é|ẻ|ẽ|ẹ|ề|ế|ể|ễ|ệ|ì|í|ỉ|ĩ|ị|ò|ó|ỏ|õ|ọ|ồ|ố|ổ|ỗ|ộ|ờ|ớ|ở|ỡ|ợ|ù|ú|ủ|ũ|ụ|ừ|ứ|ử|ữ|ự|ỳ|ý|ỷ|ỹ|ỵ|À|Á|Ả|Ã|Ạ|Ầ|Ấ|Ẩ|Ẫ|Ậ|Ằ|Ắ|Ẳ|Ẵ|Ặ|È|É|Ẻ|Ẽ|Ẹ|Ề|Ế|Ể|Ễ|Ệ|Ì|Í|Ỉ|Ĩ|Ị|Ò|Ó|Ỏ|Õ|Ọ|Ồ|Ố|Ổ|Ỗ|Ộ|Ờ|Ớ|Ở|Ỡ|Ợ|Ù|Ú|Ủ|Ũ|Ụ|Ừ|Ứ|Ử|Ữ|Ự|Ỳ|Ý|Ỷ|Ỹ|Ỵ',\n",
        "        lambda x: dicchar[x.group()], txt)"
      ],
      "metadata": {
        "id": "PpNokdB-JeRC"
      },
      "execution_count": null,
      "outputs": []
    },
    {
      "cell_type": "code",
      "source": [
        "def call_api(data, url, method, timeout=3):\n",
        "    headers = {\n",
        "        'content-type': \"application/x-www-form-urlencoded\",\n",
        "        'cache-control': \"no-cache\",\n",
        "        'postman-token': \"6a410524-a8e2-79c7-bd9d-53e4b68c84c7\"\n",
        "    }\n",
        "    response = requests.request(method, url, data=data, headers=headers, timeout=timeout)\n",
        "    return response"
      ],
      "metadata": {
        "id": "G8d8nx4YJg8x"
      },
      "execution_count": null,
      "outputs": []
    },
    {
      "cell_type": "code",
      "source": [
        "def convertwindown1525toutf8(txt):\n",
        "    return re.sub(\n",
        "        r'à|á|ả|ã|ạ|ầ|ấ|ẩ|ẫ|ậ|ằ|ắ|ẳ|ẵ|ặ|è|é|ẻ|ẽ|ẹ|ề|ế|ể|ễ|ệ|ì|í|ỉ|ĩ|ị|ò|ó|ỏ|õ|ọ|ồ|ố|ổ|ỗ|ộ|ờ|ớ|ở|ỡ|ợ|ù|ú|ủ|ũ|ụ|ừ|ứ|ử|ữ|ự|ỳ|ý|ỷ|ỹ|ỵ|À|Á|Ả|Ã|Ạ|Ầ|Ấ|Ẩ|Ẫ|Ậ|Ằ|Ắ|Ẳ|Ẵ|Ặ|È|É|Ẻ|Ẽ|Ẹ|Ề|Ế|Ể|Ễ|Ệ|Ì|Í|Ỉ|Ĩ|Ị|Ò|Ó|Ỏ|Õ|Ọ|Ồ|Ố|Ổ|Ỗ|Ộ|Ờ|Ớ|Ở|Ỡ|Ợ|Ù|Ú|Ủ|Ũ|Ụ|Ừ|Ứ|Ử|Ữ|Ự|Ỳ|Ý|Ỷ|Ỹ|Ỵ',\n",
        "        lambda x: dicchar[x.group()], txt)"
      ],
      "metadata": {
        "id": "aULFBmYjJtvp"
      },
      "execution_count": null,
      "outputs": []
    },
    {
      "cell_type": "code",
      "source": [
        "bang_nguyen_am = [['a', 'à', 'á', 'ả', 'ã', 'ạ', 'a'],\n",
        "                  ['ă', 'ằ', 'ắ', 'ẳ', 'ẵ', 'ặ', 'aw'],\n",
        "                  ['â', 'ầ', 'ấ', 'ẩ', 'ẫ', 'ậ', 'aa'],\n",
        "                  ['e', 'è', 'é', 'ẻ', 'ẽ', 'ẹ', 'e'],\n",
        "                  ['ê', 'ề', 'ế', 'ể', 'ễ', 'ệ', 'ee'],\n",
        "                  ['i', 'ì', 'í', 'ỉ', 'ĩ', 'ị', 'i'],\n",
        "                  ['o', 'ò', 'ó', 'ỏ', 'õ', 'ọ', 'o'],\n",
        "                  ['ô', 'ồ', 'ố', 'ổ', 'ỗ', 'ộ', 'oo'],\n",
        "                  ['ơ', 'ờ', 'ớ', 'ở', 'ỡ', 'ợ', 'ow'],\n",
        "                  ['u', 'ù', 'ú', 'ủ', 'ũ', 'ụ', 'u'],\n",
        "                  ['ư', 'ừ', 'ứ', 'ử', 'ữ', 'ự', 'uw'],\n",
        "                  ['y', 'ỳ', 'ý', 'ỷ', 'ỹ', 'ỵ', 'y']]\n",
        "bang_ky_tu_dau = ['', 'f', 's', 'r', 'x', 'j']"
      ],
      "metadata": {
        "id": "j6zgmWz_J3QR"
      },
      "execution_count": null,
      "outputs": []
    },
    {
      "cell_type": "code",
      "source": [
        "nguyen_am_to_ids = {}\n",
        "for i in range(len(bang_nguyen_am)):\n",
        "    for j in range(len(bang_nguyen_am[i]) - 1):\n",
        "        nguyen_am_to_ids[bang_nguyen_am[i][j]] = (i, j)"
      ],
      "metadata": {
        "id": "qM6o0KNPJ6FB"
      },
      "execution_count": null,
      "outputs": []
    },
    {
      "cell_type": "code",
      "source": [
        "def vn_word_to_telex_type(word):\n",
        "    dau_cau = 0\n",
        "    new_word = ''\n",
        "    for char in word:\n",
        "        x, y = nguyen_am_to_ids.get(char, (-1, -1))\n",
        "        if x == -1:\n",
        "            new_word += char\n",
        "            continue\n",
        "        if y != 0:\n",
        "            dau_cau = y\n",
        "        new_word += bang_nguyen_am[x][-1]\n",
        "    new_word += bang_ky_tu_dau[dau_cau]\n",
        "    return new_word"
      ],
      "metadata": {
        "id": "a0MZ9FDrJ7Mr"
      },
      "execution_count": null,
      "outputs": []
    },
    {
      "cell_type": "code",
      "source": [
        "def vn_sentence_to_telex_type(sentence):\n",
        "    words = sentence.split()\n",
        "    for index, word in enumerate(words):\n",
        "        words[index] = vn_word_to_telex_type(word)\n",
        "    return ' '.join(words)"
      ],
      "metadata": {
        "id": "lcOYeiv1J8NC"
      },
      "execution_count": null,
      "outputs": []
    },
    {
      "cell_type": "code",
      "source": [
        "def chuan_hoa_dau_tu_tieng_viet(word):\n",
        "    if not is_valid_vietnam_word(word):\n",
        "        return word\n",
        "    chars = list(word)\n",
        "    dau_cau = 0\n",
        "    nguyen_am_index = []\n",
        "    qu_or_gi = False\n",
        "    for index, char in enumerate(chars):\n",
        "        x, y = nguyen_am_to_ids.get(char, (-1, -1))\n",
        "        if x == -1:\n",
        "            continue\n",
        "        elif x == 9:  # check qu\n",
        "            if index != 0 and chars[index - 1] == 'q':\n",
        "                chars[index] = 'u'\n",
        "                qu_or_gi = True\n",
        "        elif x == 5:  # check gi\n",
        "            if index != 0 and chars[index - 1] == 'g':\n",
        "                chars[index] = 'i'\n",
        "                qu_or_gi = True\n",
        "        if y != 0:\n",
        "            dau_cau = y\n",
        "            chars[index] = bang_nguyen_am[x][0]\n",
        "        if not qu_or_gi or index != 1:\n",
        "            nguyen_am_index.append(index)\n",
        "    if len(nguyen_am_index) < 2:\n",
        "        if qu_or_gi:\n",
        "            if len(chars) == 2:\n",
        "                x, y = nguyen_am_to_ids.get(chars[1])\n",
        "                chars[1] = bang_nguyen_am[x][dau_cau]\n",
        "            else:\n",
        "                x, y = nguyen_am_to_ids.get(chars[2], (-1, -1))\n",
        "                if x != -1:\n",
        "                    chars[2] = bang_nguyen_am[x][dau_cau]\n",
        "                else:\n",
        "                    chars[1] = bang_nguyen_am[5][dau_cau] if chars[1] == 'i' else bang_nguyen_am[9][dau_cau]\n",
        "            return ''.join(chars)\n",
        "        return word\n",
        "\n",
        "    for index in nguyen_am_index:\n",
        "        x, y = nguyen_am_to_ids[chars[index]]\n",
        "        if x == 4 or x == 8:  # ê, ơ\n",
        "            chars[index] = bang_nguyen_am[x][dau_cau]\n",
        "            return ''.join(chars)\n",
        "\n",
        "    if len(nguyen_am_index) == 2:\n",
        "        if nguyen_am_index[-1] == len(chars) - 1:\n",
        "            x, y = nguyen_am_to_ids[chars[nguyen_am_index[0]]]\n",
        "            chars[nguyen_am_index[0]] = bang_nguyen_am[x][dau_cau]\n",
        "        else:\n",
        "            x, y = nguyen_am_to_ids[chars[nguyen_am_index[1]]]\n",
        "            chars[nguyen_am_index[1]] = bang_nguyen_am[x][dau_cau]\n",
        "    else:\n",
        "        x, y = nguyen_am_to_ids[chars[nguyen_am_index[1]]]\n",
        "        chars[nguyen_am_index[1]] = bang_nguyen_am[x][dau_cau]\n",
        "    return ''.join(chars)"
      ],
      "metadata": {
        "id": "VkkIJRelKD9x"
      },
      "execution_count": null,
      "outputs": []
    },
    {
      "cell_type": "code",
      "source": [
        "def is_valid_vietnam_word(word):\n",
        "    chars = list(word)\n",
        "    nguyen_am_index = -1\n",
        "    for index, char in enumerate(chars):\n",
        "        x, y = nguyen_am_to_ids.get(char, (-1, -1))\n",
        "        if x != -1:\n",
        "            if nguyen_am_index == -1:\n",
        "                nguyen_am_index = index\n",
        "            else:\n",
        "                if index - nguyen_am_index != 1:\n",
        "                    return False\n",
        "                nguyen_am_index = index\n",
        "    return True"
      ],
      "metadata": {
        "id": "Mx8Qu-qDKKzJ"
      },
      "execution_count": null,
      "outputs": []
    },
    {
      "cell_type": "code",
      "source": [
        "def chuan_hoa_dau_cau_tieng_viet(sentence):\n",
        "    sentence = sentence.lower()\n",
        "    words = sentence.split()\n",
        "    for index, word in enumerate(words):\n",
        "        words[index] = chuan_hoa_dau_tu_tieng_viet(word)\n",
        "    return ' '.join(words)"
      ],
      "metadata": {
        "id": "smoXalLkKMP6"
      },
      "execution_count": null,
      "outputs": []
    },
    {
      "cell_type": "code",
      "source": [
        "def deEmojify(text):\n",
        "    regrex_pattern = re.compile(pattern = \"[\"\n",
        "        u\"\\U0001F600-\\U0001F64F\"  # emoticons\n",
        "        u\"\\U0001F300-\\U0001F5FF\"  # symbols & pictographs\n",
        "        u\"\\U0001F680-\\U0001F6FF\"  # transport & map symbols\n",
        "        u\"\\U0001F1E0-\\U0001F1FF\"  # flags (iOS)\n",
        "                           \"]+\", flags = re.UNICODE)\n",
        "    return regrex_pattern.sub(r'', text)"
      ],
      "metadata": {
        "id": "azPehJzJKPzC"
      },
      "execution_count": null,
      "outputs": []
    },
    {
      "cell_type": "code",
      "source": [
        "def chuan_hoa_teen_code(sentence):\n",
        "    code = ['ctrai', 'khôg', 'bme', 'cta', 'mih', 'mqh', 'cgai', 'nhữg', 'mng', 'svtn', 'r', 'qtam', 'thươg', 'qtâm', 'chug', 'trườg', 'thoy', 'đki', 'atsm', 'ạk', 'cv', 'vch', 'cùg', 'pn', 'pjt', 'thjk', 'keke', 'ktra', 'nek', 'cgái', 'nthe', 'chúg', 'kái', 'tìh', 'phòg', 'lòg', 'từg', 'rằg', 'sốg', 'thuj', 'thuơng', 'càg', 'đky', 'bằg', 'sviên', 'ák', 'đág', 'nvay', 'nhjeu', 'xg', 'zồi', 'trag', 'zữ', 'atrai', 'kte', 'độg', 'lmht', 'gắg', 'đzai', 'thgian', 'plz', 'đồg', 'btrai', 'nthê', 'hìhì', 'vọg', 'hihe', 'đôg', 'răg', 'thườg', 'tcảm', 'đứg', 'ksao', 'dz', 'hjxhjx', 'cmày', 'xuốg', 'nkư', 'lquan', 'tiếg', 'hajz', 'xih', 'hìh', 'thàh', 'ngke', 'dzậy', 'teencode', 'tnào', 'tưởg', 'ctrinh', 'phog', 'hôg', 'zìa', 'kũg', 'ntnao', 'trọg', 'nthế', 'năg', 'ngđó', 'lquen', 'riêg', 'ngag', 'hêhê', 'bnhiu', 'ngốk', 'kậu', 'highland', 'kqua', 'htrc', 'địh', 'gđình', 'giốg', 'csống', 'xug', 'zùi', 'bnhiêu', 'cbị', 'kòn', 'buôg', 'csong', 'chàg', 'chăg', 'ngàh', 'llac', 'nkưng', 'nắg', 'tíh', 'khoảg', 'thík', 'ngđo', 'ngkhác', 'thẳg', 'kảm', 'dàh', 'júp', 'lặg', 'vđê', 'bbè', 'bóg', 'dky', 'dòg', 'uốg', 'tyêu', 'snvv', 'đthoại', 'qhe', 'cviec', 'tượg', 'qà', 'thjc', 'nhưq', 'cđời', 'bthường', 'zà', 'đáh', 'xloi', 'zám', 'qtrọng', 'bìh', 'lzi', 'qhệ', 'đhbkhn', 'hajzz', 'kủa', 'lz', 'đhkhtn', 'đóg', 'cka', 'lgi', 'nvậy', 'qả', 'đkiện', 'nèk', 'tlai', 'bsĩ', 'hkì', 'đcsvn', 'vde', 'chta', 'òy', 'ltinh', 'ngyeu', 'đthoai', 'snghĩ', 'nặg', 'họk', 'dừg', 'hphúc', 'hiha', 'wtâm', 'thíck', 'chuện', 'lạh', 'fây', 'ntnày', 'lúk', 'haj', 'ngía', 'mớj', 'hsơ', 'ctraj', 'nyêu', 'điiiiiii', 'rồii', 'c', 'kih', 'kb', 'hixxx', 'dthương', 'nhiềuuu', 'ctrình', 'mìnk', 'mjh', 'ng', 'vc', 'uhm', 'thỳ', 'nyc', 'tks', 'nàg', 'thôii', 'đjên', 'bgái', 'vớii', 'xink', 'hđộng', 'đhọc', 'mk', 'bn', 'thik', 'cj', 'mn', 'nguoi', 'nógn', 'hok', 'ko', 'bik', 'vs', 'cx', 'mik', 'wtf', 'đc', 'cmt', 'ck', 'chk', 'ngta', 'gđ', 'oh', 'vk', 'ctác', 'sg', 'ae', 'ah', 'ạh', 'rì', 'ms', 'vn', 'nhaa', 'cũg', 'đag', 'ơiii', 'hic', 'ace', 'àk', 'uh', 'cmm', 'cmnr', 'ơiiii', 'hnay', 'ukm', 'tq', 'ctr', 'đii', 'nch', 'trieu', 'hahah', 'nta', 'ngèo', 'kêh', 'ak', 'ad', 'j', 'ny', 'dc', 'qc', 'baoh', 'zui', 'zẻ', 'tym', 'aye', 'eya', 'fb', 'insta', 'z', 'thich', 'vcl', 'đt', 'acc', 'lol', 'loz', 'lozz', 'trc', 'chs', 'đhs', 'qá', 'ntn', 'wá', 'zậy', 'zô', 'ytb', 'vđ', 'vchg', 'sml', 'xl', 'cmn', 'face', 'hjhj', 'vv', 'ns', 'iu', 'vcđ', 'in4', 'qq', 'sub', 'kh', 'zạ', 'oy', 'jo', 'clmm', 'bsvv', 'troai', 'wa', 'hjx', 'e', 'ik', 'ji', 'ce', 'lm', 'đz', 'sr', 'ib', 'hoy', 'đbh', 'k', 'vd', 'a', 'cũng z', 'z là', 'unf', 'my fen', 'fen', 'cty', 'on lai', 'u hai ba', 'kô', 'đtqg', 'hqua', 'xog', 'uh', 'uk', 'nhoé', 'biet', 'quí', 'stk', 'hong kong', 'đươc', 'nghành', 'nvqs', 'ngừoi', 'trog', 'tgian', 'biêt', 'fải', 'nguời', 'tđn', 'bth', 'vcđ', 'tgdd', 'khg', 'nhưg', 'thpt', 'thằg', 'đuợc', 'dc', 'đc', 'ah', 'àh', 'ku', 'thým', 'onl', 'zô', 'zú', 'cmnd', 'sđt', 'klq']\n",
        "    chuanhoa = ['con trai', 'không', 'bố mẹ', 'chúng ta', 'mình', 'mối quan hệ', 'con gái', 'những', 'mọi người', 'sinh viên tình nguyện', 'rồi', 'quan tâm', 'thương', 'quan tâm', 'chung', 'trường', 'thôi', 'đăng ký', 'ảo tưởng sức mạnh', 'ạ', 'công việc', 'vãi chưởng', 'cùng', 'bạn', 'biết', 'thích', 'ce ce', 'kiểm tra', 'nè', 'con gái', 'như thế', 'chúng', 'cái', 'tình', 'phòng', 'lòng', 'từng', 'rằng', 'sống', 'thôi', 'thương', 'càng', 'đăng ký', 'bằng', 'sinh viên', 'á', 'đáng', 'như vậy', 'nhiều', 'xuống', 'rồi', 'trang', 'dữ', 'anh trai', 'kinh tế', 'động', 'liên minh huyền thoại', 'gắng', 'đẹp trai', 'thời gian', 'pờ ly', 'đồng', 'bạn trai', 'như thế', 'hì hì', 'vọng', 'hi he', 'đông', 'răng', 'thường', 'tình cảm', 'đứng', 'không sao', 'đẹp trai', 'hix hix', 'chúng mày', 'xuống', 'như', 'liên quan', 'tiếng', 'hai', 'xinh', 'hình', 'thành', 'nghe', 'dậy', 'tin cốt', 'thế nào', 'tưởng', 'chương trình', 'phong', 'không', 'gì', 'cũng', 'như thế nào', 'trọng', 'như thế', 'năng', 'người đó', 'làm quen', 'riêng', 'ngang', 'hê hê', 'bao nhiêu', 'ngốc', 'cậu', 'hai lừn', 'kết quả', 'hôm trước', 'định', 'gia đinh', 'giống', 'cuộc sống', 'xùng', 'rồi', 'bao nhiêu', 'chuẩn bị', 'còn', 'buông', 'cuộc sống', 'chàng', 'chăng', 'ngành', 'liên lạc', 'nhưng', 'nắng', 'tính', 'khoảng', 'thích', 'người đó', 'người khác', 'thẳng', 'cảm', 'dành', 'giúp', 'lặng', 'vấn đề', 'bạn bè', 'bóng', 'đăng ký', 'dòng', 'uống', 'tình yêu', 'sinh nhật vui vẻ', 'điện thoại', 'quan hệ', 'công việc', 'tượng', 'quà', 'thích', 'nhưng', 'cuộc đời', 'bình thường', 'già', 'đánh', 'xin lỗi', 'dám', 'quan trọng', 'bình', 'làm gì', 'quan hệ', 'đại học bách khoa hà nội', 'hai', 'của', 'làm gì', 'đại học khoa học tự nhiên', 'đóng', 'cha', 'làm gì', 'như vậy', 'quả', 'điều kiện', 'nè', 'tương lai', 'bác sĩ', 'học kỳ', 'đảng cộng sản việt nam', 'vấn đề', 'chúng ta', 'rồi', 'linh tinh', 'người yêu', 'điện thoại', 'suy nghĩ', 'nặng', 'học', 'dừng', 'hạnh phúc', 'hi ha', 'quan tâm', 'thích', 'chuyện', 'lạnh', 'phây', 'như thế này', 'lúc', 'hai', 'nghía', 'mới', 'hồ sơ', 'con trai', 'người yêu', 'đi', 'rồi', 'chị', 'kinh', 'kết bạn', 'hích', 'dễ thương', 'nhiều', 'chương trình', 'mình', 'mình', 'người', 'vợ chồng', 'ừm', 'thì', 'người yêu cũ', 'thanks', 'nàng', 'thôi', 'điên', 'bạn gái', 'với', 'xinh', 'hành động', 'đại học', 'mình', 'bạn', 'thích', 'chị', 'mọi người', 'người', 'nóng', 'không', 'không', 'biết', 'với', 'cũng', 'mình', 'what the fuck', 'được', 'comment', 'chồng', 'chồng', 'người ta', 'gia đình', 'ồ', 'vợ', 'công tác', 'sài gòn', 'anh em', 'à', 'ạ', 'gì', 'mới', 'việt nam', 'nha', 'cũng', 'đang', 'ơi', 'hích', 'anh chị em', 'à', 'ừ', 'con mẹ mày', 'con mẹ nó rồi', 'ơi', 'hôm nay', 'ừm', 'trung quốc', 'chương trình', 'đi', 'nói chuyện', 'triệu', 'ha ha', 'người ta', 'nghèo', 'kênh', 'à', 'admin', 'gì', 'người yêu', 'được', 'quảng cáo', 'bao giờ', 'vui', 'vẻ', 'tim', 'anh yêu em', 'em yêu anh', 'facebook', 'instagram', 'vậy', 'thích', 'vờ cờ lờ', 'điện thoại', 'account', 'lồn', 'lồn', 'lồn', 'trước', 'chẳng hiểu sao', 'đéo hiểu sao', 'quá', 'như thế nào', 'quá', 'vậy', 'vô', 'youtube', 'vãi đái', 'vãi chưởng', 'sấp mặt lờ', 'xin lỗi', 'con mẹ nó', 'facebook', 'hi hi', 'vui vẻ', 'nói', 'yêu', 'vãi cải đái', 'info', 'quằn què', 'subcribe', 'không', 'vậy', 'rồi', 'giờ', 'cái lồn mẹ mày', 'buổi sáng vui vẻ', 'trai', 'quá', 'hix', 'em', 'ý', 'gì', 'chị em', 'làm', 'đẹp giai', 'sorry', 'inbox', 'thôi', 'đéo bao giờ', 'không', 'ví dụ', 'anh', 'cũng vậy', 'vậy là', 'unfriend', 'my friend', 'friend', 'công ty', 'online', 'u23', 'không', 'đội tuyển quốc gia', 'hôm qua', 'xong', 'ừ', 'ừ', 'nhé', 'biết', 'quý', 'số tài khoản', 'hồng kông', 'được', 'ngành', 'nghĩa vụ quân sự', 'người', 'trong', 'thời gian', 'biết', 'phải', 'người', 'thế đéo nào', 'bình thường', 'vãi cả đái', 'thế giới di động', 'không', 'nhưng', 'trung học phổ thông', 'thằng', 'được', 'được', 'được', 'à', 'à', 'cu', 'thím', 'online', 'dô', 'vú', 'chứng minh nhân dân', 'số điện thoại', 'không liên quan']\n",
        "    data = {\"code\" : code, \"chuanhoa\" : chuanhoa}\n",
        "    teencode = pd.DataFrame(data)\n",
        "    result = [x.strip() for x in sentence.split()]\n",
        "    for i in range(0, len(result)):\n",
        "        for j in range(0, len(teencode)):\n",
        "            if (result[i] == teencode.at[j, \"code\"]):\n",
        "                result[i] = teencode.at[j, \"chuanhoa\"]\n",
        "    x = \" \".join(result)\n",
        "    x.strip()\n",
        "    return x"
      ],
      "metadata": {
        "id": "SXwO8QiaKRqB"
      },
      "execution_count": null,
      "outputs": []
    },
    {
      "cell_type": "code",
      "source": [
        "def remove_emoji(text):\n",
        "    for emot in UNICODE_EMOJI:\n",
        "        text = str(text).replace(emot, ' ')\n",
        "    text = re.sub('  +', ' ', text).strip()\n",
        "    return text\n",
        "def url(text):\n",
        "    text = re.sub(r'https?://\\S+|www\\.\\S+', ' ', str(text))\n",
        "    text = re.sub('  +', ' ', text).strip()\n",
        "    return text\n",
        "def mail(text):\n",
        "    text = re.sub(r'[^@]+@[^@]+\\.[^@]+', ' ', text)\n",
        "    text = re.sub('  +', ' ', text).strip()\n",
        "    return text\n",
        "    # remove mention tag and hashtag\n",
        "def tag(text):\n",
        "    text = re.sub(r\"(?:\\@|\\#|\\://)\\S+\", \" \", text)\n",
        "    text = re.sub('  +', ' ', text).strip()\n",
        "    return text"
      ],
      "metadata": {
        "id": "U8eYigWMKS6B"
      },
      "execution_count": null,
      "outputs": []
    },
    {
      "cell_type": "code",
      "source": [
        "c2e_path = '/content/drive/MyDrive/[1] Học tập/[2022 - 2023] Học kỳ 2/DS200 - DỮ LIỆU LỚN/Đồ án/CODE/Kafka - Spark - Model/Preprocess Data/character2emoji.xlsx'\n",
        "character2emoji = pd.read_excel(c2e_path)  # character to emoji"
      ],
      "metadata": {
        "id": "AAPhmp9SKdLj"
      },
      "execution_count": null,
      "outputs": []
    },
    {
      "cell_type": "code",
      "source": [
        "def convert_character2emoji(text):\n",
        "    text = str(text)\n",
        "    for i in range(character2emoji.shape[0]):\n",
        "        text = text.replace(character2emoji.at[i, 'character'], \" \" + character2emoji.at[i, 'emoji'] + \" \")\n",
        "    text = re.sub('  +', ' ', text).strip()\n",
        "    return text\n",
        "e2w_path = '/content/drive/MyDrive/[1] Học tập/[2022 - 2023] Học kỳ 2/DS200 - DỮ LIỆU LỚN/Đồ án/CODE/Kafka - Spark - Model/Preprocess Data/emoji2word.xlsx'\n",
        "emoji2word = pd.read_excel(e2w_path)"
      ],
      "metadata": {
        "id": "Sq1KjwmIKgia"
      },
      "execution_count": null,
      "outputs": []
    },
    {
      "cell_type": "code",
      "source": [
        "def convert_emoji2word(text):\n",
        "    for i in range(emoji2word.shape[0]):\n",
        "        text = text.replace(emoji2word.at[i, 'emoji'], \" \" + emoji2word.at[i, 'word_vn'] + \" \")\n",
        "    text = re.sub('  +', ' ', text).strip()\n",
        "    return text"
      ],
      "metadata": {
        "id": "uoVLbD01Kh9c"
      },
      "execution_count": null,
      "outputs": []
    },
    {
      "cell_type": "code",
      "source": [
        "def special_character_1(text):  # remove dot and comma\n",
        "    text = re.sub(\"[.,?!]\", \" \", text)\n",
        "    text = re.sub('  +', ' ', text).strip()\n",
        "    return text"
      ],
      "metadata": {
        "id": "jQgt09CRKirS"
      },
      "execution_count": null,
      "outputs": []
    },
    {
      "cell_type": "code",
      "source": [
        "def abbreviation_kk(text):\n",
        "    text = str(text)\n",
        "    for t in text.split():\n",
        "        if 'kk' in t:\n",
        "            text = text.replace(t, ' ha ha ')\n",
        "        else:\n",
        "            if 'kaka' in t:\n",
        "                text = text.replace(t, ' ha ha ')\n",
        "            else:\n",
        "                if 'kiki' in t:\n",
        "                    text = text.replace(t, ' ha ha ')\n",
        "                else:\n",
        "                    if 'haha' in t:\n",
        "                        text = text.replace(t, ' ha ha ')\n",
        "                    else:\n",
        "                        if 'hihi' in t:\n",
        "                            text = text.replace(t, ' ha ha ')\n",
        "    text = re.sub('  +', ' ', text).strip()\n",
        "    return text"
      ],
      "metadata": {
        "id": "yvfd4kpOKmcq"
      },
      "execution_count": null,
      "outputs": []
    },
    {
      "cell_type": "code",
      "source": [
        "def tokenized_VNCoreNLP(text):\n",
        "    sentences = vncorenlp.tokenize(text)\n",
        "    return \" \".join(list(itertools.chain.from_iterable(sentences)))"
      ],
      "metadata": {
        "id": "-aHEu4-zKnsp"
      },
      "execution_count": null,
      "outputs": []
    },
    {
      "cell_type": "code",
      "source": [
        "def text_preprocess_tokenize(document):\n",
        "     # đưa về lower\n",
        "     document = document.lower()\n",
        "     # chuẩn hóa unicode\n",
        "     document = covert_unicode(document)\n",
        "     # xoá emoji\n",
        "     document = deEmojify(document)\n",
        "     # chuẩn hóa cách gõ dấu tiếng Việt\n",
        "     document = chuan_hoa_dau_cau_tieng_viet(document)\n",
        "     # xóa các ký tự không cần thiết\n",
        "     document = re.sub(r'[^\\s\\wáàảãạăắằẳẵặâấầẩẫậéèẻẽẹêếềểễệóòỏõọôốồổỗộơớờởỡợíìỉĩịúùủũụưứừửữựýỳỷỹỵđ_]',' ',document)\n",
        "     # chuẩn hoá teencode\n",
        "     document = chuan_hoa_teen_code(document)\n",
        "     # tách từ sử dụng VnCoreNLP\n",
        "     document = tokenized_VNCoreNLP(document)\n",
        "     # xóa khoảng trắng thừa\n",
        "     document = re.sub(r'\\s+', ' ', document).strip()\n",
        "\n",
        "     document = convert_character2emoji(document)\n",
        "     document = url(document)\n",
        "     document = mail(document)\n",
        "     document = tag(document)\n",
        "     document = special_character_1(document)  # ##remove , . ? !\n",
        "     document = abbreviation_kk(document)\n",
        "     document = convert_character2emoji(document)\n",
        "     document = remove_emoji(document)\n",
        "\n",
        "     return document"
      ],
      "metadata": {
        "id": "QT9NvqlfHQuE"
      },
      "execution_count": null,
      "outputs": []
    },
    {
      "cell_type": "code",
      "source": [
        "def text_preprocess_no_tokenize(document):\n",
        "    # đưa về lower\n",
        "    document = document.lower()\n",
        "    # chuẩn hóa unicode\n",
        "    document = covert_unicode(document)\n",
        "    # xoá emoji\n",
        "    document = deEmojify(document)\n",
        "    # chuẩn hóa cách gõ dấu tiếng Việt\n",
        "    document = chuan_hoa_dau_cau_tieng_viet(document)\n",
        "    # xóa các ký tự không cần thiết\n",
        "    document = re.sub(r'[^\\s\\wáàảãạăắằẳẵặâấầẩẫậéèẻẽẹêếềểễệóòỏõọôốồổỗộơớờởỡợíìỉĩịúùủũụưứừửữựýỳỷỹỵđ_]',' ',document)\n",
        "    # chuẩn hoá teencode\n",
        "    document = chuan_hoa_teen_code(document)\n",
        "    # tách từ sử dụng VnCoreNLP\n",
        "    #document = tokenized_VNCoreNLP(document)\n",
        "    # xóa khoảng trắng thừa\n",
        "    document = re.sub(r'\\s+', ' ', document).strip()\n",
        "\n",
        "    document = convert_character2emoji(document)\n",
        "    document = url(document)\n",
        "    document = mail(document)\n",
        "    document = tag(document)\n",
        "    document = special_character_1(document)  # ##remove , . ? !\n",
        "    document = abbreviation_kk(document)\n",
        "    document = convert_character2emoji(document)\n",
        "    document = remove_emoji(document)\n",
        "\n",
        "    return document"
      ],
      "metadata": {
        "id": "moNhvryqHeSG"
      },
      "execution_count": null,
      "outputs": []
    },
    {
      "cell_type": "code",
      "source": [
        "def preprocess_data_no_tokenize(data_full_label):\n",
        "    # data_full_label = data_full_label.sample(len(data_full_label))\n",
        "    data_full_label = data_full_label.dropna()\n",
        "    for i in tqdm(range(len(data_full_label))):\n",
        "        data_full_label.loc[i, \"text\"] = text_preprocess_no_tokenize(str(data_full_label.loc[i, \"text\"]))\n",
        "    # data_full_label = data_full_label.sample(len(data_full_label))\n",
        "    data_full_label = data_full_label.dropna()\n",
        "    data_full_label.drop_duplicates().reset_index(drop=True)\n",
        "    return data_full_label"
      ],
      "metadata": {
        "id": "G71-oNboHt5n"
      },
      "execution_count": null,
      "outputs": []
    },
    {
      "cell_type": "markdown",
      "source": [
        "# TRAIN MODEL"
      ],
      "metadata": {
        "id": "7il3kQWhfA-o"
      }
    },
    {
      "cell_type": "code",
      "source": [
        "vihsd_train = pd.read_csv('/content/drive/MyDrive/[1] Học tập/[2022 - 2023] Học kỳ 2/DS200 - DỮ LIỆU LỚN/Đồ án/DATA/Original Data/ViHSD/train.csv')"
      ],
      "metadata": {
        "id": "iNl5nF4BfGyg"
      },
      "execution_count": null,
      "outputs": []
    },
    {
      "cell_type": "code",
      "source": [
        "!./kafka_2.13-3.4.1/bin/kafka-topics.sh --create --bootstrap-server 127.0.0.1:9092 --replication-factor 1 --partitions 1 --topic vihsd-train"
      ],
      "metadata": {
        "id": "MLEi7rHLfCaY",
        "colab": {
          "base_uri": "https://localhost:8080/"
        },
        "outputId": "e3ae6ddf-3360-406b-a540-cfffea558676"
      },
      "execution_count": null,
      "outputs": [
        {
          "output_type": "stream",
          "name": "stdout",
          "text": [
            "Created topic vihsd-train.\n"
          ]
        }
      ]
    },
    {
      "cell_type": "code",
      "source": [
        "X_train_dataset = vihsd_train.drop([\"label\"], axis=1)\n",
        "y_train_dataset = vihsd_train[\"label\"]"
      ],
      "metadata": {
        "id": "K04uvIQZfIhp"
      },
      "execution_count": null,
      "outputs": []
    },
    {
      "cell_type": "code",
      "source": [
        "X_train = list(filter(None, X_train_dataset.to_csv(index=False).split(\"\\n\")[1:]))\n",
        "y_train = list(filter(None, y_train_dataset.to_csv(index=False).split(\"\\n\")[1:]))"
      ],
      "metadata": {
        "id": "sizFCSuGfJuY"
      },
      "execution_count": null,
      "outputs": []
    },
    {
      "cell_type": "code",
      "source": [
        "def error_callback(exc):\n",
        "    raise Exception('Error while sendig data to kafka: {0}'.format(str(exc)))"
      ],
      "metadata": {
        "id": "ciOFeyw8Jn5n"
      },
      "execution_count": null,
      "outputs": []
    },
    {
      "cell_type": "code",
      "source": [
        "def write_to_kafka_train(topic_name, items):\n",
        "  count=0\n",
        "  producer = KafkaProducer(bootstrap_servers=['127.0.0.1:9092'])\n",
        "  for message, key in items:\n",
        "    producer.send(topic_name, key=key.encode('utf-8'), value=message.encode('utf-8')).add_errback(error_callback)\n",
        "    count+=1\n",
        "  producer.flush()\n",
        "  print(\"Wrote {0} messages into topic: {1}\".format(count, topic_name))"
      ],
      "metadata": {
        "id": "DYKQpyB9fRGn"
      },
      "execution_count": null,
      "outputs": []
    },
    {
      "cell_type": "code",
      "source": [
        "write_to_kafka_train(\"vihsd-train\", zip(X_train, y_train))"
      ],
      "metadata": {
        "colab": {
          "base_uri": "https://localhost:8080/"
        },
        "id": "s1X9oRuAfWi4",
        "outputId": "b7972e6c-940c-43ea-97cd-6927a5733c51"
      },
      "execution_count": null,
      "outputs": [
        {
          "output_type": "stream",
          "name": "stdout",
          "text": [
            "Wrote 8917 messages into topic: vihsd-train\n"
          ]
        }
      ]
    },
    {
      "cell_type": "code",
      "source": [
        "NUM_COLUMNS = len(X_train_dataset.columns)"
      ],
      "metadata": {
        "id": "9_y4fK6287LK"
      },
      "execution_count": null,
      "outputs": []
    },
    {
      "cell_type": "code",
      "execution_count": null,
      "metadata": {
        "id": "HHOcitbW2_d1"
      },
      "outputs": [],
      "source": [
        "def decode_kafka_item(item):\n",
        "    message = item.message  # Assuming the message is a scalar string\n",
        "    key = tf.strings.to_number(item.key)\n",
        "    return (message, key)"
      ]
    },
    {
      "cell_type": "code",
      "source": [
        "BATCH_SIZE=64\n",
        "SHUFFLE_BUFFER_SIZE=64\n",
        "train_ds = tfio.IODataset.from_kafka('vihsd-train', partition=0, offset=0)\n",
        "train_ds = train_ds.shuffle(buffer_size=SHUFFLE_BUFFER_SIZE)\n",
        "train_ds = train_ds.map(decode_kafka_item)\n",
        "train_ds = train_ds.batch(BATCH_SIZE)"
      ],
      "metadata": {
        "id": "QdYSBu7vta8c"
      },
      "execution_count": null,
      "outputs": []
    },
    {
      "cell_type": "code",
      "execution_count": null,
      "metadata": {
        "id": "uuHtpAMqLqmv"
      },
      "outputs": [],
      "source": [
        "OPTIMIZER=\"adam\"\n",
        "LOSS=tf.keras.losses.BinaryCrossentropy(from_logits=True)\n",
        "METRICS=['accuracy']\n",
        "EPOCHS=10"
      ]
    },
    {
      "cell_type": "code",
      "execution_count": null,
      "metadata": {
        "id": "7lBmxxuj63jZ"
      },
      "outputs": [],
      "source": [
        "preprocessing_layer = tf.keras.layers.TextVectorization(\n",
        "    max_tokens=10000,  # Specify the maximum number of tokens in your vocabulary\n",
        "    output_mode='int',  # Output integer indices\n",
        "    output_sequence_length=220  # Specify the desired sequence length\n",
        ")\n",
        "train_messages = train_ds.map(lambda x, y: x)  # Extract only the input data\n",
        "preprocessing_layer.adapt(train_messages)"
      ]
    },
    {
      "cell_type": "markdown",
      "source": [
        "## Model Original"
      ],
      "metadata": {
        "id": "EdpsPmMQh5Zt"
      }
    },
    {
      "cell_type": "code",
      "source": [
        "model = tf.keras.Sequential([\n",
        "    preprocessing_layer,\n",
        "    tf.keras.layers.Embedding(preprocessing_layer.vocabulary_size(), 64),\n",
        "    tf.keras.layers.Bidirectional(tf.keras.layers.LSTM(64)),\n",
        "    tf.keras.layers.Dense(64, activation='relu'),\n",
        "    tf.keras.layers.Dense(1, activation='sigmoid')\n",
        "])\n",
        "model.build(input_shape=(NUM_COLUMNS,))\n",
        "print(model.summary())"
      ],
      "metadata": {
        "id": "D82daJCptmHl",
        "colab": {
          "base_uri": "https://localhost:8080/"
        },
        "outputId": "23c2d100-4d2e-43cf-803b-02af10a185a8"
      },
      "execution_count": null,
      "outputs": [
        {
          "output_type": "stream",
          "name": "stdout",
          "text": [
            "Model: \"sequential_3\"\n",
            "_________________________________________________________________\n",
            " Layer (type)                Output Shape              Param #   \n",
            "=================================================================\n",
            " text_vectorization_1 (TextV  (None, 220)              0         \n",
            " ectorization)                                                   \n",
            "                                                                 \n",
            " embedding_3 (Embedding)     (None, 220, 64)           640000    \n",
            "                                                                 \n",
            " bidirectional_3 (Bidirectio  (None, 128)              66048     \n",
            " nal)                                                            \n",
            "                                                                 \n",
            " dense_6 (Dense)             (None, 64)                8256      \n",
            "                                                                 \n",
            " dense_7 (Dense)             (None, 1)                 65        \n",
            "                                                                 \n",
            "=================================================================\n",
            "Total params: 714,369\n",
            "Trainable params: 714,369\n",
            "Non-trainable params: 0\n",
            "_________________________________________________________________\n",
            "None\n"
          ]
        }
      ]
    },
    {
      "cell_type": "code",
      "execution_count": null,
      "metadata": {
        "id": "LTDFVxpSLfXI"
      },
      "outputs": [],
      "source": [
        "model.compile(optimizer=OPTIMIZER, loss=LOSS, metrics=METRICS)"
      ]
    },
    {
      "cell_type": "code",
      "execution_count": null,
      "metadata": {
        "id": "SIJMg-saLgeR",
        "colab": {
          "base_uri": "https://localhost:8080/"
        },
        "outputId": "6cc1c9e5-0eca-4f5b-b030-1731d5b52053"
      },
      "outputs": [
        {
          "output_type": "stream",
          "name": "stdout",
          "text": [
            "Epoch 1/10\n",
            "140/140 [==============================] - 47s 277ms/step - loss: 0.5551 - accuracy: 0.7045\n",
            "Epoch 2/10\n",
            "140/140 [==============================] - 16s 112ms/step - loss: 0.2993 - accuracy: 0.8730\n",
            "Epoch 3/10\n",
            "140/140 [==============================] - 17s 118ms/step - loss: 0.1892 - accuracy: 0.9317\n",
            "Epoch 4/10\n",
            "140/140 [==============================] - 10s 73ms/step - loss: 0.1279 - accuracy: 0.9584\n",
            "Epoch 5/10\n",
            "140/140 [==============================] - 9s 64ms/step - loss: 0.1011 - accuracy: 0.9673\n",
            "Epoch 6/10\n",
            "140/140 [==============================] - 7s 48ms/step - loss: 0.0848 - accuracy: 0.9729\n",
            "Epoch 7/10\n",
            "140/140 [==============================] - 11s 78ms/step - loss: 0.0632 - accuracy: 0.9809\n",
            "Epoch 8/10\n",
            "140/140 [==============================] - 7s 47ms/step - loss: 0.0669 - accuracy: 0.9786\n",
            "Epoch 9/10\n",
            "140/140 [==============================] - 8s 52ms/step - loss: 0.0617 - accuracy: 0.9805\n",
            "Epoch 10/10\n",
            "140/140 [==============================] - 9s 60ms/step - loss: 0.0463 - accuracy: 0.9842\n"
          ]
        },
        {
          "output_type": "execute_result",
          "data": {
            "text/plain": [
              "<keras.callbacks.History at 0x79027647ffd0>"
            ]
          },
          "metadata": {},
          "execution_count": 73
        }
      ],
      "source": [
        "model.fit(train_ds, epochs=EPOCHS)"
      ]
    },
    {
      "cell_type": "markdown",
      "source": [
        "## Model Enhanced"
      ],
      "metadata": {
        "id": "wAREERsrh7Xl"
      }
    },
    {
      "cell_type": "code",
      "source": [
        "# Load the XLM-RoBERTa model and tokenizer\n",
        "# tokenizer = XLMRobertaTokenizer.from_pretrained('xlm-roberta-base')\n",
        "# model = XLMRobertaModel.from_pretrained('xlm-roberta-base')\n",
        "\n",
        "# Define the XLM-RoBERTa model\n",
        "model_enhance = tf.keras.Sequential([\n",
        "  preprocessing_layer,\n",
        "  # Embedding layer\n",
        "  tf.keras.layers.Embedding(preprocessing_layer.vocabulary_size(), 64),\n",
        "  # Bidirectional GRU layer\n",
        "  tf.keras.layers.Bidirectional(tf.keras.layers.GRU(128, return_sequences=True)),\n",
        "  # Conv1D layer\n",
        "  tf.keras.layers.Conv1D(64, (3,), activation='relu'),\n",
        "  # MaxPooling1D layer\n",
        "  tf.keras.layers.MaxPooling1D(pool_size=(2,)),\n",
        "  # Flatten layer\n",
        "  tf.keras.layers.Flatten(),\n",
        "  # Dense layer\n",
        "  tf.keras.layers.Dense(128, activation='relu'),\n",
        "  # Dense layer with sigmoid activation for classification\n",
        "  tf.keras.layers.Dense(1, activation='sigmoid')\n",
        "])\n",
        "\n",
        "# Set the input shape\n",
        "model_enhance.build(input_shape=(NUM_COLUMNS,))\n",
        "\n",
        "# Print the model summary\n",
        "print(model_enhance.summary())"
      ],
      "metadata": {
        "colab": {
          "base_uri": "https://localhost:8080/"
        },
        "id": "auLYHhMSh9Ys",
        "outputId": "175e5d6e-edd6-4f31-f052-5183cc6af9a1"
      },
      "execution_count": null,
      "outputs": [
        {
          "output_type": "stream",
          "name": "stdout",
          "text": [
            "Model: \"sequential\"\n",
            "_________________________________________________________________\n",
            " Layer (type)                Output Shape              Param #   \n",
            "=================================================================\n",
            " text_vectorization (TextVec  (None, 220)              0         \n",
            " torization)                                                     \n",
            "                                                                 \n",
            " embedding (Embedding)       (None, 220, 64)           640000    \n",
            "                                                                 \n",
            " bidirectional (Bidirectiona  (None, 220, 256)         148992    \n",
            " l)                                                              \n",
            "                                                                 \n",
            " conv1d (Conv1D)             (None, 218, 64)           49216     \n",
            "                                                                 \n",
            " max_pooling1d (MaxPooling1D  (None, 109, 64)          0         \n",
            " )                                                               \n",
            "                                                                 \n",
            " flatten (Flatten)           (None, 6976)              0         \n",
            "                                                                 \n",
            " dense (Dense)               (None, 128)               893056    \n",
            "                                                                 \n",
            " dense_1 (Dense)             (None, 1)                 129       \n",
            "                                                                 \n",
            "=================================================================\n",
            "Total params: 1,731,393\n",
            "Trainable params: 1,731,393\n",
            "Non-trainable params: 0\n",
            "_________________________________________________________________\n",
            "None\n"
          ]
        }
      ]
    },
    {
      "cell_type": "code",
      "execution_count": null,
      "metadata": {
        "id": "ukPCD6-BieYJ"
      },
      "outputs": [],
      "source": [
        "model_enhance.compile(optimizer=OPTIMIZER, loss=LOSS, metrics=METRICS)"
      ]
    },
    {
      "cell_type": "code",
      "execution_count": null,
      "metadata": {
        "colab": {
          "base_uri": "https://localhost:8080/"
        },
        "outputId": "1662dc57-ae01-45cf-bbaa-6eadbe938028",
        "id": "64FRy1sQieYK"
      },
      "outputs": [
        {
          "output_type": "stream",
          "name": "stdout",
          "text": [
            "Epoch 1/10\n"
          ]
        },
        {
          "output_type": "stream",
          "name": "stderr",
          "text": [
            "/usr/local/lib/python3.10/dist-packages/keras/backend.py:5703: UserWarning: \"`binary_crossentropy` received `from_logits=True`, but the `output` argument was produced by a Sigmoid activation and thus does not represent logits. Was this intended?\n",
            "  output, from_logits = _get_logits(\n"
          ]
        },
        {
          "output_type": "stream",
          "name": "stdout",
          "text": [
            "140/140 [==============================] - 58s 283ms/step - loss: 0.5519 - accuracy: 0.7083\n",
            "Epoch 2/10\n",
            "140/140 [==============================] - 15s 104ms/step - loss: 0.3082 - accuracy: 0.8748\n",
            "Epoch 3/10\n",
            "140/140 [==============================] - 11s 77ms/step - loss: 0.1848 - accuracy: 0.9323\n",
            "Epoch 4/10\n",
            "140/140 [==============================] - 8s 58ms/step - loss: 0.1241 - accuracy: 0.9564\n",
            "Epoch 5/10\n",
            "140/140 [==============================] - 8s 58ms/step - loss: 0.0925 - accuracy: 0.9686\n",
            "Epoch 6/10\n",
            "140/140 [==============================] - 9s 60ms/step - loss: 0.0769 - accuracy: 0.9739\n",
            "Epoch 7/10\n",
            "140/140 [==============================] - 8s 58ms/step - loss: 0.0693 - accuracy: 0.9749\n",
            "Epoch 8/10\n",
            "140/140 [==============================] - 11s 78ms/step - loss: 0.0433 - accuracy: 0.9864\n",
            "Epoch 9/10\n",
            "140/140 [==============================] - 8s 54ms/step - loss: 0.0385 - accuracy: 0.9886\n",
            "Epoch 10/10\n",
            "140/140 [==============================] - 6s 43ms/step - loss: 0.0308 - accuracy: 0.9905\n"
          ]
        },
        {
          "output_type": "execute_result",
          "data": {
            "text/plain": [
              "<keras.callbacks.History at 0x7cb5c58b3a00>"
            ]
          },
          "metadata": {},
          "execution_count": 50
        }
      ],
      "source": [
        "model_enhance.fit(train_ds, epochs=EPOCHS)"
      ]
    },
    {
      "cell_type": "markdown",
      "source": [
        "# **PIPELINE**"
      ],
      "metadata": {
        "id": "olEOzvgUb27A"
      }
    },
    {
      "cell_type": "code",
      "source": [
        "def create_topic(topic_name):\n",
        "    !./kafka_2.13-3.4.1/bin/kafka-topics.sh --create --bootstrap-server 127.0.0.1:9092 --replication-factor 1 --partitions 1 --topic \"{topic_name}\""
      ],
      "metadata": {
        "id": "EEsXgV-klII-"
      },
      "execution_count": null,
      "outputs": []
    },
    {
      "cell_type": "code",
      "source": [
        "def error_callback(exc):\n",
        "    raise Exception('Error while sendig data to kafka: {0}'.format(str(exc)))"
      ],
      "metadata": {
        "id": "sTiFCRNclJRO"
      },
      "execution_count": null,
      "outputs": []
    },
    {
      "cell_type": "code",
      "source": [
        "def write_to_kafka(topic_name, items):\n",
        "    count = 0\n",
        "    producer = KafkaProducer(bootstrap_servers=['127.0.0.1:9092'])\n",
        "    for message in items:  # Removed 'key' since it's not used\n",
        "        producer.send(topic_name, value=message.encode('utf-8')).add_errback(error_callback)\n",
        "        count += 1\n",
        "    producer.flush()\n",
        "    print(\"Wrote {0} messages into topic: {1}\".format(count, topic_name))"
      ],
      "metadata": {
        "id": "WR7YzFpWdpG3"
      },
      "execution_count": null,
      "outputs": []
    },
    {
      "cell_type": "code",
      "source": [
        "def decode_kafka_test_item(raw_message, raw_key):\n",
        "    message = raw_message\n",
        "    key = tf.strings.to_number(raw_key)\n",
        "    return message"
      ],
      "metadata": {
        "id": "m8KyYwgJUMwx"
      },
      "execution_count": null,
      "outputs": []
    },
    {
      "cell_type": "code",
      "source": [
        "# Đường dẫn đến thư mục chứa các file csv\n",
        "folder_path = '/content/drive/MyDrive/[1] Học tập/[2022 - 2023] Học kỳ 2/DS200 - DỮ LIỆU LỚN/Đồ án/DATA/Real-time Data/Youtube Live Chat/'"
      ],
      "metadata": {
        "id": "5mV9-rmOhEQx"
      },
      "execution_count": null,
      "outputs": []
    },
    {
      "cell_type": "code",
      "source": [
        "# Hàm kiểm tra xem có file mới trong thư mục hay không\n",
        "def check_for_new_files(last_index):\n",
        "    files = os.listdir(folder_path)\n",
        "    # Tìm các file có đuôi .csv\n",
        "    csv_files = [file for file in files if file.endswith('.csv')]\n",
        "    # Lọc ra những file mới hơn last_index\n",
        "    new_files = [file for file in csv_files if int(file.split('_')[-1].split('.')[0]) > last_index]\n",
        "    if new_files:\n",
        "        return new_files # Trả về danh sách các file mới\n",
        "    return None"
      ],
      "metadata": {
        "id": "XfmbGViwhFSo"
      },
      "execution_count": null,
      "outputs": []
    },
    {
      "cell_type": "code",
      "source": [
        "# Lấy số index lớn nhất trong danh sách file\n",
        "def get_max_index(files):\n",
        "    max_index = -1\n",
        "    for file in files:\n",
        "        index = int(file.split('_')[-1].split('.')[0])\n",
        "        if index > max_index:\n",
        "            max_index = index\n",
        "    return max_index"
      ],
      "metadata": {
        "id": "CXv_vW2DhHnK"
      },
      "execution_count": null,
      "outputs": []
    },
    {
      "cell_type": "code",
      "source": [
        "BATCH_SIZE = 64\n",
        "# Vòng lặp chờ đợi và đọc file mới\n",
        "last_index = 0  # Chưa có file nào được đọc\n",
        "topic_name = \"streaming_real_time\"\n",
        "create_topic(topic_name)\n",
        "while True:\n",
        "    new_files = check_for_new_files(last_index)\n",
        "    if new_files:\n",
        "        for new_file in new_files:\n",
        "            file_path = os.path.join(folder_path, new_file)\n",
        "\n",
        "            data_real_time = pd.read_csv(file_path)\n",
        "\n",
        "            data_real_time = preprocess_data_no_tokenize(data_real_time)\n",
        "\n",
        "            data_real_time = list(filter(None, data_real_time.to_csv(index=False).split(\"\\n\")[1:]))\n",
        "\n",
        "            write_to_kafka(topic_name, data_real_time)\n",
        "\n",
        "            data_stream = tfio.experimental.streaming.KafkaGroupIODataset(\n",
        "                          topics=[topic_name],\n",
        "                          group_id=\"clgt\",\n",
        "                          servers=\"127.0.0.1:9092\",\n",
        "                          stream_timeout=10000,\n",
        "                          configuration=[\n",
        "                              \"session.timeout.ms=7000\",\n",
        "                              \"max.poll.interval.ms=8000\",\n",
        "                              \"auto.offset.reset=earliest\"\n",
        "                          ],)\n",
        "\n",
        "            data_stream = data_stream.map(decode_kafka_test_item)\n",
        "            data_stream = data_stream.batch(BATCH_SIZE)\n",
        "\n",
        "            iterator = data_stream.__iter__()\n",
        "            all_predictions = []\n",
        "            for batch in iterator:\n",
        "                sentences = batch.numpy()\n",
        "                predictions = model_enhance.predict(batch)\n",
        "                for i, sentence in enumerate(sentences):\n",
        "                    sentence_text = sentence.decode('utf-8')\n",
        "                    prediction = predictions[i]\n",
        "                    label = 0 if prediction >= 0.5 else 1\n",
        "                    print(f\"Sentence: {sentence_text}  -  Prediction: {prediction}  -  Label: {'Hate' if label == 0 else 'Clean'}\")\n",
        "                    all_predictions.append((sentence_text, prediction, label))\n",
        "\n",
        "             # Cập nhật last_index\n",
        "            last_index = max(last_index, int(new_file.split('_')[-1].split('.')[0]))\n",
        "    else:\n",
        "        # Nếu không có file mới, chờ 1 khoảng thời gian trước khi kiểm tra lại\n",
        "        time.sleep(5)  # Chờ 5 giây trước khi kiểm tra lại"
      ],
      "metadata": {
        "id": "hkLKzytTgdgX",
        "colab": {
          "base_uri": "https://localhost:8080/"
        },
        "outputId": "896fbe4c-17d6-4f40-861e-d0033fe85482"
      },
      "execution_count": null,
      "outputs": [
        {
          "output_type": "stream",
          "name": "stdout",
          "text": [
            "WARNING: Due to limitations in metric names, topics with a period ('.') or underscore ('_') could collide. To avoid issues it is best to use either, but not both.\n",
            "Error while executing topic command : Topic 'streaming_real_time' already exists.\n",
            "[2023-07-21 07:45:06,290] ERROR org.apache.kafka.common.errors.TopicExistsException: Topic 'streaming_real_time' already exists.\n",
            " (kafka.admin.TopicCommand$)\n"
          ]
        },
        {
          "output_type": "stream",
          "name": "stderr",
          "text": [
            "100%|██████████| 10/10 [00:00<00:00, 53.28it/s]\n"
          ]
        },
        {
          "output_type": "stream",
          "name": "stdout",
          "text": [
            "Wrote 10 messages into topic: streaming_real_time\n",
            "1/1 [==============================] - 0s 35ms/step\n",
            "Sentence: kiếm mấy con 8 113 á anh  -  Prediction: [0.01501325]  -  Label: Clean\n",
            "Sentence: anh tìm 8 ebs hay cap có mấy con 20 tỷ ấy anh  -  Prediction: [3.5154949e-06]  -  Label: Clean\n",
            "Sentence: mùa 22u với hg ấy anh  -  Prediction: [7.2602306e-05]  -  Label: Clean\n",
            "Sentence: 22u 3 anh oiw  -  Prediction: [0.02108111]  -  Label: Clean\n",
            "Sentence: thank you for subscribing shyro  -  Prediction: [2.6056638e-05]  -  Label: Clean\n",
            "Sentence: 22u 3 đầy anh  -  Prediction: [3.864909e-07]  -  Label: Clean\n",
            "Sentence: m4 horus hôm qua như thế nào rồi anh hôm qua em không xem được hết stream  -  Prediction: [0.00691939]  -  Label: Clean\n",
            "Sentence: longconga  -  Prediction: [0.14310214]  -  Label: Clean\n",
            "Sentence: lông con gà  -  Prediction: [0.79873955]  -  Label: Hate\n",
            "Sentence: fifa phải trải nghiệm nhiều team mới sướng anh nhỉ  -  Prediction: [9.1184954e-10]  -  Label: Clean\n"
          ]
        },
        {
          "output_type": "stream",
          "name": "stderr",
          "text": [
            "100%|██████████| 10/10 [00:00<00:00, 123.35it/s]\n"
          ]
        },
        {
          "output_type": "stream",
          "name": "stdout",
          "text": [
            "Wrote 10 messages into topic: streaming_real_time\n",
            "1/1 [==============================] - 0s 23ms/step\n",
            "Sentence: \"\"  -  Prediction: [0.11401407]  -  Label: Clean\n",
            "Sentence: heloo  -  Prediction: [0.00152344]  -  Label: Clean\n",
            "Sentence: lươn  -  Prediction: [0.14310214]  -  Label: Clean\n",
            "Sentence: hí anhhhhh  -  Prediction: [0.00082555]  -  Label: Clean\n",
            "Sentence: 50 cai dau anh  -  Prediction: [0.99806064]  -  Label: Hate\n",
            "Sentence: diễn 10 điểm  -  Prediction: [0.04994104]  -  Label: Clean\n",
            "Sentence: hello chú độp  -  Prediction: [2.9726416e-05]  -  Label: Clean\n",
            "Sentence: hít đất  -  Prediction: [0.59698546]  -  Label: Hate\n",
            "Sentence: 50 cái  -  Prediction: [0.6584181]  -  Label: Hate\n",
            "Sentence: anh phét  -  Prediction: [0.93217146]  -  Label: Hate\n"
          ]
        },
        {
          "output_type": "stream",
          "name": "stderr",
          "text": [
            "100%|██████████| 10/10 [00:00<00:00, 150.37it/s]\n"
          ]
        },
        {
          "output_type": "stream",
          "name": "stdout",
          "text": [
            "Wrote 10 messages into topic: streaming_real_time\n",
            "1/1 [==============================] - 0s 28ms/step\n",
            "Sentence: facebook red droopy eyes facebook red droopy eyes facebook red droopy eyes  -  Prediction: [6.948108e-05]  -  Label: Clean\n",
            "Sentence: lươn rồi  -  Prediction: [0.03584922]  -  Label: Clean\n",
            "Sentence: sủi th  -  Prediction: [0.6927268]  -  Label: Hate\n",
            "Sentence: mới vào đã flex rồi  -  Prediction: [0.02979701]  -  Label: Clean\n",
            "Sentence: trả kèo đi  -  Prediction: [0.00018966]  -  Label: Clean\n",
            "Sentence: lươn cái giề  -  Prediction: [0.02890235]  -  Label: Clean\n",
            "Sentence: hít đấtttt  -  Prediction: [0.88110006]  -  Label: Hate\n",
            "Sentence: \"\"  -  Prediction: [0.11401407]  -  Label: Clean\n",
            "Sentence: bịpp  -  Prediction: [0.14310214]  -  Label: Clean\n",
            "Sentence: hello waving_hand chú độ  -  Prediction: [1.0242492e-06]  -  Label: Clean\n"
          ]
        },
        {
          "output_type": "stream",
          "name": "stderr",
          "text": [
            "100%|██████████| 10/10 [00:00<00:00, 158.68it/s]\n"
          ]
        },
        {
          "output_type": "stream",
          "name": "stdout",
          "text": [
            "Wrote 10 messages into topic: streaming_real_time\n",
            "1/1 [==============================] - 0s 36ms/step\n",
            "Sentence: sủi kèo hít đất luôn  -  Prediction: [0.00365809]  -  Label: Clean\n",
            "Sentence: còn thiếu 5 cái hít đất anh ơi  -  Prediction: [0.02744748]  -  Label: Clean\n",
            "Sentence: lại lươn  -  Prediction: [0.09881067]  -  Label: Clean\n",
            "Sentence: thôi  -  Prediction: [0.01164948]  -  Label: Clean\n",
            "Sentence: hôm qua bảo không đi tập mà chú  -  Prediction: [0.00335825]  -  Label: Clean\n",
            "Sentence: hít đất anh  -  Prediction: [0.39510876]  -  Label: Clean\n",
            "Sentence: \"\"  -  Prediction: [0.11401407]  -  Label: Clean\n",
            "Sentence: lươn  -  Prediction: [0.14310214]  -  Label: Clean\n",
            "Sentence: \"\"  -  Prediction: [0.11401407]  -  Label: Clean\n",
            "Sentence: hít đất đi anh  -  Prediction: [0.18105735]  -  Label: Clean\n"
          ]
        },
        {
          "output_type": "stream",
          "name": "stderr",
          "text": [
            "100%|██████████| 10/10 [00:00<00:00, 75.61it/s]\n"
          ]
        },
        {
          "output_type": "stream",
          "name": "stdout",
          "text": [
            "Wrote 10 messages into topic: streaming_real_time\n",
            "1/1 [==============================] - 0s 39ms/step\n",
            "Sentence: \"\"  -  Prediction: [0.11401407]  -  Label: Clean\n",
            "Sentence: kissing_face_with_smiling_eyes kissing_face_with_smiling_eyes kissing_face_with_smiling_eyes kissing_face_with_smiling_eyes kissing_face_with_smiling_eyes  -  Prediction: [0.1624979]  -  Label: Clean\n",
            "Sentence: 50 cái hít đất đê  -  Prediction: [0.976192]  -  Label: Hate\n",
            "Sentence: phét  -  Prediction: [0.9788932]  -  Label: Hate\n",
            "Sentence: hít 50 cái đi anh  -  Prediction: [0.8296081]  -  Label: Hate\n",
            "Sentence: hít đất chú ơi  -  Prediction: [0.00661715]  -  Label: Clean\n",
            "Sentence: \"\"  -  Prediction: [0.11401407]  -  Label: Clean\n",
            "Sentence: đau không hít được rồi  -  Prediction: [0.00904568]  -  Label: Clean\n",
            "Sentence: sui  -  Prediction: [0.14310214]  -  Label: Clean\n",
            "Sentence: 50 cai hit dat anh oi  -  Prediction: [0.9891132]  -  Label: Hate\n"
          ]
        },
        {
          "output_type": "stream",
          "name": "stderr",
          "text": [
            "100%|██████████| 10/10 [00:00<00:00, 115.39it/s]\n"
          ]
        },
        {
          "output_type": "stream",
          "name": "stdout",
          "text": [
            "Wrote 10 messages into topic: streaming_real_time\n",
            "1/1 [==============================] - 0s 24ms/step\n",
            "Sentence: \"\"  -  Prediction: [0.11401407]  -  Label: Clean\n",
            "Sentence: hít đất đê anh độpppp  -  Prediction: [0.87211305]  -  Label: Hate\n",
            "Sentence: thooiiii  -  Prediction: [0.14310214]  -  Label: Clean\n",
            "Sentence: lô anh em  -  Prediction: [0.00650994]  -  Label: Clean\n",
            "Sentence: thôi anh đừng có lươn  -  Prediction: [0.00354759]  -  Label: Clean\n",
            "Sentence: bịp gòi  -  Prediction: [0.61946416]  -  Label: Hate\n",
            "Sentence: lại lươn rồi  -  Prediction: [0.01481579]  -  Label: Clean\n",
            "Sentence: thôi thôi  -  Prediction: [0.00126882]  -  Label: Clean\n",
            "Sentence: \"\"  -  Prediction: [0.11401407]  -  Label: Clean\n",
            "Sentence: chống đẩy anh ơii  -  Prediction: [1.8171684e-06]  -  Label: Clean\n"
          ]
        },
        {
          "output_type": "stream",
          "name": "stderr",
          "text": [
            "100%|██████████| 10/10 [00:00<00:00, 182.85it/s]\n"
          ]
        },
        {
          "output_type": "stream",
          "name": "stdout",
          "text": [
            "Wrote 10 messages into topic: streaming_real_time\n",
            "1/1 [==============================] - 0s 37ms/step\n",
            "Sentence: 50 cái hít đất chú ơi  -  Prediction: [0.67336065]  -  Label: Hate\n",
            "Sentence: \"\"  -  Prediction: [0.11401407]  -  Label: Clean\n",
            "Sentence: lại lí do  -  Prediction: [0.998933]  -  Label: Hate\n",
            "Sentence: lừa  -  Prediction: [0.06578729]  -  Label: Clean\n",
            "Sentence: diễn nữa  -  Prediction: [0.00016157]  -  Label: Clean\n",
            "Sentence: hít đất  -  Prediction: [0.59698546]  -  Label: Hate\n",
            "Sentence: hello anh em t là anti độ mixi  -  Prediction: [0.01295101]  -  Label: Clean\n",
            "Sentence: sủi nx  -  Prediction: [0.60973763]  -  Label: Hate\n",
            "Sentence: lươn  -  Prediction: [0.14310214]  -  Label: Clean\n",
            "Sentence: sủi hít đất  -  Prediction: [0.6604184]  -  Label: Hate\n"
          ]
        },
        {
          "output_type": "stream",
          "name": "stderr",
          "text": [
            "100%|██████████| 10/10 [00:00<00:00, 115.68it/s]\n"
          ]
        },
        {
          "output_type": "stream",
          "name": "stdout",
          "text": [
            "Wrote 10 messages into topic: streaming_real_time\n",
            "1/1 [==============================] - 0s 24ms/step\n",
            "Sentence: hit dat 50 cai  -  Prediction: [0.9673612]  -  Label: Hate\n",
            "Sentence: 50 cái chú ơi  -  Prediction: [0.00525967]  -  Label: Clean\n",
            "Sentence: vâng  -  Prediction: [0.13018437]  -  Label: Clean\n",
            "Sentence: hí lô  -  Prediction: [0.00048755]  -  Label: Clean\n",
            "Sentence: 50 cái hít đất  -  Prediction: [0.9423183]  -  Label: Hate\n",
            "Sentence: mmmm  -  Prediction: [0.14310214]  -  Label: Clean\n",
            "Sentence: khiếp  -  Prediction: [0.00322906]  -  Label: Clean\n",
            "Sentence: hít đất 50c  -  Prediction: [0.6004923]  -  Label: Hate\n",
            "Sentence: \"\"  -  Prediction: [0.11401407]  -  Label: Clean\n",
            "Sentence: nua nua  -  Prediction: [0.99587303]  -  Label: Hate\n"
          ]
        },
        {
          "output_type": "stream",
          "name": "stderr",
          "text": [
            "100%|██████████| 10/10 [00:00<00:00, 145.13it/s]\n"
          ]
        },
        {
          "output_type": "stream",
          "name": "stdout",
          "text": [
            "Wrote 10 messages into topic: streaming_real_time\n",
            "1/1 [==============================] - 0s 24ms/step\n",
            "Sentence: 50 cái chú ơiiiii  -  Prediction: [8.37572e-07]  -  Label: Clean\n",
            "Sentence: 50 hít đất  -  Prediction: [0.77665395]  -  Label: Hate\n",
            "Sentence: hứa thanh độ  -  Prediction: [0.00122945]  -  Label: Clean\n",
            "Sentence: 50 cái hít đát  -  Prediction: [0.95671594]  -  Label: Hate\n",
            "Sentence: hí anh độp  -  Prediction: [0.00038643]  -  Label: Clean\n",
            "Sentence: 50 cái hít đất  -  Prediction: [0.9423183]  -  Label: Hate\n",
            "Sentence: 50 cái hít đất đi anh  -  Prediction: [0.8952705]  -  Label: Hate\n",
            "Sentence: hí chú độpp aạaa  -  Prediction: [0.00030594]  -  Label: Clean\n",
            "Sentence: chào anh mixi  -  Prediction: [0.00224006]  -  Label: Clean\n",
            "Sentence: đây gòi  -  Prediction: [0.35419255]  -  Label: Clean\n"
          ]
        },
        {
          "output_type": "stream",
          "name": "stderr",
          "text": [
            "100%|██████████| 10/10 [00:00<00:00, 165.24it/s]\n"
          ]
        },
        {
          "output_type": "stream",
          "name": "stdout",
          "text": [
            "Wrote 10 messages into topic: streaming_real_time\n"
          ]
        }
      ]
    }
  ],
  "metadata": {
    "accelerator": "GPU",
    "colab": {
      "provenance": [],
      "gpuType": "T4"
    },
    "kernelspec": {
      "display_name": "Python 3",
      "name": "python3"
    }
  },
  "nbformat": 4,
  "nbformat_minor": 0
}