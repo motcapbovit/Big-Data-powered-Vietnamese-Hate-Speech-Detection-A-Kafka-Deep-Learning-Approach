{
  "nbformat": 4,
  "nbformat_minor": 0,
  "metadata": {
    "colab": {
      "provenance": [],
      "gpuType": "T4"
    },
    "kernelspec": {
      "name": "python3",
      "display_name": "Python 3"
    },
    "language_info": {
      "name": "python"
    },
    "accelerator": "GPU"
  },
  "cells": [
    {
      "cell_type": "code",
      "source": [
        "from google.colab import drive\n",
        "drive.mount('/content/drive')"
      ],
      "metadata": {
        "colab": {
          "base_uri": "https://localhost:8080/"
        },
        "id": "-WHSxowaZfnn",
        "outputId": "5d75ece7-6049-49e2-b6c8-a80330bd1052"
      },
      "execution_count": null,
      "outputs": [
        {
          "output_type": "stream",
          "name": "stdout",
          "text": [
            "Mounted at /content/drive\n"
          ]
        }
      ]
    },
    {
      "cell_type": "markdown",
      "source": [
        "# **INSTALL PACKAGE**"
      ],
      "metadata": {
        "id": "g0IwOgeX34ka"
      }
    },
    {
      "cell_type": "code",
      "execution_count": null,
      "metadata": {
        "colab": {
          "base_uri": "https://localhost:8080/"
        },
        "id": "Q4MuBuIfxH1W",
        "outputId": "3ed2e279-a75f-4eb2-ddf2-66c22aea986a"
      },
      "outputs": [
        {
          "output_type": "stream",
          "name": "stdout",
          "text": [
            "Collecting pytchat\n",
            "  Downloading pytchat-0.5.5-py3-none-any.whl (69 kB)\n",
            "\u001b[?25l     \u001b[90m━━━━━━━━━━━━━━━━━━━━━━━━━━━━━━━━━━━━━━━━\u001b[0m \u001b[32m0.0/69.5 kB\u001b[0m \u001b[31m?\u001b[0m eta \u001b[36m-:--:--\u001b[0m\r\u001b[2K     \u001b[90m━━━━━━━━━━━━━━━━━━━━━━━━━━━━━━━━━━━━━━━━\u001b[0m \u001b[32m69.5/69.5 kB\u001b[0m \u001b[31m7.7 MB/s\u001b[0m eta \u001b[36m0:00:00\u001b[0m\n",
            "\u001b[?25hCollecting httpx[http2] (from pytchat)\n",
            "  Downloading httpx-0.24.1-py3-none-any.whl (75 kB)\n",
            "\u001b[?25l     \u001b[90m━━━━━━━━━━━━━━━━━━━━━━━━━━━━━━━━━━━━━━━━\u001b[0m \u001b[32m0.0/75.4 kB\u001b[0m \u001b[31m?\u001b[0m eta \u001b[36m-:--:--\u001b[0m\r\u001b[2K     \u001b[90m━━━━━━━━━━━━━━━━━━━━━━━━━━━━━━━━━━━━━━━━\u001b[0m \u001b[32m75.4/75.4 kB\u001b[0m \u001b[31m7.0 MB/s\u001b[0m eta \u001b[36m0:00:00\u001b[0m\n",
            "\u001b[?25hRequirement already satisfied: certifi in /usr/local/lib/python3.10/dist-packages (from httpx[http2]->pytchat) (2023.5.7)\n",
            "Collecting httpcore<0.18.0,>=0.15.0 (from httpx[http2]->pytchat)\n",
            "  Downloading httpcore-0.17.3-py3-none-any.whl (74 kB)\n",
            "\u001b[2K     \u001b[90m━━━━━━━━━━━━━━━━━━━━━━━━━━━━━━━━━━━━━━━━\u001b[0m \u001b[32m74.5/74.5 kB\u001b[0m \u001b[31m9.1 MB/s\u001b[0m eta \u001b[36m0:00:00\u001b[0m\n",
            "\u001b[?25hRequirement already satisfied: idna in /usr/local/lib/python3.10/dist-packages (from httpx[http2]->pytchat) (3.4)\n",
            "Requirement already satisfied: sniffio in /usr/local/lib/python3.10/dist-packages (from httpx[http2]->pytchat) (1.3.0)\n",
            "Collecting h2<5,>=3 (from httpx[http2]->pytchat)\n",
            "  Downloading h2-4.1.0-py3-none-any.whl (57 kB)\n",
            "\u001b[2K     \u001b[90m━━━━━━━━━━━━━━━━━━━━━━━━━━━━━━━━━━━━━━━━\u001b[0m \u001b[32m57.5/57.5 kB\u001b[0m \u001b[31m7.8 MB/s\u001b[0m eta \u001b[36m0:00:00\u001b[0m\n",
            "\u001b[?25hCollecting hyperframe<7,>=6.0 (from h2<5,>=3->httpx[http2]->pytchat)\n",
            "  Downloading hyperframe-6.0.1-py3-none-any.whl (12 kB)\n",
            "Collecting hpack<5,>=4.0 (from h2<5,>=3->httpx[http2]->pytchat)\n",
            "  Downloading hpack-4.0.0-py3-none-any.whl (32 kB)\n",
            "Collecting h11<0.15,>=0.13 (from httpcore<0.18.0,>=0.15.0->httpx[http2]->pytchat)\n",
            "  Downloading h11-0.14.0-py3-none-any.whl (58 kB)\n",
            "\u001b[2K     \u001b[90m━━━━━━━━━━━━━━━━━━━━━━━━━━━━━━━━━━━━━━━━\u001b[0m \u001b[32m58.3/58.3 kB\u001b[0m \u001b[31m8.0 MB/s\u001b[0m eta \u001b[36m0:00:00\u001b[0m\n",
            "\u001b[?25hRequirement already satisfied: anyio<5.0,>=3.0 in /usr/local/lib/python3.10/dist-packages (from httpcore<0.18.0,>=0.15.0->httpx[http2]->pytchat) (3.7.1)\n",
            "Requirement already satisfied: exceptiongroup in /usr/local/lib/python3.10/dist-packages (from anyio<5.0,>=3.0->httpcore<0.18.0,>=0.15.0->httpx[http2]->pytchat) (1.1.2)\n",
            "Installing collected packages: hyperframe, hpack, h11, httpcore, h2, httpx, pytchat\n",
            "Successfully installed h11-0.14.0 h2-4.1.0 hpack-4.0.0 httpcore-0.17.3 httpx-0.24.1 hyperframe-6.0.1 pytchat-0.5.5\n"
          ]
        }
      ],
      "source": [
        "pip install pytchat"
      ]
    },
    {
      "cell_type": "markdown",
      "source": [
        "# **IMPORT LIBRARY**"
      ],
      "metadata": {
        "id": "HU1XyKmSZ_-P"
      }
    },
    {
      "cell_type": "code",
      "source": [
        "import pytchat\n",
        "import csv"
      ],
      "metadata": {
        "id": "-N2NRd1h4f0J"
      },
      "execution_count": null,
      "outputs": []
    },
    {
      "cell_type": "markdown",
      "source": [
        "# **CRAWL DATA**"
      ],
      "metadata": {
        "id": "UTGIP2Tk4gjA"
      }
    },
    {
      "cell_type": "code",
      "source": [
        "video_id = \"ZPPFX_VmcrU\"\n",
        "output_directory = \"/content/drive/MyDrive/[1] Học tập/[2022 - 2023] Học kỳ 2/DS200 - DỮ LIỆU LỚN/Đồ án/DATA/Real-time Data/Youtube Live Chat/\"\n",
        "comments_per_file = 10\n",
        "comment_count = 0\n",
        "file_count = 1"
      ],
      "metadata": {
        "id": "33FaccwYaHV2"
      },
      "execution_count": null,
      "outputs": []
    },
    {
      "cell_type": "code",
      "source": [
        "def create_csv_file(file_path):\n",
        "    with open(file_path, mode='w', newline='') as file:\n",
        "        writer = csv.writer(file)\n",
        "        writer.writerow([\"Datetime\", \"Author\", \"Message\"])\n",
        "    return file_path"
      ],
      "metadata": {
        "id": "cUyMEmuKbSlG"
      },
      "execution_count": null,
      "outputs": []
    },
    {
      "cell_type": "code",
      "source": [
        "chat = pytchat.create(video_id=video_id)\n",
        "output_path = create_csv_file(output_directory + f\"yt_chat_{file_count}.csv\")\n",
        "print(\"=================================\")\n",
        "print(\"CREATE FILE yt_chat_\" + str(file_count) + \".csv\")\n",
        "print(\"=================================\")\n",
        "while chat.is_alive():\n",
        "    for c in chat.get().sync_items():\n",
        "        comment_count += 1\n",
        "        print(f\"{c.datetime} [{c.author.name}]- {c.message}\")\n",
        "\n",
        "        # Ghi dữ liệu vào file CSV sau mỗi 100 comment\n",
        "        with open(output_path, mode='a', newline='') as file:\n",
        "            writer = csv.writer(file)\n",
        "            writer.writerow([c.datetime, c.author.name, c.message])\n",
        "\n",
        "        if comment_count % comments_per_file == 0:\n",
        "            file_count += 1\n",
        "            print(\"=================================\")\n",
        "            print(\"CREATE FILE yt_chat_\" + str(file_count) + \".csv\")\n",
        "            print(\"=================================\")\n",
        "            output_path = create_csv_file(output_directory + f\"yt_chat_{file_count}.csv\")"
      ],
      "metadata": {
        "colab": {
          "base_uri": "https://localhost:8080/"
        },
        "id": "kUhWelHdZWyn",
        "outputId": "5026c2ef-5b99-4f59-9093-106573d2a04d"
      },
      "execution_count": null,
      "outputs": [
        {
          "output_type": "stream",
          "name": "stdout",
          "text": [
            "=================================\n",
            "CREATE FILE yt_chat_1.csv\n",
            "=================================\n",
            "2023-07-18 15:44:56 [Datpato Le]- Out rừng rồi a Khánh ơi\n",
            "2023-07-18 15:45:01 [Tiến Lê]- slader chơi con nào\n",
            "2023-07-18 15:45:07 [Quốc Thắng Đặng]- rừng tối như hũ nút\n",
            "2023-07-18 15:45:07 [Nightbot]- vào group FB và Discord để giao lưu cùng Levi và mọi người :Group : https://www.facebook.com/groups/14435... : https://discord.gg/levi\n",
            "2023-07-18 15:45:08 [Minh Kun]- Ez giờ yếu vcl vẫn pick đc chịu\n",
            "2023-07-18 15:45:11 [Dũng Nguyễn Quang]- NHẠC lên\n",
            "2023-07-18 15:45:15 [Đức huy Phạm]- @Thành Nguyễn tại ổng lm bánh khéo á\n",
            "2023-07-18 15:45:16 [Huỳnh Đông]- thắng là nó hay , thua là tại anh Khánh Béo:)\n",
            "2023-07-18 15:45:27 [Đức Yasuo]- Yêun't anh Khánh béo\n",
            "2023-07-18 15:45:31 [Solitude]- anh khánh ơi, anh mua dùm em cái rìu đen đi\n",
            "=================================\n",
            "CREATE FILE yt_chat_2.csv\n",
            "=================================\n",
            "2023-07-18 15:45:31 [Huỳnh Đông]- thắng là nó hay , thua là tại anh Khánh Béo:)\n",
            "2023-07-18 15:45:33 [Anh Huỳnh]- cần sức mạnh tình bạn lúc này\n"
          ]
        }
      ]
    }
  ]
}